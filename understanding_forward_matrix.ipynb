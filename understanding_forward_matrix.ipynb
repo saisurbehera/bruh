{
 "cells": [
  {
   "cell_type": "code",
   "execution_count": 14,
   "id": "b8cb6ee6",
   "metadata": {},
   "outputs": [
    {
     "name": "stdout",
     "output_type": "stream",
     "text": [
      "Cargo.lock\r\n",
      "Cargo.toml\r\n",
      "LRI.md\r\n",
      "README.md\r\n",
      "Untitled.ipynb\r\n",
      "bayer_jpeg.md\r\n",
      "color_corrected_image_10bit.jpeg\r\n",
      "color_hdr.ipynb\r\n",
      "\u001b[1m\u001b[36mdata_files\u001b[m\u001b[m\r\n",
      "demosaicing.jpeg\r\n",
      "demosaicing_CFA_Bayer_DDFAPD.jpeg\r\n",
      "demosaicing_CFA_Bayer_DDFAPD_10bit.jpeg\r\n",
      "demosaicing_CFA_Bayer_DDFAPD_10bit.png\r\n",
      "demosaicing_CFA_Bayer_Malvar2004.jpeg\r\n",
      "demosaicing_CFA_Bayer_Menon2007.jpeg\r\n",
      "demosaicing_CFA_Bayer_Menon2007_BGGR.jpeg\r\n",
      "demosaicing_CFA_Bayer_bilinear.jpeg\r\n",
      "demosaicing_menon.jpeg\r\n",
      "demosaicked_image.jpeg\r\n",
      "demosaicked_image_bgg3rgb.jpeg\r\n",
      "demosaicked_image_gray.jpeg\r\n",
      "examples_merge_from_raw_files_with_post_demosaicing.ipynb\r\n",
      "final.jpeg\r\n",
      "final_image_menon.jpeg\r\n",
      "fix10bit.ipynb\r\n",
      "forward_matrix.jpeg\r\n",
      "forward_matrix_T.jpeg\r\n",
      "gamma.jpeg\r\n",
      "image_array8bit.jpeg\r\n",
      "json_data.json\r\n",
      "\u001b[1m\u001b[36mlightcal\u001b[m\u001b[m\r\n",
      "\u001b[1m\u001b[36mlri-proto\u001b[m\u001b[m\r\n",
      "\u001b[1m\u001b[36mlri-rs\u001b[m\u001b[m\r\n",
      "\u001b[1m\u001b[36mlri-study\u001b[m\u001b[m\r\n",
      "misc.ipynb\r\n",
      "mosaicing_CFA_Bayer.jpeg\r\n",
      "output_image.png\r\n",
      "\u001b[1m\u001b[36mprism\u001b[m\u001b[m\r\n",
      "process.jpeg\r\n",
      "process_color_inv_matrix.jpeg\r\n",
      "process_color_matrix.jpeg\r\n",
      "process_matrix.jpeg\r\n",
      "process_matrix_forward.jpeg\r\n",
      "raw.jpeg\r\n",
      "raw_16bit.jpeg\r\n",
      "raw_data.bin\r\n",
      "rust.jpeg\r\n",
      "specific_data.bin\r\n",
      "stitch.ipynb\r\n",
      "stitch_detailed.ipynb\r\n",
      "\u001b[1m\u001b[36mtarget\u001b[m\u001b[m\r\n",
      "understanding_calibration.ipynb\r\n",
      "understanding_forward_matrix.ipynb\r\n",
      "white_balanced.jpeg\r\n",
      "white_balanced_image.jpeg\r\n",
      "white_balanced_image_10bit.jpeg\r\n"
     ]
    }
   ],
   "source": [
    "!ls "
   ]
  },
  {
   "cell_type": "code",
   "execution_count": 20,
   "id": "00c36460",
   "metadata": {},
   "outputs": [
    {
     "name": "stdout",
     "output_type": "stream",
     "text": [
      "<class 'numpy.ndarray'>\n"
     ]
    }
   ],
   "source": [
    "import cv2\n",
    "image = cv2.imread(\"../degree.jpeg\")\n",
    "print(type(im))"
   ]
  },
  {
   "cell_type": "code",
   "execution_count": 5,
   "id": "50987927",
   "metadata": {},
   "outputs": [
    {
     "data": {
      "text/plain": [
       "(2904, 3872, 3)"
      ]
     },
     "execution_count": 5,
     "metadata": {},
     "output_type": "execute_result"
    }
   ],
   "source": [
    "im.shape"
   ]
  },
  {
   "cell_type": "code",
   "execution_count": 26,
   "id": "167ce0cc",
   "metadata": {},
   "outputs": [],
   "source": [
    "from numpy.linalg import inv\n",
    "import numpy as np\n",
    "forward_matrix = np.array([[ 0.8681334 ,  0.15782288, -0.06173634],\n",
    "       [ 0.29942137,  1.0843414 , -0.3837628 ],\n",
    "       [-0.04755058, -0.4467093 ,  1.3194698 ]])\n",
    "forward_matrix_inv = inv(forward_matrix)"
   ]
  },
  {
   "cell_type": "code",
   "execution_count": 18,
   "id": "4ab06dc8",
   "metadata": {},
   "outputs": [
    {
     "data": {
      "text/plain": [
       "array([[ 1.21221338, -0.17390559,  0.00613816],\n",
       "       [-0.36273195,  1.09979725,  0.3029001 ],\n",
       "       [-0.07911836,  0.36607155,  0.86064885]])"
      ]
     },
     "execution_count": 18,
     "metadata": {},
     "output_type": "execute_result"
    }
   ],
   "source": [
    "forward_matrix_inv"
   ]
  },
  {
   "cell_type": "code",
   "execution_count": 19,
   "id": "b025dd0a",
   "metadata": {},
   "outputs": [
    {
     "data": {
      "text/plain": [
       "True"
      ]
     },
     "execution_count": 19,
     "metadata": {},
     "output_type": "execute_result"
    }
   ],
   "source": [
    "cv2.imwrite(\"goose_lri_check.jpeg\",im)"
   ]
  },
  {
   "cell_type": "code",
   "execution_count": 28,
   "id": "66055bbc",
   "metadata": {},
   "outputs": [
    {
     "data": {
      "text/plain": [
       "array([[ 0.8681334 ,  0.15782288, -0.06173634],\n",
       "       [ 0.29942137,  1.0843414 , -0.3837628 ],\n",
       "       [-0.04755058, -0.4467093 ,  1.3194698 ]])"
      ]
     },
     "execution_count": 28,
     "metadata": {},
     "output_type": "execute_result"
    }
   ],
   "source": [
    "forward_matrix"
   ]
  },
  {
   "cell_type": "code",
   "execution_count": 33,
   "id": "71e3253c",
   "metadata": {},
   "outputs": [],
   "source": [
    "reverse = np.dot(image, np.linalg.inv(forward_matrix.T))"
   ]
  },
  {
   "cell_type": "code",
   "execution_count": 34,
   "id": "9fe30d57",
   "metadata": {},
   "outputs": [
    {
     "data": {
      "text/plain": [
       "True"
      ]
     },
     "execution_count": 34,
     "metadata": {},
     "output_type": "execute_result"
    }
   ],
   "source": [
    "cv2.imwrite(\"goose_lri_check_inverse.jpeg\",reverse)"
   ]
  },
  {
   "cell_type": "code",
   "execution_count": null,
   "id": "cafd2cb3",
   "metadata": {},
   "outputs": [],
   "source": []
  },
  {
   "cell_type": "code",
   "execution_count": null,
   "id": "b514a8ec",
   "metadata": {},
   "outputs": [],
   "source": []
  },
  {
   "cell_type": "code",
   "execution_count": 27,
   "id": "bf78af19",
   "metadata": {},
   "outputs": [
    {
     "ename": "RuntimeError",
     "evalue": "affine matrix has wrong number of columns",
     "output_type": "error",
     "traceback": [
      "\u001b[0;31m---------------------------------------------------------------------------\u001b[0m",
      "\u001b[0;31mRuntimeError\u001b[0m                              Traceback (most recent call last)",
      "Cell \u001b[0;32mIn[27], line 7\u001b[0m\n\u001b[1;32m      3\u001b[0m \u001b[38;5;28;01mfrom\u001b[39;00m \u001b[38;5;21;01mscipy\u001b[39;00m\u001b[38;5;21;01m.\u001b[39;00m\u001b[38;5;21;01mndimage\u001b[39;00m \u001b[38;5;28;01mimport\u001b[39;00m affine_transform\n\u001b[1;32m      4\u001b[0m \u001b[38;5;66;03m# scale_factor = 2\u001b[39;00m\n\u001b[1;32m      5\u001b[0m \u001b[38;5;66;03m# forward_matrix = np.array([[scale_factor, 0], [0, scale_factor]])\u001b[39;00m\n\u001b[0;32m----> 7\u001b[0m transformed_image \u001b[38;5;241m=\u001b[39m \u001b[43maffine_transform\u001b[49m\u001b[43m(\u001b[49m\u001b[43mimage\u001b[49m\u001b[43m,\u001b[49m\u001b[43m \u001b[49m\u001b[43mnp\u001b[49m\u001b[38;5;241;43m.\u001b[39;49m\u001b[43mlinalg\u001b[49m\u001b[38;5;241;43m.\u001b[39;49m\u001b[43minv\u001b[49m\u001b[43m(\u001b[49m\u001b[43mforward_matrix\u001b[49m\u001b[43m)\u001b[49m\u001b[43m,\u001b[49m\u001b[43m \u001b[49m\u001b[43moutput_shape\u001b[49m\u001b[38;5;241;43m=\u001b[39;49m\u001b[43m(\u001b[49m\u001b[43mimage\u001b[49m\u001b[38;5;241;43m.\u001b[39;49m\u001b[43mshape\u001b[49m\u001b[43m[\u001b[49m\u001b[38;5;241;43m0\u001b[39;49m\u001b[43m]\u001b[49m\u001b[43m,\u001b[49m\u001b[43m \u001b[49m\u001b[43mimage\u001b[49m\u001b[38;5;241;43m.\u001b[39;49m\u001b[43mshape\u001b[49m\u001b[43m[\u001b[49m\u001b[38;5;241;43m1\u001b[39;49m\u001b[43m]\u001b[49m\u001b[43m)\u001b[49m\u001b[43m)\u001b[49m\n\u001b[1;32m      9\u001b[0m \u001b[38;5;66;03m# Visualize the result\u001b[39;00m\n\u001b[1;32m     10\u001b[0m plt\u001b[38;5;241m.\u001b[39mfigure(figsize\u001b[38;5;241m=\u001b[39m(\u001b[38;5;241m10\u001b[39m, \u001b[38;5;241m5\u001b[39m))\n",
      "File \u001b[0;32m/opt/homebrew/anaconda3/envs/cv/lib/python3.8/site-packages/scipy/ndimage/interpolation.py:593\u001b[0m, in \u001b[0;36maffine_transform\u001b[0;34m(input, matrix, offset, output_shape, output, order, mode, cval, prefilter)\u001b[0m\n\u001b[1;32m    591\u001b[0m     \u001b[38;5;28;01mraise\u001b[39;00m \u001b[38;5;167;01mRuntimeError\u001b[39;00m(\u001b[38;5;124m'\u001b[39m\u001b[38;5;124maffine matrix has wrong number of rows\u001b[39m\u001b[38;5;124m'\u001b[39m)\n\u001b[1;32m    592\u001b[0m \u001b[38;5;28;01mif\u001b[39;00m matrix\u001b[38;5;241m.\u001b[39mndim \u001b[38;5;241m==\u001b[39m \u001b[38;5;241m2\u001b[39m \u001b[38;5;129;01mand\u001b[39;00m matrix\u001b[38;5;241m.\u001b[39mshape[\u001b[38;5;241m1\u001b[39m] \u001b[38;5;241m!=\u001b[39m output\u001b[38;5;241m.\u001b[39mndim:\n\u001b[0;32m--> 593\u001b[0m     \u001b[38;5;28;01mraise\u001b[39;00m \u001b[38;5;167;01mRuntimeError\u001b[39;00m(\u001b[38;5;124m'\u001b[39m\u001b[38;5;124maffine matrix has wrong number of columns\u001b[39m\u001b[38;5;124m'\u001b[39m)\n\u001b[1;32m    594\u001b[0m \u001b[38;5;28;01mif\u001b[39;00m \u001b[38;5;129;01mnot\u001b[39;00m matrix\u001b[38;5;241m.\u001b[39mflags\u001b[38;5;241m.\u001b[39mcontiguous:\n\u001b[1;32m    595\u001b[0m     matrix \u001b[38;5;241m=\u001b[39m matrix\u001b[38;5;241m.\u001b[39mcopy()\n",
      "\u001b[0;31mRuntimeError\u001b[0m: affine matrix has wrong number of columns"
     ]
    }
   ],
   "source": [
    "import numpy as np\n",
    "import matplotlib.pyplot as plt\n",
    "from scipy.ndimage import affine_transform\n",
    "# scale_factor = 2\n",
    "# forward_matrix = np.array([[scale_factor, 0], [0, scale_factor]])\n",
    "\n",
    "transformed_image = affine_transform(image, np.linalg.inv(forward_matrix), output_shape=(image.shape[0], image.shape[1]))\n",
    "\n",
    "# Visualize the result\n",
    "plt.figure(figsize=(10, 5))\n",
    "plt.subplot(1, 2, 1)\n",
    "plt.imshow(image, cmap='gray')\n",
    "plt.title('Original Image')\n",
    "plt.subplot(1, 2, 2)\n",
    "plt.imshow(transformed_image, cmap='gray')\n",
    "plt.title('Transformed Image')\n",
    "plt.show()"
   ]
  },
  {
   "cell_type": "code",
   "execution_count": null,
   "id": "129f4948",
   "metadata": {},
   "outputs": [],
   "source": []
  }
 ],
 "metadata": {
  "kernelspec": {
   "display_name": "cv",
   "language": "python",
   "name": "cv"
  },
  "language_info": {
   "codemirror_mode": {
    "name": "ipython",
    "version": 3
   },
   "file_extension": ".py",
   "mimetype": "text/x-python",
   "name": "python",
   "nbconvert_exporter": "python",
   "pygments_lexer": "ipython3",
   "version": "3.8.6"
  }
 },
 "nbformat": 4,
 "nbformat_minor": 5
}
