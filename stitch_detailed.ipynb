{
 "cells": [
  {
   "cell_type": "code",
   "execution_count": 2,
   "id": "0916683c-8133-4310-a36e-f7b8ac0bb4e4",
   "metadata": {},
   "outputs": [
    {
     "name": "stdout",
     "output_type": "stream",
     "text": [
      "B1.png\tB3.png\tB5.png\tC2.png\tC4.png\tC6.png\n",
      "B2.png\tB4.png\tC1.png\tC3.png\tC5.png\n"
     ]
    }
   ],
   "source": [
    "!ls goose"
   ]
  },
  {
   "cell_type": "code",
   "execution_count": 2,
   "id": "183f6d8e-cc7b-4789-94d7-59738c206ca9",
   "metadata": {},
   "outputs": [],
   "source": [
    "import cv2\n",
    "import numpy as np\n",
    "\n",
    "# Load images\n",
    "image1 = cv2.imread('goose/B1.png')\n",
    "image2 = cv2.imread('goose/B2.png')\n",
    "\n",
    "# Convert images to grayscale\n",
    "gray1 = cv2.cvtColor(image1, cv2.COLOR_BGR2GRAY)\n",
    "gray2 = cv2.cvtColor(image2, cv2.COLOR_BGR2GRAY)\n",
    "\n",
    "# Initialize SIFT detector\n",
    "sift = cv2.SIFT_create()\n",
    "\n",
    "# Detect SIFT features and compute descriptors.\n",
    "keypoints1, descriptors1 = sift.detectAndCompute(gray1, None)\n",
    "keypoints2, descriptors2 = sift.detectAndCompute(gray2, None)\n",
    "\n",
    "# Initialize and use BFMatcher\n",
    "bf = cv2.BFMatcher(cv2.NORM_L2, crossCheck=True)\n",
    "matches = bf.match(descriptors1, descriptors2)\n",
    "\n",
    "# Sort matches by distance (best matches first)\n",
    "matches = sorted(matches, key=lambda x:x.distance)\n",
    "\n",
    "# Extract location of good matches\n",
    "points1 = np.zeros((len(matches), 2), dtype=np.float32)\n",
    "points2 = np.zeros((len(matches), 2), dtype=np.float32)\n",
    "\n",
    "for i, match in enumerate(matches):\n",
    "    points1[i, :] = keypoints1[match.queryIdx].pt\n",
    "    points2[i, :] = keypoints2[match.trainIdx].pt\n",
    "\n",
    "# Find homography using RANSAC\n",
    "H, status = cv2.findHomography(points1, points2, cv2.RANSAC)\n",
    "\n",
    "# You can use H to transform points from image1 to image2's perspective, or vice-versa.\n",
    "# For example, to warp image1 to image2's perspective:\n",
    "warped_image1 = cv2.warpPerspective(image1, H, (image2.shape[1], image2.shape[0]))\n",
    "\n",
    "# cv2.imshow('Warped Image', warped_image1)\n",
    "# cv2.waitKey(0)\n",
    "# cv2.destroyAllWindows()\n"
   ]
  },
  {
   "cell_type": "code",
   "execution_count": 3,
   "id": "6fefc93b-6914-46cc-969b-f243183de7a9",
   "metadata": {},
   "outputs": [],
   "source": [
    "import cv2\n",
    "\n",
    "def resize_image_to_fit_screen(image, screen_width=1720, screen_height=1440):\n",
    "    # Calculate the target size to maintain aspect ratio\n",
    "    height, width = image.shape[:2]\n",
    "    scale_width = screen_width / width\n",
    "    scale_height = screen_height / height\n",
    "    scale = min(scale_width, scale_height)\n",
    "    \n",
    "    # Calculate the new dimensions\n",
    "    new_width = int(width * scale)\n",
    "    new_height = int(height * scale)\n",
    "    \n",
    "    # Resize the image\n",
    "    resized_image = cv2.resize(image, (new_width, new_height))\n",
    "    return resized_image"
   ]
  },
  {
   "cell_type": "code",
   "execution_count": 4,
   "id": "68691010-8a5e-40b8-8136-36cc42aec254",
   "metadata": {},
   "outputs": [],
   "source": [
    "resized_image = resize_image_to_fit_screen(warped_image1, 170, 140) # Adjust these values as per your monitor's resolution and desired size\n"
   ]
  },
  {
   "cell_type": "code",
   "execution_count": 6,
   "id": "8ced56c4-2b7d-4a6e-80c2-704259367f92",
   "metadata": {},
   "outputs": [
    {
     "data": {
      "text/plain": [
       "True"
      ]
     },
     "execution_count": 6,
     "metadata": {},
     "output_type": "execute_result"
    }
   ],
   "source": [
    "cv2.imwrite('resized_image_image.png', warped_image1)"
   ]
  },
  {
   "cell_type": "code",
   "execution_count": null,
   "id": "db03c079-9323-406d-be8e-a8948ef36c18",
   "metadata": {},
   "outputs": [],
   "source": [
    "cv2.imshow('Resized Image', warped_image1)\n",
    "cv2.waitKey(0)\n",
    "cv2.destroyAllWindows()\n"
   ]
  },
  {
   "cell_type": "code",
   "execution_count": 9,
   "id": "544e6433-29c1-4992-b450-2a41fb686106",
   "metadata": {},
   "outputs": [
    {
     "data": {
      "text/plain": [
       "16224032"
      ]
     },
     "execution_count": 9,
     "metadata": {},
     "output_type": "execute_result"
    }
   ],
   "source": [
    "32 + 3120*5200"
   ]
  },
  {
   "cell_type": "code",
   "execution_count": null,
   "id": "c8d2123b-b0a0-41e9-b97e-64753c1ea6d1",
   "metadata": {},
   "outputs": [],
   "source": [
    "16228384-"
   ]
  }
 ],
 "metadata": {
  "kernelspec": {
   "display_name": "Python 3 (ipykernel)",
   "language": "python",
   "name": "python3"
  },
  "language_info": {
   "codemirror_mode": {
    "name": "ipython",
    "version": 3
   },
   "file_extension": ".py",
   "mimetype": "text/x-python",
   "name": "python",
   "nbconvert_exporter": "python",
   "pygments_lexer": "ipython3",
   "version": "3.10.12"
  }
 },
 "nbformat": 4,
 "nbformat_minor": 5
}
