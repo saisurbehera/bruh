{
 "cells": [
  {
   "cell_type": "code",
   "execution_count": 1,
   "id": "8ff8c9dd",
   "metadata": {},
   "outputs": [
    {
     "name": "stdout",
     "output_type": "stream",
     "text": [
      "Cargo.lock\r\n",
      "Cargo.toml\r\n",
      "LRI.md\r\n",
      "README.md\r\n",
      "Untitled.ipynb\r\n",
      "bayer_jpeg.md\r\n",
      "color_corrected_image_10bit.jpeg\r\n",
      "color_hdr.ipynb\r\n",
      "\u001b[1m\u001b[36mdata_files\u001b[m\u001b[m\r\n",
      "demosaicing.jpeg\r\n",
      "demosaicing_CFA_Bayer_DDFAPD.jpeg\r\n",
      "demosaicing_CFA_Bayer_DDFAPD_10bit.jpeg\r\n",
      "demosaicing_CFA_Bayer_DDFAPD_10bit.png\r\n",
      "demosaicing_CFA_Bayer_Malvar2004.jpeg\r\n",
      "demosaicing_CFA_Bayer_Menon2007.jpeg\r\n",
      "demosaicing_CFA_Bayer_Menon2007_BGGR.jpeg\r\n",
      "demosaicing_CFA_Bayer_bilinear.jpeg\r\n",
      "demosaicing_menon.jpeg\r\n",
      "demosaicked_image.jpeg\r\n",
      "demosaicked_image_bgg3rgb.jpeg\r\n",
      "demosaicked_image_gray.jpeg\r\n",
      "examples_merge_from_raw_files_with_post_demosaicing.ipynb\r\n",
      "final.jpeg\r\n",
      "final_image_menon.jpeg\r\n",
      "fix10bit.ipynb\r\n",
      "forward_matrix.jpeg\r\n",
      "forward_matrix_T.jpeg\r\n",
      "gamma.jpeg\r\n",
      "image_array8bit.jpeg\r\n",
      "json_data.json\r\n",
      "\u001b[1m\u001b[36mlightcal\u001b[m\u001b[m\r\n",
      "\u001b[1m\u001b[36mlri-proto\u001b[m\u001b[m\r\n",
      "\u001b[1m\u001b[36mlri-rs\u001b[m\u001b[m\r\n",
      "\u001b[1m\u001b[36mlri-study\u001b[m\u001b[m\r\n",
      "misc.ipynb\r\n",
      "mosaicing_CFA_Bayer.jpeg\r\n",
      "output_image.png\r\n",
      "\u001b[1m\u001b[36mprism\u001b[m\u001b[m\r\n",
      "process.jpeg\r\n",
      "process_color_inv_matrix.jpeg\r\n",
      "process_color_matrix.jpeg\r\n",
      "process_matrix.jpeg\r\n",
      "process_matrix_forward.jpeg\r\n",
      "raw.jpeg\r\n",
      "raw_16bit.jpeg\r\n",
      "raw_data.bin\r\n",
      "rust.jpeg\r\n",
      "specific_data.bin\r\n",
      "stitch.ipynb\r\n",
      "stitch_detailed.ipynb\r\n",
      "\u001b[1m\u001b[36mtarget\u001b[m\u001b[m\r\n",
      "understanding_calibration.ipynb\r\n",
      "white_balanced.jpeg\r\n",
      "white_balanced_image.jpeg\r\n",
      "white_balanced_image_10bit.jpeg\r\n"
     ]
    }
   ],
   "source": [
    "from colour_hdri.matrix_camera_space_to_XYZ"
   ]
  },
  {
   "cell_type": "code",
   "execution_count": null,
   "id": "8bb87b49",
   "metadata": {},
   "outputs": [],
   "source": []
  }
 ],
 "metadata": {
  "kernelspec": {
   "display_name": "cv",
   "language": "python",
   "name": "cv"
  },
  "language_info": {
   "codemirror_mode": {
    "name": "ipython",
    "version": 3
   },
   "file_extension": ".py",
   "mimetype": "text/x-python",
   "name": "python",
   "nbconvert_exporter": "python",
   "pygments_lexer": "ipython3",
   "version": "3.8.6"
  }
 },
 "nbformat": 4,
 "nbformat_minor": 5
}
