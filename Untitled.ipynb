{
 "cells": [
  {
   "cell_type": "code",
   "execution_count": 297,
   "id": "be7d9584-257f-40d1-83d8-09a1a27d9f9f",
   "metadata": {},
   "outputs": [],
   "source": [
    "def read_binary_file(filepath):\n",
    "    with open(filepath, \"rb\") as file:\n",
    "        content = file.read()\n",
    "    return content\n",
    "\n",
    "\n"
   ]
  },
  {
   "cell_type": "code",
   "execution_count": 298,
   "id": "80e47cd5-63a0-46ef-bc26-83c5c6c1c4c0",
   "metadata": {},
   "outputs": [
    {
     "name": "stdout",
     "output_type": "stream",
     "text": [
      "ls: ../lrifiles/: No such file or directory\r\n"
     ]
    }
   ],
   "source": [
    "!ls ../lrifiles/"
   ]
  },
  {
   "cell_type": "code",
   "execution_count": 299,
   "id": "9b778b5c-d494-43f6-86fa-e600bf300148",
   "metadata": {},
   "outputs": [
    {
     "ename": "FileNotFoundError",
     "evalue": "[Errno 2] No such file or directory: '../lrifiles/L16_00001.lri'",
     "output_type": "error",
     "traceback": [
      "\u001b[0;31m---------------------------------------------------------------------------\u001b[0m",
      "\u001b[0;31mFileNotFoundError\u001b[0m                         Traceback (most recent call last)",
      "\u001b[0;32m<ipython-input-299-0a4cde6660d4>\u001b[0m in \u001b[0;36m<module>\u001b[0;34m\u001b[0m\n\u001b[1;32m      1\u001b[0m \u001b[0mfilepath\u001b[0m \u001b[0;34m=\u001b[0m \u001b[0;34m\"../lrifiles/L16_00001.lri\"\u001b[0m\u001b[0;34m\u001b[0m\u001b[0;34m\u001b[0m\u001b[0m\n\u001b[0;32m----> 2\u001b[0;31m \u001b[0mbinary_content\u001b[0m \u001b[0;34m=\u001b[0m \u001b[0mread_binary_file\u001b[0m\u001b[0;34m(\u001b[0m\u001b[0mfilepath\u001b[0m\u001b[0;34m)\u001b[0m\u001b[0;34m\u001b[0m\u001b[0;34m\u001b[0m\u001b[0m\n\u001b[0m\u001b[1;32m      3\u001b[0m \u001b[0;31m# print(binary_content)\u001b[0m\u001b[0;34m\u001b[0m\u001b[0;34m\u001b[0m\u001b[0;34m\u001b[0m\u001b[0m\n",
      "\u001b[0;32m<ipython-input-297-ed495d34d5b4>\u001b[0m in \u001b[0;36mread_binary_file\u001b[0;34m(filepath)\u001b[0m\n\u001b[1;32m      1\u001b[0m \u001b[0;32mdef\u001b[0m \u001b[0mread_binary_file\u001b[0m\u001b[0;34m(\u001b[0m\u001b[0mfilepath\u001b[0m\u001b[0;34m)\u001b[0m\u001b[0;34m:\u001b[0m\u001b[0;34m\u001b[0m\u001b[0;34m\u001b[0m\u001b[0m\n\u001b[0;32m----> 2\u001b[0;31m     \u001b[0;32mwith\u001b[0m \u001b[0mopen\u001b[0m\u001b[0;34m(\u001b[0m\u001b[0mfilepath\u001b[0m\u001b[0;34m,\u001b[0m \u001b[0;34m\"rb\"\u001b[0m\u001b[0;34m)\u001b[0m \u001b[0;32mas\u001b[0m \u001b[0mfile\u001b[0m\u001b[0;34m:\u001b[0m\u001b[0;34m\u001b[0m\u001b[0;34m\u001b[0m\u001b[0m\n\u001b[0m\u001b[1;32m      3\u001b[0m         \u001b[0mcontent\u001b[0m \u001b[0;34m=\u001b[0m \u001b[0mfile\u001b[0m\u001b[0;34m.\u001b[0m\u001b[0mread\u001b[0m\u001b[0;34m(\u001b[0m\u001b[0;34m)\u001b[0m\u001b[0;34m\u001b[0m\u001b[0;34m\u001b[0m\u001b[0m\n\u001b[1;32m      4\u001b[0m     \u001b[0;32mreturn\u001b[0m \u001b[0mcontent\u001b[0m\u001b[0;34m\u001b[0m\u001b[0;34m\u001b[0m\u001b[0m\n\u001b[1;32m      5\u001b[0m \u001b[0;34m\u001b[0m\u001b[0m\n",
      "\u001b[0;31mFileNotFoundError\u001b[0m: [Errno 2] No such file or directory: '../lrifiles/L16_00001.lri'"
     ]
    }
   ],
   "source": [
    "filepath = \"../lrifiles/L16_00001.lri\"\n",
    "binary_content = read_binary_file(filepath)\n",
    "# print(binary_content)"
   ]
  },
  {
   "cell_type": "code",
   "execution_count": null,
   "id": "b854689c-55d3-4c00-8360-51c1680e8ed8",
   "metadata": {},
   "outputs": [],
   "source": [
    "import sys\n",
    "import os\n",
    "import struct\n",
    "\n",
    "# Enumerate your BlockTypes in Python to match the Rust definition\n",
    "class BlockType:\n",
    "    LightHeader = 0\n",
    "    ViewPreferences = 1\n",
    "    GPSData = 2\n",
    "    # Add other types as needed\n",
    "\n",
    "# Function to parse the custom header\n",
    "def parse_header(data):\n",
    "    magic = b\"LELR\"\n",
    "    if data[:4] != magic:\n",
    "        raise ValueError(\"Magic number is incorrect\")\n",
    "\n",
    "    combined_length, message_offset, message_length = struct.unpack('<QQL', data[4:24])\n",
    "    kind = data[24]\n",
    "\n",
    "    if kind == BlockType.LightHeader:\n",
    "        message_type = \"lightheader_pb2.LightHeader\"\n",
    "    elif kind == BlockType.ViewPreferences:\n",
    "        message_type = \"view_preferences_pb2.ViewPreferences\"\n",
    "    elif kind == BlockType.GPSData:\n",
    "        message_type = \"gps_data_pb2.GPSData\"\n",
    "    else:\n",
    "        raise ValueError(f\"Unknown block type {kind}\")\n",
    "\n",
    "    return combined_length, message_offset, message_length, message_type\n",
    "\n",
    "# Dynamic import of protobuf types\n",
    "def import_protobuf_module(module_name):\n",
    "    sys.path.append(os.path.abspath('lri-proto/python_bindings'))\n",
    "    module = __import__(module_name, fromlist=[''])\n",
    "    return module\n",
    "from google.protobuf.json_format import MessageToJson\n",
    "# Main function to read and parse the binary file\n",
    "def ingest_binary_file(file_path):\n",
    "    with open(file_path, 'rb') as file:\n",
    "        binary_data = file.read()\n",
    "\n",
    "    # Parse the header to get message details\n",
    "    combined_length, message_offset, message_length, message_type = parse_header(binary_data)\n",
    "    print(combined_length)\n",
    "    # Dynamic import of the protobuf module based on the header\n",
    "    module_name, class_name = message_type.rsplit('.', 1)\n",
    "    protobuf_module = import_protobuf_module(module_name)\n",
    "    message_class = getattr(protobuf_module, class_name)\n",
    "\n",
    "    # Deserialize the protobuf message\n",
    "    message = message_class()\n",
    "    message.ParseFromString(binary_data[message_offset:message_offset+message_length])\n",
    "\n",
    "    # Here you can now work with the deserialized protobuf message\n",
    "    message_json = MessageToJson(message)\n",
    "    # print(message_json)\n",
    "    return message_json\n",
    "\n",
    "# Replace 'path/to/your/binary/file.bin' with the actual path to your binary file\n",
    "# ingest_binary_file('path/to/your/binary/file.bin')\n"
   ]
  },
  {
   "cell_type": "code",
   "execution_count": null,
   "id": "671f1dab-cacf-4949-a569-6d2dd732fc7a",
   "metadata": {},
   "outputs": [],
   "source": [
    "!ls lri-proto/proto"
   ]
  },
  {
   "cell_type": "code",
   "execution_count": null,
   "id": "a57ec0c3-1010-4b5a-a468-c88d7b74bf5e",
   "metadata": {},
   "outputs": [],
   "source": [
    "!ls lri-proto/python_bindings\n"
   ]
  },
  {
   "cell_type": "code",
   "execution_count": null,
   "id": "2d97d134-ba03-4930-867e-93f777fd7ec0",
   "metadata": {},
   "outputs": [],
   "source": [
    "combined_length, message_offset, message_length, message_type = parse_header(binary_content)\n",
    "combined_length, message_offset, message_length, message_type"
   ]
  },
  {
   "cell_type": "code",
   "execution_count": null,
   "id": "089d64eb-a84d-49b4-85f8-5e2a728f462c",
   "metadata": {},
   "outputs": [],
   "source": [
    "data_loc = \"../lrifiles/goose.lri\"\n",
    "\n",
    "with open(data_loc, 'rb') as file:\n",
    "    binary_data = file.read()\n",
    "\n",
    "# Parse the header to get message details\n",
    "combined_length, message_offset, message_length, message_type = parse_header(binary_data)\n",
    "print(combined_length)\n",
    "# Dynamic import of the protobuf module based on the header\n",
    "module_name, class_name = message_type.rsplit('.', 1)\n",
    "protobuf_module = import_protobuf_module(module_name)\n",
    "message_class = getattr(protobuf_module, class_name)\n",
    "\n",
    "# Deserialize the protobuf message\n",
    "message = message_class()\n",
    "message.ParseFromString(binary_data[message_offset:message_offset+message_length])\n",
    "\n",
    "# Here you can now work with the deserialized protobuf message\n",
    "message_json = MessageToJson(message)\n",
    "    # print(message_json)\n",
    "    # return message_json"
   ]
  },
  {
   "cell_type": "code",
   "execution_count": null,
   "id": "cf478b7f-ab71-4089-8d31-078cc116d811",
   "metadata": {},
   "outputs": [],
   "source": [
    "protobuf_module = import_protobuf_module(module_name)\n",
    "message_class = getattr(protobuf_module, class_name)\n",
    "\n",
    "message_jsonmessage = message_class()\n",
    "message.ParseFromString(binary_data[32:])\n",
    "message_json = MessageToJson(message)\n",
    "message_json"
   ]
  },
  {
   "cell_type": "code",
   "execution_count": null,
   "id": "8279546b-341d-457f-a965-dfbceb2b3e28",
   "metadata": {},
   "outputs": [],
   "source": [
    "import json\n",
    "x = json.loads(ingest_binary_file(data_loc))"
   ]
  },
  {
   "cell_type": "code",
   "execution_count": null,
   "id": "57442942-1519-498b-bf3a-b7e28ce03a97",
   "metadata": {},
   "outputs": [],
   "source": [
    "x[\"modules\"][0][\"sensorDataSurface\"]#[\"dataOffset\"]"
   ]
  },
  {
   "cell_type": "code",
   "execution_count": null,
   "id": "61242250-d93a-4325-832a-7f632a8065ce",
   "metadata": {},
   "outputs": [],
   "source": [
    "x[\"modules\"][1][\"sensorDataSurface\"]#[\"dataOffset\"]"
   ]
  },
  {
   "cell_type": "code",
   "execution_count": null,
   "id": "a7637a44-b5c0-4bf6-8466-cdd225a4aefd",
   "metadata": {},
   "outputs": [],
   "source": [
    "x"
   ]
  },
  {
   "cell_type": "code",
   "execution_count": null,
   "id": "9efc8338-7665-4774-aeb5-b7ed71513497",
   "metadata": {},
   "outputs": [],
   "source": [
    "x"
   ]
  },
  {
   "cell_type": "markdown",
   "id": "59b183fa-62ef-4895-ba3c-8002c1c7b52f",
   "metadata": {},
   "source": [
    "## Header"
   ]
  },
  {
   "cell_type": "code",
   "execution_count": null,
   "id": "e65b01af-d1a4-4534-9b42-c96c5d841a85",
   "metadata": {},
   "outputs": [],
   "source": [
    "sys.path.insert(1, 'lri-proto/python_bindings')"
   ]
  },
  {
   "cell_type": "code",
   "execution_count": null,
   "id": "58539210-96a9-4bc1-982c-c1be42773d2d",
   "metadata": {},
   "outputs": [],
   "source": [
    "import lightheader_pb2 \n",
    "\n",
    "import camera_module_pb2 as camera__module__pb2\n",
    "import camera_id_pb2 as camera__id__pb2\n",
    "import time_stamp_pb2 as time__stamp__pb2\n",
    "import geometric_calibration_pb2 as geometric__calibration__pb2\n",
    "import color_calibration_pb2 as color__calibration__pb2\n",
    "import sensor_characterization_pb2 as sensor__characterization__pb2\n",
    "import vignetting_characterization_pb2 as vignetting__characterization__pb2\n",
    "import hot_pixel_map_pb2 as hot__pixel__map__pb2\n",
    "import device_temp_pb2 as device__temp__pb2\n",
    "import dead_pixel_map_pb2 as dead__pixel__map__pb2\n",
    "import tof_calibration_pb2 as tof__calibration__pb2\n",
    "import flash_calibration_pb2 as flash__calibration__pb2\n",
    "import sensor_type_pb2 as sensor__type__pb2\n",
    "import hw_info_pb2 as hw__info__pb2\n",
    "import view_preferences_pb2 as view__preferences__pb2\n",
    "import proximity_sensors_pb2 as proximity__sensors__pb2\n",
    "import imu_data_pb2 as imu__data__pb2\n",
    "import gps_data_pb2 as gps__data__pb2\n",
    "import face_data_pb2 as face__data__pb2"
   ]
  },
  {
   "cell_type": "code",
   "execution_count": null,
   "id": "aefc3d9e-aea2-4566-8cf6-fd6e59e2ac38",
   "metadata": {},
   "outputs": [],
   "source": [
    "def parse_light_header(binary_data):\n",
    "    # Create an instance of the generated LightHeader message class\n",
    "    light_header = lightheader_pb2.LightHeader()\n",
    "    \n",
    "    # Parse the binary data into the LightHeader message\n",
    "    light_header.ParseFromString(binary_data)\n",
    "\n",
    "    # Now you can access the LightHeader fields, for example:\n",
    "    print(f\"Image Unique ID Low: {light_header.image_unique_id_low}\")\n",
    "    print(f\"Device Model Name: {light_header.device_model_name}\")\n",
    "\n",
    "    # Convert to JSON if needed\n",
    "    from google.protobuf.json_format import MessageToJson\n",
    "    light_header_json = MessageToJson(light_header)\n",
    "    print(light_header_json)\n",
    "\n",
    "def read_binary_file_and_parse_light_header(file_path):\n",
    "    # Open the binary file and read its content\n",
    "    with open(file_path, \"rb\") as file:\n",
    "        binary_data = file.read()\n",
    "\n",
    "    parse_light_header(binary_data[:32])\n"
   ]
  },
  {
   "cell_type": "code",
   "execution_count": null,
   "id": "14e75c52-875b-41e0-b3cc-699a0a666b70",
   "metadata": {},
   "outputs": [],
   "source": [
    "!ls ../lrifiles/"
   ]
  },
  {
   "cell_type": "code",
   "execution_count": null,
   "id": "e9fc7066-3fee-4e35-8a9a-43e07b580237",
   "metadata": {},
   "outputs": [],
   "source": [
    "file_path = \"../lrifiles/goose.lri\"\n",
    "binary_content = read_binary_file(filepath)"
   ]
  },
  {
   "cell_type": "code",
   "execution_count": null,
   "id": "c1cee59e-5d15-4aba-88c5-3bcdf1096fd5",
   "metadata": {},
   "outputs": [],
   "source": [
    "combined_length, message_offset, message_length, message_type = parse_header(binary_content)\n",
    "combined_length, message_offset, message_length, message_type"
   ]
  },
  {
   "cell_type": "code",
   "execution_count": null,
   "id": "930c605d-ed6c-4f79-bf03-76c50ebe4064",
   "metadata": {},
   "outputs": [],
   "source": [
    "specific_data = binary_content[message_offset:combined_length]\n",
    "\n",
    "file_path = \"specific_data.bin\"\n",
    "\n",
    "with open(file_path, \"wb\") as file:\n",
    "    # binary_data = b\"\\x48\\x65\\x6C\\x6C\\x6F\"  \n",
    "# Example binary data\n",
    "    file.write(specific_data)"
   ]
  },
  {
   "cell_type": "code",
   "execution_count": null,
   "id": "d3dec553-abe7-4219-8544-5a2d22ef1c22",
   "metadata": {},
   "outputs": [],
   "source": [
    "# binary_content"
   ]
  },
  {
   "cell_type": "code",
   "execution_count": null,
   "id": "1d918164-180c-452d-90a3-14ef4d5ff40c",
   "metadata": {},
   "outputs": [],
   "source": [
    "light_header = lightheader_pb2.LightHeader()\n",
    "\n",
    "# Parse the binary data into the LightHeader message\n",
    "light_header.ParseFromString(specific_data)"
   ]
  },
  {
   "cell_type": "code",
   "execution_count": null,
   "id": "3405d68f-7efc-48ec-8460-35b2fe0b52cd",
   "metadata": {},
   "outputs": [],
   "source": [
    "light_header = lightheader_pb2.LightHeader()\n",
    "\n",
    "# Parse the binary data into the LightHeader message\n",
    "light_header.ParseFromString(specific_data)\n",
    "\n",
    "# Now you can access the LightHeader fields, for example:\n",
    "print(f\"Image Unique ID Low: {light_header.image_unique_id_low}\")\n",
    "print(f\"Device Model Name: {light_header.device_model_name}\")\n",
    "\n",
    "# Convert to JSON if needed\n",
    "from google.protobuf.json_format import MessageToJson\n",
    "light_header_json = MessageToJson(light_header)\n",
    "print(light_header_json)"
   ]
  },
  {
   "cell_type": "code",
   "execution_count": null,
   "id": "bd82defc-a520-4e7e-9b38-33127bc56454",
   "metadata": {},
   "outputs": [],
   "source": [
    "file_path = \"../lrifiles/goose.lri\"\n",
    "binary_content = read_binary_file(filepath)\n",
    "binary_content_l = binary_content.split(b'LELR')\n",
    "len(binary_content_l)"
   ]
  },
  {
   "cell_type": "code",
   "execution_count": null,
   "id": "cdd3ad40-7ec3-42a1-8b94-3a6b32e26661",
   "metadata": {},
   "outputs": [],
   "source": [
    "def parse_header_mod(data):\n",
    "    magic = b\"LELR\"\n",
    "    if data[:4] != magic:\n",
    "        raise ValueError(\"Magic number is incorrect\")\n",
    "\n",
    "    combined_length, message_offset, message_length = struct.unpack('<QQL', data[4:24])\n",
    "    kind = data[24]\n",
    "\n",
    "    if kind == BlockType.LightHeader:\n",
    "        message_type = \"lightheader_pb2.LightHeader\"\n",
    "    elif kind == BlockType.ViewPreferences:\n",
    "        message_type = \"view_preferences_pb2.ViewPreferences\"\n",
    "    elif kind == BlockType.GPSData:\n",
    "        message_type = \"gps_data_pb2.GPSData\"\n",
    "    else:\n",
    "        raise ValueError(f\"Unknown block type {kind}\")\n",
    "\n",
    "    return combined_length, message_offset, message_length, message_type"
   ]
  },
  {
   "cell_type": "code",
   "execution_count": null,
   "id": "d010d8f7-2e6a-4f46-971f-948028ae33a7",
   "metadata": {},
   "outputs": [],
   "source": [
    "# binary_content_l[0]"
   ]
  },
  {
   "cell_type": "code",
   "execution_count": null,
   "id": "5d4b8a53-d31e-4208-9463-2967bbfd1fe6",
   "metadata": {},
   "outputs": [],
   "source": [
    "counter = 0\n",
    "resi = []\n",
    "json_light_header = []\n",
    "\n",
    "file_path = \"../lrifiles/goose.lri\"\n",
    "binary_content = read_binary_file(filepath)\n",
    "binary_content_l = binary_content.split(b'LELR')\n",
    "\n",
    "# len(binary_content_l)\n",
    "for c in binary_content_l[1:]:\n",
    "    try:\n",
    "        block = b'LELR'+c\n",
    "        i = ((parse_header_mod(block)))\n",
    "        print(len(block),i)\n",
    "        if(i[3]==\"lightheader_pb2.LightHeader\"):\n",
    "            # print(i)\n",
    "            try:\n",
    "                light_header = lightheader_pb2.LightHeader()\n",
    "                # print(i[0] - i[1], i[1]+i[2])\n",
    "                light_header.ParseFromString(block[i[1]:i[1]+i[2]])\n",
    "                light_header_json = MessageToJson(light_header)\n",
    "                json_light_header.append(json.loads(light_header_json))\n",
    "            except:\n",
    "                print(\"bruh\")\n",
    "    \n",
    "    except:\n",
    "        print(\"bwah\")\n",
    "        counter += 1 \n",
    "counter"
   ]
  },
  {
   "cell_type": "code",
   "execution_count": null,
   "id": "d85aecc9",
   "metadata": {},
   "outputs": [],
   "source": [
    "import sys\n",
    "print(sys.executable)"
   ]
  },
  {
   "cell_type": "code",
   "execution_count": null,
   "id": "9ece0e69",
   "metadata": {},
   "outputs": [],
   "source": [
    "!ls lri-proto/python_bindings"
   ]
  },
  {
   "cell_type": "code",
   "execution_count": 439,
   "id": "60619dae-fdfd-43a9-a4f4-f9daa8b5fe9b",
   "metadata": {},
   "outputs": [],
   "source": [
    "import sys\n",
    "import os\n",
    "import struct\n",
    "from google.protobuf.json_format import MessageToJson\n",
    "import json\n",
    "\n",
    "sys.path.insert(1, 'lri-proto/python_bindings')\n",
    "\n",
    "# Enumerate your BlockTypes in Python to match the Rust definition\n",
    "class BlockType:\n",
    "    LightHeader = 0\n",
    "    ViewPreferences = 1\n",
    "    GPSData = 2\n",
    "    # Add other types as needed\n",
    "\n",
    "def read_binary_file(filepath):\n",
    "    with open(filepath, \"rb\") as file:\n",
    "        content = file.read()\n",
    "    return content\n",
    "\n",
    "\n",
    "def parse_header_mod(data):\n",
    "    magic = b\"LELR\"\n",
    "    if data[:4] != magic:\n",
    "        raise ValueError(\"Magic number is incorrect\")\n",
    "\n",
    "    combined_length, message_offset, message_length = struct.unpack('<QQL', data[4:24])\n",
    "    kind = data[24]\n",
    "\n",
    "    if kind == BlockType.LightHeader:\n",
    "        message_type = \"lightheader_pb2.LightHeader\"\n",
    "    elif kind == BlockType.ViewPreferences:\n",
    "        message_type = \"view_preferences_pb2.ViewPreferences\"\n",
    "    elif kind == BlockType.GPSData:\n",
    "        message_type = \"gps_data_pb2.GPSData\"\n",
    "    else:\n",
    "        raise ValueError(f\"Unknown block type {kind}\")\n",
    "\n",
    "    return combined_length, message_offset, message_length, message_type\n",
    "    \n",
    "\n",
    "from view_preferences_pb2 import ViewPreferences\n",
    "from gps_data_pb2 import GPSData\n",
    "from lightheader_pb2 import LightHeader"
   ]
  },
  {
   "cell_type": "code",
   "execution_count": 440,
   "id": "3182c470-b60e-4c12-88cf-7d6b87679ca1",
   "metadata": {},
   "outputs": [],
   "source": [
    "file_path = \"../goose.lri\"\n",
    "binary_content = read_binary_file(file_path)\n",
    "binary_content_temp = binary_content\n",
    "previous = 0 \n",
    "block_info_json = []\n",
    "json_light_header = []\n",
    "block_info = []\n",
    "while len(binary_content_temp)>0:\n",
    "    header_info = (parse_header_mod(binary_content_temp))\n",
    "#     header_info.append)\n",
    "    if(header_info[3]==\"lightheader_pb2.LightHeader\"):\n",
    "        light_header = LightHeader()\n",
    "        light_header.ParseFromString(binary_content_temp[header_info[1]:header_info[1]+header_info[2]])\n",
    "        \n",
    "        \n",
    "    if(header_info[3]==\"view_preferences_pb2.ViewPreferences\"):\n",
    "        light_header = ViewPreferences()\n",
    "        light_header.ParseFromString(binary_content_temp[header_info[1]:header_info[1]+header_info[2]])\n",
    "        \n",
    "    if(header_info[3]==\"gps_data_pb2.GPSData\"):\n",
    "        light_header = GPSData()\n",
    "        light_header.ParseFromString(binary_content_temp[header_info[1]:header_info[1]+header_info[2]])\n",
    "\n",
    "    light_header_json = MessageToJson(light_header)\n",
    "    json_light_header.append(json.loads(light_header_json))\n",
    "    \n",
    "    block_info.append(binary_content_temp[:header_info[0]])\n",
    "    binary_content_temp=binary_content_temp[header_info[0]:]"
   ]
  },
  {
   "cell_type": "code",
   "execution_count": null,
   "id": "02a8a1f1",
   "metadata": {},
   "outputs": [],
   "source": []
  },
  {
   "cell_type": "markdown",
   "id": "4a2ba901",
   "metadata": {},
   "source": [
    "# Let us focus on the first chunk"
   ]
  },
  {
   "cell_type": "code",
   "execution_count": 441,
   "id": "278a3c09",
   "metadata": {},
   "outputs": [
    {
     "data": {
      "text/plain": [
       "{'afInfo': {'mode': 'AUTO',\n",
       "  'roiCenter': {'x': 0.43100962, 'y': 0.4701923},\n",
       "  'disparityFocusDistance': 3863.0,\n",
       "  'contrastFocusDistance': 21278.104,\n",
       "  'lensTimeout': False,\n",
       "  'mirrorTimeout': False,\n",
       "  'mirrorPosition': 677},\n",
       " 'id': 'B2',\n",
       " 'isEnabled': True,\n",
       " 'mirrorPosition': 678,\n",
       " 'lensPosition': 1059,\n",
       " 'sensorAnalogGain': 5.0,\n",
       " 'sensorExposure': '511041',\n",
       " 'sensorDataSurface': {'start': {'x': 0, 'y': 0},\n",
       "  'size': {'x': 4160, 'y': 3120},\n",
       "  'format': 'RAW_PACKED_10BPP',\n",
       "  'rowStride': 5200,\n",
       "  'dataOffset': '32',\n",
       "  'dataScale': {'x': 1.0, 'y': 1.0}},\n",
       " 'sensorTemparature': 34,\n",
       " 'sensorBayerRedOverride': {'x': 1, 'y': 1},\n",
       " 'sensorDigitalGain': 1.03125,\n",
       " 'frameIndex': 0,\n",
       " 'sensorDpcOn': True}"
      ]
     },
     "execution_count": 441,
     "metadata": {},
     "output_type": "execute_result"
    }
   ],
   "source": [
    "focus = json_light_header[0][\"modules\"][0]\n",
    "focus"
   ]
  },
  {
   "cell_type": "code",
   "execution_count": 442,
   "id": "85e2e0c6",
   "metadata": {},
   "outputs": [
    {
     "data": {
      "text/plain": [
       "1.03125"
      ]
     },
     "execution_count": 442,
     "metadata": {},
     "output_type": "execute_result"
    }
   ],
   "source": [
    "focus[\"sensorDigitalGain\"]"
   ]
  },
  {
   "cell_type": "code",
   "execution_count": 443,
   "id": "25f72f51",
   "metadata": {},
   "outputs": [
    {
     "data": {
      "text/plain": [
       "{'camera': [{'id': 'B2',\n",
       "   'sensor': 'SENSOR_AR1335',\n",
       "   'lens': 'LENS_SUNNY',\n",
       "   'mirrorActuator': 'MIRROR_ACTUATOR_PZT',\n",
       "   'mirror': 'MIRROR_DIELECTRIC_SNX'}]}"
      ]
     },
     "execution_count": 443,
     "metadata": {},
     "output_type": "execute_result"
    }
   ],
   "source": [
    "{'camera': [{'id': 'B2',\n",
    "    'sensor': 'SENSOR_AR1335',\n",
    "    'lens': 'LENS_SUNNY',\n",
    "    'mirrorActuator': 'MIRROR_ACTUATOR_PZT',\n",
    "    'mirror': 'MIRROR_DIELECTRIC_SNX'}]}"
   ]
  },
  {
   "cell_type": "code",
   "execution_count": 444,
   "id": "01f21a0c",
   "metadata": {},
   "outputs": [
    {
     "data": {
      "text/plain": [
       "[{'cameraId': 'B2',\n",
       "  'geometry': {'mirrorType': 'MOVABLE',\n",
       "   'perFocusCalibration': [{'focusDistance': 818.0,\n",
       "     'intrinsics': {'kMat': {'x00': 8295.122,\n",
       "       'x01': 0.0,\n",
       "       'x02': 2056.6526,\n",
       "       'x10': 0.0,\n",
       "       'x11': 8295.122,\n",
       "       'x12': 1581.0103,\n",
       "       'x20': 0.0,\n",
       "       'x21': 0.0,\n",
       "       'x22': 1.0}},\n",
       "     'sensorTemp': 28,\n",
       "     'focusHallCode': 1316.0},\n",
       "    {'focusDistance': 1500.0,\n",
       "     'intrinsics': {'kMat': {'x00': 8274.207,\n",
       "       'x01': 0.0,\n",
       "       'x02': 2056.152,\n",
       "       'x10': 0.0,\n",
       "       'x11': 8274.207,\n",
       "       'x12': 1580.6925,\n",
       "       'x20': 0.0,\n",
       "       'x21': 0.0,\n",
       "       'x22': 1.0}},\n",
       "     'sensorTemp': 29,\n",
       "     'focusHallCode': 1160.0},\n",
       "    {'focusDistance': 818.0,\n",
       "     'extrinsics': {'moveableMirror': {'mirrorSystem': {'realCameraLocation': {'x': -3.1524377,\n",
       "         'y': -14.929658,\n",
       "         'z': 1.7207456},\n",
       "        'realCameraOrientation': {'x00': 0.35741338,\n",
       "         'x01': 0.47322243,\n",
       "         'x02': -0.80518085,\n",
       "         'x10': -0.48527515,\n",
       "         'x11': -0.642514,\n",
       "         'x12': -0.5930293,\n",
       "         'x20': -0.79797477,\n",
       "         'x21': 0.6026909,\n",
       "         'x22': -8.319045e-09},\n",
       "        'rotationAxis': {'x': 0.5671149, 'y': -0.8230051, 'z': -0.03230106},\n",
       "        'pointOnRotationAxis': {'x': -7.6879096,\n",
       "         'y': -18.108952,\n",
       "         'z': 3.0965896},\n",
       "        'distanceMirrorPlaneToPointOnRotationAxis': 5.6983314,\n",
       "        'mirrorNormalAtZeroDegrees': {'x': -0.79535264,\n",
       "         'y': -0.60614616,\n",
       "         'z': -0.001020399},\n",
       "        'flipImgAroundX': True,\n",
       "        'mirrorAngleRange': {'minVal': 35.7785, 'maxVal': 45.76898},\n",
       "        'reprojectionError': 0.20134273},\n",
       "       'mirrorActuatorMapping': {'transformationType': 'MEAN_STD_NORMALIZE',\n",
       "        'actuatorLengthOffset': 505.4,\n",
       "        'actuatorLengthScale': 197.48494,\n",
       "        'mirrorAngleOffset': 40.768936,\n",
       "        'mirrorAngleScale': 3.9563026,\n",
       "        'actuatorAnglePairVec': [{'hallCode': 755, 'angle': 45.76898},\n",
       "         {'hallCode': 631, 'angle': 43.29987},\n",
       "         {'hallCode': 505, 'angle': 40.73796},\n",
       "         {'hallCode': 380, 'angle': 38.25938},\n",
       "         {'hallCode': 256, 'angle': 35.7785}],\n",
       "        'quadraticModel': {'useRplusForLeftSegment': False,\n",
       "         'useRplusForRightSegment': False,\n",
       "         'inflectionValue': 27529.805,\n",
       "         'modelCoeffs': [0.0,\n",
       "          0.0,\n",
       "          1.0,\n",
       "          0.0018269399,\n",
       "          -1.000002,\n",
       "          -0.0014615519]},\n",
       "        'angleToHallCodeError': 0.0,\n",
       "        'hallCodeToAngleError': 0.0,\n",
       "        'hallCodeRange': {'minVal': 0.0, 'maxVal': 1023.0}}}},\n",
       "     'sensorTemp': 0}],\n",
       "   'distortion': {'polynomial': {'distortionCenter': {'x': 2114.0,\n",
       "      'y': 1620.0},\n",
       "     'normalization': {'x': 4160.0, 'y': 4160.0},\n",
       "     'coeffs': [0.018449891, -0.056248132, 0.0, 0.0, 0.027395973],\n",
       "     'fitCost': 0.00026188188,\n",
       "     'validRoi': {'x': 8, 'y': 8, 'width': 4143, 'height': 3103}},\n",
       "    'cra': {'distortionCenter': {'x': 2105.0, 'y': 1680.0},\n",
       "     'sensorDistance': 9.296797,\n",
       "     'exitPupilDistance': 9.826797,\n",
       "     'pixelSize': 0.0011,\n",
       "     'cra': [{'x': 0.0, 'y': 0.0},\n",
       "      {'x': 0.030137366, 'y': 0.175629},\n",
       "      {'x': 0.06027585, 'y': 0.351853},\n",
       "      {'x': 0.09041538, 'y': 0.528637},\n",
       "      {'x': 0.12055592, 'y': 0.705947},\n",
       "      {'x': 0.15069741, 'y': 0.883751},\n",
       "      {'x': 0.18083976, 'y': 1.062013},\n",
       "      {'x': 0.21098298, 'y': 1.2407},\n",
       "      {'x': 0.24112694, 'y': 1.419776},\n",
       "      {'x': 0.27127165, 'y': 1.599208},\n",
       "      {'x': 0.30141696, 'y': 1.778959},\n",
       "      {'x': 0.3315629, 'y': 1.958995},\n",
       "      {'x': 0.36170936, 'y': 2.139279},\n",
       "      {'x': 0.39185634, 'y': 2.319775},\n",
       "      {'x': 0.4220037, 'y': 2.500447},\n",
       "      {'x': 0.4521514, 'y': 2.681255},\n",
       "      {'x': 0.4822994, 'y': 2.862164},\n",
       "      {'x': 0.51244766, 'y': 3.043132},\n",
       "      {'x': 0.542596, 'y': 3.224122},\n",
       "      {'x': 0.5727444, 'y': 3.405091},\n",
       "      {'x': 0.6028929, 'y': 3.585998},\n",
       "      {'x': 0.63304126, 'y': 3.7668},\n",
       "      {'x': 0.6631896, 'y': 3.947453},\n",
       "      {'x': 0.6933376, 'y': 4.127911},\n",
       "      {'x': 0.7234853, 'y': 4.308127},\n",
       "      {'x': 0.75363266, 'y': 4.488052},\n",
       "      {'x': 0.78377956, 'y': 4.667636},\n",
       "      {'x': 0.8139259, 'y': 4.846827},\n",
       "      {'x': 0.84407157, 'y': 5.025571},\n",
       "      {'x': 0.87421644, 'y': 5.203811},\n",
       "      {'x': 0.9043605, 'y': 5.381488},\n",
       "      {'x': 0.9345035, 'y': 5.558544},\n",
       "      {'x': 0.9646455, 'y': 5.734913},\n",
       "      {'x': 0.99478626, 'y': 5.910532},\n",
       "      {'x': 1.0249257, 'y': 6.085333},\n",
       "      {'x': 1.0550636, 'y': 6.259244},\n",
       "      {'x': 1.0852001, 'y': 6.432194},\n",
       "      {'x': 1.1153346, 'y': 6.604106},\n",
       "      {'x': 1.1454673, 'y': 6.774902},\n",
       "      {'x': 1.175598, 'y': 6.944501},\n",
       "      {'x': 1.2057265, 'y': 7.112819},\n",
       "      {'x': 1.2358527, 'y': 7.279769},\n",
       "      {'x': 1.2659763, 'y': 7.445264},\n",
       "      {'x': 1.2960972, 'y': 7.609209},\n",
       "      {'x': 1.3262153, 'y': 7.771511},\n",
       "      {'x': 1.3563303, 'y': 7.932073},\n",
       "      {'x': 1.386442, 'y': 8.090795},\n",
       "      {'x': 1.4165502, 'y': 8.247574},\n",
       "      {'x': 1.4466548, 'y': 8.402306},\n",
       "      {'x': 1.4767555, 'y': 8.554884},\n",
       "      {'x': 1.5068521, 'y': 8.7052},\n",
       "      {'x': 1.5369445, 'y': 8.853143},\n",
       "      {'x': 1.5670323, 'y': 8.998599},\n",
       "      {'x': 1.5971153, 'y': 9.141454},\n",
       "      {'x': 1.6271935, 'y': 9.281593},\n",
       "      {'x': 1.6572663, 'y': 9.418897},\n",
       "      {'x': 1.6873338, 'y': 9.553249},\n",
       "      {'x': 1.7173954, 'y': 9.684527},\n",
       "      {'x': 1.7474512, 'y': 9.81261},\n",
       "      {'x': 1.7775009, 'y': 9.937377},\n",
       "      {'x': 1.807544, 'y': 10.058704},\n",
       "      {'x': 1.8375806, 'y': 10.176466},\n",
       "      {'x': 1.8676101, 'y': 10.290539},\n",
       "      {'x': 1.8976324, 'y': 10.400795},\n",
       "      {'x': 1.9276474, 'y': 10.507106},\n",
       "      {'x': 1.9576545, 'y': 10.609344},\n",
       "      {'x': 1.9876537, 'y': 10.707377},\n",
       "      {'x': 2.0176446, 'y': 10.801071},\n",
       "      {'x': 2.0476272, 'y': 10.890292},\n",
       "      {'x': 2.0776007, 'y': 10.9749},\n",
       "      {'x': 2.1075652, 'y': 11.054754},\n",
       "      {'x': 2.13752, 'y': 11.129708},\n",
       "      {'x': 2.1674657, 'y': 11.199612},\n",
       "      {'x': 2.197401, 'y': 11.264312},\n",
       "      {'x': 2.227326, 'y': 11.323647},\n",
       "      {'x': 2.2572403, 'y': 11.377453},\n",
       "      {'x': 2.2871435, 'y': 11.425559},\n",
       "      {'x': 2.3170357, 'y': 11.467787},\n",
       "      {'x': 2.3469157, 'y': 11.503955},\n",
       "      {'x': 2.3767838, 'y': 11.533876},\n",
       "      {'x': 2.4066393, 'y': 11.557359},\n",
       "      {'x': 2.4364822, 'y': 11.57421},\n",
       "      {'x': 2.4663117, 'y': 11.584237},\n",
       "      {'x': 2.4961276, 'y': 11.587249},\n",
       "      {'x': 2.5259295, 'y': 11.583064},\n",
       "      {'x': 2.555717, 'y': 11.571513},\n",
       "      {'x': 2.5854897, 'y': 11.552449},\n",
       "      {'x': 2.6152482, 'y': 11.525755},\n",
       "      {'x': 2.6449914, 'y': 11.491356},\n",
       "      {'x': 2.6747196, 'y': 11.449234},\n",
       "      {'x': 2.704433, 'y': 11.399449},\n",
       "      {'x': 2.7341318, 'y': 11.342157},\n",
       "      {'x': 2.7638168, 'y': 11.277644},\n",
       "      {'x': 2.7934887, 'y': 11.206353},\n",
       "      {'x': 2.8231487, 'y': 11.128926},\n",
       "      {'x': 2.8527987, 'y': 11.046246},\n",
       "      {'x': 2.8824408, 'y': 10.959479},\n",
       "      {'x': 2.9121175, 'y': 10.890507},\n",
       "      {'x': 2.9418654, 'y': 10.858387},\n",
       "      {'x': 2.9716146, 'y': 10.826867},\n",
       "      {'x': 3.001369, 'y': 10.798149}],\n",
       "     'coeffs': [{'x': 0.0, 'y': 3.8820923e-05},\n",
       "      {'x': 0.1, 'y': 0.00016634069},\n",
       "      {'x': 0.2, 'y': 6.775203e-05},\n",
       "      {'x': 0.3, 'y': 0.00024557073},\n",
       "      {'x': 0.4, 'y': 0.00022808404},\n",
       "      {'x': 0.5, 'y': 0.00016084664},\n",
       "      {'x': 0.6, 'y': 0.00016704369},\n",
       "      {'x': 0.70000005, 'y': -5.7682228e-05},\n",
       "      {'x': 0.8000001, 'y': -0.00015628767},\n",
       "      {'x': 0.9000001, 'y': -0.000389766},\n",
       "      {'x': 1.0000001, 'y': -0.0006531782},\n",
       "      {'x': 1.1000001, 'y': -0.00088667567},\n",
       "      {'x': 1.2000002, 'y': -0.0013023113},\n",
       "      {'x': 1.3000002, 'y': -0.0015779838},\n",
       "      {'x': 1.4000002, 'y': -0.0019009998},\n",
       "      {'x': 1.5000002, 'y': -0.0022819757},\n",
       "      {'x': 1.6000003, 'y': -0.0025489843},\n",
       "      {'x': 1.7000003, 'y': -0.002908934},\n",
       "      {'x': 1.8000003, 'y': -0.003107612},\n",
       "      {'x': 1.9000003, 'y': -0.0032678205},\n",
       "      {'x': 2.0000002, 'y': -0.0033340338},\n",
       "      {'x': 2.1000001, 'y': -0.0033778897},\n",
       "      {'x': 2.2, 'y': -0.0033696166},\n",
       "      {'x': 2.3, 'y': -0.0033742315},\n",
       "      {'x': 2.3999999, 'y': -0.0033045888},\n",
       "      {'x': 2.4999998, 'y': -0.003196063},\n",
       "      {'x': 2.5999997, 'y': -0.0030749675},\n",
       "      {'x': 2.6999996, 'y': -0.0027680506},\n",
       "      {'x': 2.7999995, 'y': -0.0023014776},\n",
       "      {'x': 2.8999994, 'y': -0.002668683}],\n",
       "     'fitCost': 0.0,\n",
       "     'lensHallCode': 1316.0,\n",
       "     'distanceHallRatio': 0.007059071}},\n",
       "   'lensHallCodeRange': {'minVal': -1.0, 'maxVal': -1.0},\n",
       "   'focusDistanceRange': {'minVal': 100.0, 'maxVal': 54000.0}},\n",
       "  'timeStamp': {'year': 2018,\n",
       "   'month': 3,\n",
       "   'day': 27,\n",
       "   'hour': 17,\n",
       "   'minute': 52,\n",
       "   'second': 56}}]"
      ]
     },
     "execution_count": 444,
     "metadata": {},
     "output_type": "execute_result"
    }
   ],
   "source": [
    "[i for i in json_light_header[4][\"moduleCalibration\"] if i[\"cameraId\"]==\"B2\"]"
   ]
  },
  {
   "cell_type": "code",
   "execution_count": 445,
   "id": "6abab937",
   "metadata": {},
   "outputs": [
    {
     "data": {
      "text/plain": [
       "dict_keys(['cameraId', 'vignetting', 'timeStamp'])"
      ]
     },
     "execution_count": 445,
     "metadata": {},
     "output_type": "execute_result"
    }
   ],
   "source": [
    "[i for i in json_light_header[5][\"moduleCalibration\"] if i[\"cameraId\"]==\"B2\"][0].keys()"
   ]
  },
  {
   "cell_type": "code",
   "execution_count": 446,
   "id": "1136c1ac",
   "metadata": {},
   "outputs": [],
   "source": [
    "color = [i for i in json_light_header[7][\"moduleCalibration\"] if i[\"cameraId\"]==\"B2\"][0][\"color\"][0]"
   ]
  },
  {
   "cell_type": "code",
   "execution_count": 447,
   "id": "f35f844c",
   "metadata": {},
   "outputs": [
    {
     "data": {
      "text/plain": [
       "{'type': 'D65',\n",
       " 'forwardMatrix': {'x00': 0.8681334,\n",
       "  'x01': 0.15782288,\n",
       "  'x02': -0.061736338,\n",
       "  'x10': 0.29942137,\n",
       "  'x11': 1.0843414,\n",
       "  'x12': -0.3837628,\n",
       "  'x20': -0.04755058,\n",
       "  'x21': -0.4467093,\n",
       "  'x22': 1.3194698},\n",
       " 'colorMatrix': {'x00': 0.7232608,\n",
       "  'x01': -0.12051902,\n",
       "  'x02': -0.034705322,\n",
       "  'x10': -0.34320852,\n",
       "  'x11': 1.1315529,\n",
       "  'x12': 0.24160586,\n",
       "  'x20': -0.048811756,\n",
       "  'x21': 0.2596398,\n",
       "  'x22': 0.4647175},\n",
       " 'rgRatio': 0.48553428,\n",
       " 'bgRatio': 0.6740466,\n",
       " 'macbethData': [{'x': 0.062179904, 'y': 0.086068705, 'z': 0.048996393},\n",
       "  {'x': 0.2137695, 'y': 0.3175428, 'z': 0.18566163},\n",
       "  {'x': 0.08807108, 'y': 0.22257188, 'z': 0.18850616},\n",
       "  {'x': 0.054867033, 'y': 0.120150834, 'z': 0.05615863},\n",
       "  {'x': 0.13056988, 'y': 0.26970848, 'z': 0.2379679},\n",
       "  {'x': 0.15648103, 'y': 0.47025827, 'z': 0.2951097},\n",
       "  {'x': 0.20831747, 'y': 0.20181069, 'z': 0.07987702},\n",
       "  {'x': 0.06400769, 'y': 0.16534491, 'z': 0.18851916},\n",
       "  {'x': 0.1679762, 'y': 0.14551143, 'z': 0.09517168},\n",
       "  {'x': 0.047869302, 'y': 0.070571065, 'z': 0.07130603},\n",
       "  {'x': 0.17399786, 'y': 0.3822346, 'z': 0.13954876},\n",
       "  {'x': 0.2432424, 'y': 0.29981008, 'z': 0.10705236},\n",
       "  {'x': 0.034858853, 'y': 0.09879238, 'z': 0.1318947},\n",
       "  {'x': 0.076331556, 'y': 0.23170774, 'z': 0.097268425},\n",
       "  {'x': 0.1338914, 'y': 0.0822535, 'z': 0.047241867},\n",
       "  {'x': 0.30285093, 'y': 0.4577227, 'z': 0.1532523},\n",
       "  {'x': 0.17958714, 'y': 0.1839696, 'z': 0.17063269},\n",
       "  {'x': 0.075764865, 'y': 0.27319124, 'z': 0.224906},\n",
       "  {'x': 0.4479019, 'y': 0.9066498, 'z': 0.6006938},\n",
       "  {'x': 0.28746623, 'y': 0.58831924, 'z': 0.39564005},\n",
       "  {'x': 0.17531526, 'y': 0.3593875, 'z': 0.24215047},\n",
       "  {'x': 0.09292937, 'y': 0.1913961, 'z': 0.12900989},\n",
       "  {'x': 0.043390118, 'y': 0.08968947, 'z': 0.06079034},\n",
       "  {'x': 0.015744902, 'y': 0.03209712, 'z': 0.021817401}],\n",
       " 'spectralData': {'format': 'RGB',\n",
       "  'channelData': [{'start': 380,\n",
       "    'end': 755,\n",
       "    'data': [0.32665163,\n",
       "     0.30149364,\n",
       "     0.3135811,\n",
       "     0.47537157,\n",
       "     0.6357062,\n",
       "     2.7914052,\n",
       "     4.9466205,\n",
       "     8.157338,\n",
       "     11.368131,\n",
       "     11.761385,\n",
       "     12.082216,\n",
       "     12.115978,\n",
       "     12.078226,\n",
       "     11.756401,\n",
       "     11.516875,\n",
       "     11.613719,\n",
       "     11.6869545,\n",
       "     11.67875,\n",
       "     11.670205,\n",
       "     12.74626,\n",
       "     13.82091,\n",
       "     14.719277,\n",
       "     15.574615,\n",
       "     16.243877,\n",
       "     16.901314,\n",
       "     17.694601,\n",
       "     18.747755,\n",
       "     20.84094,\n",
       "     22.928568,\n",
       "     24.993776,\n",
       "     26.314157,\n",
       "     24.649948,\n",
       "     22.986328,\n",
       "     21.501255,\n",
       "     20.320082,\n",
       "     19.597347,\n",
       "     19.374222,\n",
       "     21.147789,\n",
       "     22.922077,\n",
       "     42.601402,\n",
       "     61.8909,\n",
       "     79.61564,\n",
       "     91.38813,\n",
       "     94.23182,\n",
       "     94.466,\n",
       "     90.78734,\n",
       "     87.10873,\n",
       "     82.586975,\n",
       "     77.886955,\n",
       "     72.47354,\n",
       "     67.05997,\n",
       "     61.165596,\n",
       "     55.637604,\n",
       "     51.573086,\n",
       "     47.51156,\n",
       "     42.488983,\n",
       "     37.64117,\n",
       "     33.488556,\n",
       "     29.123192,\n",
       "     24.440233,\n",
       "     19.393545,\n",
       "     12.89465,\n",
       "     7.1784496,\n",
       "     4.5956864,\n",
       "     2.0131643,\n",
       "     1.0416404,\n",
       "     0.55018055,\n",
       "     0.3681208,\n",
       "     0.21452868,\n",
       "     0.17999475,\n",
       "     0.14549018,\n",
       "     0.13763842,\n",
       "     0.13227218,\n",
       "     0.12516522,\n",
       "     0.11613383,\n",
       "     0.1275295]},\n",
       "   {'start': 380,\n",
       "    'end': 755,\n",
       "    'data': [0.73521924,\n",
       "     0.67111313,\n",
       "     0.62064195,\n",
       "     0.6343331,\n",
       "     0.646789,\n",
       "     3.0260267,\n",
       "     5.4046025,\n",
       "     10.928508,\n",
       "     16.45289,\n",
       "     17.721205,\n",
       "     19.104671,\n",
       "     20.947412,\n",
       "     22.79008,\n",
       "     24.631853,\n",
       "     26.516464,\n",
       "     28.557304,\n",
       "     31.28173,\n",
       "     36.733566,\n",
       "     42.185993,\n",
       "     58.63917,\n",
       "     75.094124,\n",
       "     95.60126,\n",
       "     117.12212,\n",
       "     128.49869,\n",
       "     135.9008,\n",
       "     137.5368,\n",
       "     139.69423,\n",
       "     143.92766,\n",
       "     147.42126,\n",
       "     147.94276,\n",
       "     147.64226,\n",
       "     144.04596,\n",
       "     140.45078,\n",
       "     134.28305,\n",
       "     127.95471,\n",
       "     121.38431,\n",
       "     114.64094,\n",
       "     107.20281,\n",
       "     99.764404,\n",
       "     92.34614,\n",
       "     84.642815,\n",
       "     75.79353,\n",
       "     67.13077,\n",
       "     58.746952,\n",
       "     50.647038,\n",
       "     42.972767,\n",
       "     35.299934,\n",
       "     29.608759,\n",
       "     24.345938,\n",
       "     20.791874,\n",
       "     17.23795,\n",
       "     15.275385,\n",
       "     13.436747,\n",
       "     12.097573,\n",
       "     10.757991,\n",
       "     9.605889,\n",
       "     8.548074,\n",
       "     7.8665757,\n",
       "     7.134829,\n",
       "     6.328818,\n",
       "     5.3760304,\n",
       "     3.8285778,\n",
       "     2.4320712,\n",
       "     1.6404808,\n",
       "     0.8474012,\n",
       "     0.50898015,\n",
       "     0.3097868,\n",
       "     0.21405452,\n",
       "     0.13472033,\n",
       "     0.11509919,\n",
       "     0.09630932,\n",
       "     0.09308441,\n",
       "     0.09282564,\n",
       "     0.08536127,\n",
       "     0.08064341,\n",
       "     0.08075829]},\n",
       "   {'start': 380,\n",
       "    'end': 755,\n",
       "    'data': [0.16280797,\n",
       "     0.2180408,\n",
       "     0.06860296,\n",
       "     0.0,\n",
       "     0.0,\n",
       "     0.0,\n",
       "     1.7135732,\n",
       "     35.12869,\n",
       "     68.54707,\n",
       "     80.685,\n",
       "     90.99155,\n",
       "     93.98353,\n",
       "     96.49679,\n",
       "     97.092865,\n",
       "     98.08242,\n",
       "     100.62766,\n",
       "     102.8528,\n",
       "     103.7844,\n",
       "     104.71995,\n",
       "     100.957184,\n",
       "     97.19446,\n",
       "     90.249306,\n",
       "     82.50902,\n",
       "     75.04482,\n",
       "     67.395805,\n",
       "     58.76569,\n",
       "     50.781704,\n",
       "     45.402283,\n",
       "     40.3531,\n",
       "     36.612305,\n",
       "     33.214638,\n",
       "     31.187714,\n",
       "     29.167717,\n",
       "     26.710842,\n",
       "     24.657393,\n",
       "     23.20478,\n",
       "     21.866295,\n",
       "     20.955734,\n",
       "     20.05129,\n",
       "     19.631836,\n",
       "     19.118826,\n",
       "     18.233505,\n",
       "     17.362364,\n",
       "     16.519821,\n",
       "     15.44269,\n",
       "     14.014414,\n",
       "     12.590877,\n",
       "     11.381288,\n",
       "     10.199226,\n",
       "     9.115881,\n",
       "     8.033775,\n",
       "     7.7285547,\n",
       "     7.3656697,\n",
       "     6.7777205,\n",
       "     6.1901956,\n",
       "     5.602233,\n",
       "     5.032958,\n",
       "     4.5400157,\n",
       "     4.116712,\n",
       "     3.8011422,\n",
       "     3.4238403,\n",
       "     2.7873995,\n",
       "     2.1435874,\n",
       "     1.4271182,\n",
       "     0.7097149,\n",
       "     0.404648,\n",
       "     0.22169456,\n",
       "     0.1298062,\n",
       "     0.05306958,\n",
       "     0.02267478,\n",
       "     0.0,\n",
       "     0.0,\n",
       "     0.0,\n",
       "     0.0,\n",
       "     0.0,\n",
       "     0.0]}]}}"
      ]
     },
     "execution_count": 447,
     "metadata": {},
     "output_type": "execute_result"
    }
   ],
   "source": [
    "color"
   ]
  },
  {
   "cell_type": "code",
   "execution_count": 448,
   "id": "634ddb50",
   "metadata": {},
   "outputs": [
    {
     "data": {
      "text/plain": [
       "dict_keys(['type', 'forwardMatrix', 'colorMatrix', 'rgRatio', 'bgRatio', 'macbethData', 'spectralData'])"
      ]
     },
     "execution_count": 448,
     "metadata": {},
     "output_type": "execute_result"
    }
   ],
   "source": [
    "color.keys()"
   ]
  },
  {
   "cell_type": "code",
   "execution_count": 449,
   "id": "8d256dec",
   "metadata": {},
   "outputs": [],
   "source": [
    "bgRatio = color[\"bgRatio\"]\n",
    "rgRatio = color[\"rgRatio\"]"
   ]
  },
  {
   "cell_type": "code",
   "execution_count": null,
   "id": "bb711a0c",
   "metadata": {},
   "outputs": [],
   "source": []
  },
  {
   "cell_type": "code",
   "execution_count": 450,
   "id": "84e3e291",
   "metadata": {},
   "outputs": [
    {
     "ename": "SyntaxError",
     "evalue": "invalid syntax (<ipython-input-450-51cd7451bdc1>, line 1)",
     "output_type": "error",
     "traceback": [
      "\u001b[0;36m  File \u001b[0;32m\"<ipython-input-450-51cd7451bdc1>\"\u001b[0;36m, line \u001b[0;32m1\u001b[0m\n\u001b[0;31m    pub fn srgb_gamma(mut float: f32) -> f32 {\u001b[0m\n\u001b[0m        ^\u001b[0m\n\u001b[0;31mSyntaxError\u001b[0m\u001b[0;31m:\u001b[0m invalid syntax\n"
     ]
    }
   ],
   "source": [
    "pub fn srgb_gamma(mut float: f32) -> f32 {\n",
    "\tif float <= 0.0031308 {\n",
    "\t\tfloat *= 12.92;\n",
    "\t} else {\n",
    "\t\tfloat = float.powf(1.0 / 2.4) * 1.055 - 0.055;\n",
    "\t}\n",
    "\n",
    "\tfloat.clamp(0.0, 1.0)\n",
    "}"
   ]
  },
  {
   "cell_type": "code",
   "execution_count": null,
   "id": "eb9cc541",
   "metadata": {},
   "outputs": [],
   "source": []
  },
  {
   "cell_type": "code",
   "execution_count": null,
   "id": "7e6db89f",
   "metadata": {},
   "outputs": [],
   "source": []
  },
  {
   "cell_type": "code",
   "execution_count": 451,
   "id": "226aaf5c",
   "metadata": {},
   "outputs": [
    {
     "data": {
      "text/plain": [
       "dict_keys(['format', 'channelData'])"
      ]
     },
     "execution_count": 451,
     "metadata": {},
     "output_type": "execute_result"
    }
   ],
   "source": [
    "color[\"spectralData\"].keys()"
   ]
  },
  {
   "cell_type": "code",
   "execution_count": 452,
   "id": "10bf6ee4",
   "metadata": {},
   "outputs": [
    {
     "data": {
      "text/plain": [
       "'RGB'"
      ]
     },
     "execution_count": 452,
     "metadata": {},
     "output_type": "execute_result"
    }
   ],
   "source": [
    "color[\"spectralData\"][\"format\"]"
   ]
  },
  {
   "cell_type": "code",
   "execution_count": 453,
   "id": "340c5045",
   "metadata": {},
   "outputs": [],
   "source": [
    "spectralData_channel = color[\"spectralData\"][\"channelData\"]"
   ]
  },
  {
   "cell_type": "code",
   "execution_count": 454,
   "id": "b00dcee6",
   "metadata": {},
   "outputs": [
    {
     "data": {
      "text/plain": [
       "76"
      ]
     },
     "execution_count": 454,
     "metadata": {},
     "output_type": "execute_result"
    }
   ],
   "source": [
    "len(spectralData_channel[0][\"data\"])"
   ]
  },
  {
   "cell_type": "code",
   "execution_count": 455,
   "id": "4f17945a",
   "metadata": {},
   "outputs": [
    {
     "data": {
      "text/plain": [
       "(24,\n",
       " [{'x': 0.062179904, 'y': 0.086068705, 'z': 0.048996393},\n",
       "  {'x': 0.2137695, 'y': 0.3175428, 'z': 0.18566163},\n",
       "  {'x': 0.08807108, 'y': 0.22257188, 'z': 0.18850616},\n",
       "  {'x': 0.054867033, 'y': 0.120150834, 'z': 0.05615863},\n",
       "  {'x': 0.13056988, 'y': 0.26970848, 'z': 0.2379679},\n",
       "  {'x': 0.15648103, 'y': 0.47025827, 'z': 0.2951097},\n",
       "  {'x': 0.20831747, 'y': 0.20181069, 'z': 0.07987702},\n",
       "  {'x': 0.06400769, 'y': 0.16534491, 'z': 0.18851916},\n",
       "  {'x': 0.1679762, 'y': 0.14551143, 'z': 0.09517168},\n",
       "  {'x': 0.047869302, 'y': 0.070571065, 'z': 0.07130603},\n",
       "  {'x': 0.17399786, 'y': 0.3822346, 'z': 0.13954876},\n",
       "  {'x': 0.2432424, 'y': 0.29981008, 'z': 0.10705236},\n",
       "  {'x': 0.034858853, 'y': 0.09879238, 'z': 0.1318947},\n",
       "  {'x': 0.076331556, 'y': 0.23170774, 'z': 0.097268425},\n",
       "  {'x': 0.1338914, 'y': 0.0822535, 'z': 0.047241867},\n",
       "  {'x': 0.30285093, 'y': 0.4577227, 'z': 0.1532523},\n",
       "  {'x': 0.17958714, 'y': 0.1839696, 'z': 0.17063269},\n",
       "  {'x': 0.075764865, 'y': 0.27319124, 'z': 0.224906},\n",
       "  {'x': 0.4479019, 'y': 0.9066498, 'z': 0.6006938},\n",
       "  {'x': 0.28746623, 'y': 0.58831924, 'z': 0.39564005},\n",
       "  {'x': 0.17531526, 'y': 0.3593875, 'z': 0.24215047},\n",
       "  {'x': 0.09292937, 'y': 0.1913961, 'z': 0.12900989},\n",
       "  {'x': 0.043390118, 'y': 0.08968947, 'z': 0.06079034},\n",
       "  {'x': 0.015744902, 'y': 0.03209712, 'z': 0.021817401}])"
      ]
     },
     "execution_count": 455,
     "metadata": {},
     "output_type": "execute_result"
    }
   ],
   "source": [
    "macbethData = color[\"macbethData\"]\n",
    "len(macbethData),macbethData"
   ]
  },
  {
   "cell_type": "code",
   "execution_count": 456,
   "id": "9a39dee8",
   "metadata": {},
   "outputs": [],
   "source": [
    "SENSOR_AR1335 = json_light_header[6]"
   ]
  },
  {
   "cell_type": "code",
   "execution_count": 457,
   "id": "fc1f6420",
   "metadata": {},
   "outputs": [
    {
     "data": {
      "text/plain": [
       "({'x00': 0.7232608,\n",
       "  'x01': -0.12051902,\n",
       "  'x02': -0.034705322,\n",
       "  'x10': -0.34320852,\n",
       "  'x11': 1.1315529,\n",
       "  'x12': 0.24160586,\n",
       "  'x20': -0.048811756,\n",
       "  'x21': 0.2596398,\n",
       "  'x22': 0.4647175},\n",
       " {'x00': 0.8681334,\n",
       "  'x01': 0.15782288,\n",
       "  'x02': -0.061736338,\n",
       "  'x10': 0.29942137,\n",
       "  'x11': 1.0843414,\n",
       "  'x12': -0.3837628,\n",
       "  'x20': -0.04755058,\n",
       "  'x21': -0.4467093,\n",
       "  'x22': 1.3194698})"
      ]
     },
     "execution_count": 457,
     "metadata": {},
     "output_type": "execute_result"
    }
   ],
   "source": [
    "colorMatrix_dict = color[\"colorMatrix\"]\n",
    "forwardMatrix_dict = color[\"forwardMatrix\"]\n",
    "colorMatrix_dict,forwardMatrix_dict"
   ]
  },
  {
   "cell_type": "code",
   "execution_count": 458,
   "id": "071ae0dc",
   "metadata": {},
   "outputs": [
    {
     "name": "stdout",
     "output_type": "stream",
     "text": [
      "[0.7232608]\n",
      "[0.7232608, -0.12051902]\n",
      "[0.7232608, -0.12051902, -0.034705322]\n",
      "[-0.34320852]\n",
      "[-0.34320852, 1.1315529]\n",
      "[-0.34320852, 1.1315529, 0.24160586]\n",
      "[-0.048811756]\n",
      "[-0.048811756, 0.2596398]\n",
      "[-0.048811756, 0.2596398, 0.4647175]\n"
     ]
    }
   ],
   "source": [
    "li = []\n",
    "li2 = []\n",
    "for i in range(3):\n",
    "    l = []\n",
    "    l2 = []\n",
    "    for j in range(3):\n",
    "        l.append(colorMatrix_dict[f\"x{i}{j}\"])\n",
    "        l2.append(forwardMatrix_dict[f\"x{i}{j}\"])\n",
    "        print(l)\n",
    "    li.append(l)\n",
    "    li2.append(l2)"
   ]
  },
  {
   "cell_type": "code",
   "execution_count": 459,
   "id": "1a9081ae",
   "metadata": {},
   "outputs": [],
   "source": [
    "import numpy as np"
   ]
  },
  {
   "cell_type": "code",
   "execution_count": 460,
   "id": "de5ba847",
   "metadata": {},
   "outputs": [
    {
     "data": {
      "text/plain": [
       "array([[ 0.7232608 , -0.12051902, -0.03470532],\n",
       "       [-0.34320852,  1.1315529 ,  0.24160586],\n",
       "       [-0.04881176,  0.2596398 ,  0.4647175 ]])"
      ]
     },
     "execution_count": 460,
     "metadata": {},
     "output_type": "execute_result"
    }
   ],
   "source": [
    "color_matrix = np.array(li)\n",
    "color_matrix"
   ]
  },
  {
   "cell_type": "code",
   "execution_count": 461,
   "id": "fdd52a8d",
   "metadata": {},
   "outputs": [
    {
     "data": {
      "text/plain": [
       "array([[ 0.8681334 ,  0.15782288, -0.06173634],\n",
       "       [ 0.29942137,  1.0843414 , -0.3837628 ],\n",
       "       [-0.04755058, -0.4467093 ,  1.3194698 ]])"
      ]
     },
     "execution_count": 461,
     "metadata": {},
     "output_type": "execute_result"
    }
   ],
   "source": [
    "forward_matrix = np.array(li2)\n",
    "forward_matrix"
   ]
  },
  {
   "cell_type": "code",
   "execution_count": 462,
   "id": "67622803",
   "metadata": {},
   "outputs": [
    {
     "data": {
      "text/plain": [
       "{'start': {'x': 0, 'y': 0},\n",
       " 'size': {'x': 4160, 'y': 3120},\n",
       " 'format': 'RAW_PACKED_10BPP',\n",
       " 'rowStride': 5200,\n",
       " 'dataOffset': '32',\n",
       " 'dataScale': {'x': 1.0, 'y': 1.0}}"
      ]
     },
     "execution_count": 462,
     "metadata": {},
     "output_type": "execute_result"
    }
   ],
   "source": [
    "sensorDataSurface = focus[\"sensorDataSurface\"]\n",
    "sensorDataSurface"
   ]
  },
  {
   "cell_type": "code",
   "execution_count": 463,
   "id": "a1af2a45",
   "metadata": {},
   "outputs": [],
   "source": [
    "block_focus = block_info[0]"
   ]
  },
  {
   "cell_type": "code",
   "execution_count": 464,
   "id": "63708b2a",
   "metadata": {},
   "outputs": [
    {
     "data": {
      "text/plain": [
       "16224032"
      ]
     },
     "execution_count": 464,
     "metadata": {},
     "output_type": "execute_result"
    }
   ],
   "source": [
    "start_offset = int(focus[\"sensorDataSurface\"][\"dataOffset\"])\n",
    "\n",
    "final_offset = start_offset + sensorDataSurface[\"rowStride\"]*sensorDataSurface[\"size\"][\"y\"]\n",
    "\n",
    "final_offset"
   ]
  },
  {
   "cell_type": "code",
   "execution_count": 465,
   "id": "4bccb11d",
   "metadata": {},
   "outputs": [],
   "source": [
    "raw_data = block_focus[start_offset:final_offset]"
   ]
  },
  {
   "cell_type": "code",
   "execution_count": 466,
   "id": "b054c342",
   "metadata": {},
   "outputs": [],
   "source": [
    "with open(\"raw_data.bin\",\"wb\") as f:\n",
    "    f.write(raw_data)\n",
    "    "
   ]
  },
  {
   "cell_type": "code",
   "execution_count": 467,
   "id": "492d0531",
   "metadata": {},
   "outputs": [],
   "source": [
    "def unpack_10bit_to_8bit(data):\n",
    "    \"\"\"Unpack 10-bit packed data to 8-bit values.\"\"\"\n",
    "    # Assuming `data` is a bytes object containing the packed 10-bit data\n",
    "    \n",
    "    # Initialize an empty list to hold the unpacked 10-bit values\n",
    "    unpacked_10bit_values = []\n",
    "    \n",
    "    # Process each set of 5 bytes, which contain 4 10-bit values\n",
    "    for i in range(0, len(data), 5):\n",
    "        if i + 5 <= len(data):  # Ensure there's enough data left\n",
    "            # Extract 4 10-bit values from the 5 bytes\n",
    "            block = data[i:i+5]\n",
    "            val1 = (block[0] << 2) | (block[1] >> 6)\n",
    "            val2 = ((block[1] & 0x3F) << 4) | (block[2] >> 4)\n",
    "            val3 = ((block[2] & 0x0F) << 6) | (block[3] >> 2)\n",
    "            val4 = ((block[3] & 0x03) << 8) | block[4]\n",
    "            \n",
    "            unpacked_10bit_values.extend([val1, val2, val3, val4])\n",
    "    \n",
    "    # Convert 10-bit values to 8-bit by scaling down\n",
    "    # This is a simple linear mapping; more sophisticated methods might be needed for better image quality\n",
    "    unpacked_8bit_values = [int(val * 255 / 1023) for val in unpacked_10bit_values]\n",
    "    \n",
    "    return unpacked_8bit_values\n",
    "\n",
    "# Example: Assuming `raw_data` is a bytes object containing one row of 10-bit packed image data\n",
    "# raw_data = ...\n",
    "\n",
    "# Convert the 10-bit packed data to 8-bit values\n",
    "# unpacked_8bit_values = unpack_10bit_to_8bit(raw_data)\n"
   ]
  },
  {
   "cell_type": "code",
   "execution_count": 468,
   "id": "dcf3bcbc",
   "metadata": {},
   "outputs": [],
   "source": [
    "raw_data_num = unpack_10bit_to_8bit(raw_data)"
   ]
  },
  {
   "cell_type": "code",
   "execution_count": 469,
   "id": "691e4553",
   "metadata": {},
   "outputs": [
    {
     "data": {
      "text/plain": [
       "255"
      ]
     },
     "execution_count": 469,
     "metadata": {},
     "output_type": "execute_result"
    }
   ],
   "source": [
    "max(raw_data_num)"
   ]
  },
  {
   "cell_type": "code",
   "execution_count": 470,
   "id": "af41e8ee",
   "metadata": {},
   "outputs": [],
   "source": [
    "image_width = 4160  # Example width\n",
    "image_height = 3120  # Example height"
   ]
  },
  {
   "cell_type": "code",
   "execution_count": 471,
   "id": "7adc17e1",
   "metadata": {},
   "outputs": [],
   "source": [
    "import numpy as np\n",
    "image_array = np.array(raw_data_num).reshape((image_height, image_width))"
   ]
  },
  {
   "cell_type": "code",
   "execution_count": 472,
   "id": "f23cd549",
   "metadata": {},
   "outputs": [],
   "source": [
    "import matplotlib.pyplot as plt"
   ]
  },
  {
   "cell_type": "code",
   "execution_count": 473,
   "id": "0d98dc54",
   "metadata": {},
   "outputs": [],
   "source": [
    "#import matplotlib.pyplot as plt\n",
    "# cv2.imshow(image_array)  # Use 'gray' for grayscale images"
   ]
  },
  {
   "cell_type": "code",
   "execution_count": 474,
   "id": "d796fcd6",
   "metadata": {},
   "outputs": [
    {
     "data": {
      "image/png": "[encoded data removed]",
      "text/plain": [
       "<Figure size 432x288 with 1 Axes>"
      ]
     },
     "metadata": {
      "needs_background": "light"
     },
     "output_type": "display_data"
    }
   ],
   "source": [
    "import matplotlib.pyplot as plt\n",
    "plt.imshow(image_array)  # Use 'gray' for grayscale images\n",
    "plt.show()"
   ]
  },
  {
   "cell_type": "code",
   "execution_count": 475,
   "id": "46879629",
   "metadata": {},
   "outputs": [
    {
     "data": {
      "text/plain": [
       "True"
      ]
     },
     "execution_count": 475,
     "metadata": {},
     "output_type": "execute_result"
    }
   ],
   "source": [
    "cv2.imwrite(\"image_array8bit.jpeg\",image_array) "
   ]
  },
  {
   "cell_type": "code",
   "execution_count": 476,
   "id": "3ab0aefd",
   "metadata": {},
   "outputs": [
    {
     "data": {
      "image/png": "[encoded data removed]",
      "text/plain": [
       "<Figure size 432x288 with 1 Axes>"
      ]
     },
     "metadata": {
      "needs_background": "light"
     },
     "output_type": "display_data"
    }
   ],
   "source": [
    "brighthed_image = image_array*focus[\"sensorDigitalGain\"]\n",
    "plt.imshow(brighthed_image)  # Use 'gray' for grayscale images\n",
    "plt.show()"
   ]
  },
  {
   "cell_type": "code",
   "execution_count": 477,
   "id": "d3529ab2",
   "metadata": {},
   "outputs": [
    {
     "data": {
      "text/plain": [
       "array([[ 81, 128,  20, ..., 194,  16,  69],\n",
       "       [108,  17,  20, ..., 115,  28, 131],\n",
       "       [ 79, 223,  24, ...,  80,  28,  69],\n",
       "       ..., \n",
       "       [255,  95, 183, ..., 166,  60,  75],\n",
       "       [182, 249, 253, ...,  81,  92,  82],\n",
       "       [254,  79, 199, ...,   7,  40,   8]])"
      ]
     },
     "execution_count": 477,
     "metadata": {},
     "output_type": "execute_result"
    }
   ],
   "source": [
    "image_array"
   ]
  },
  {
   "cell_type": "code",
   "execution_count": 478,
   "id": "4c6f8486",
   "metadata": {},
   "outputs": [
    {
     "data": {
      "text/plain": [
       "True"
      ]
     },
     "execution_count": 478,
     "metadata": {},
     "output_type": "execute_result"
    }
   ],
   "source": [
    "import cv2\n",
    "cv2.imwrite(\"raw.jpeg\",image_array) "
   ]
  },
  {
   "cell_type": "code",
   "execution_count": 479,
   "id": "da2c9d71",
   "metadata": {},
   "outputs": [
    {
     "data": {
      "text/plain": [
       "dtype('int64')"
      ]
     },
     "execution_count": 479,
     "metadata": {},
     "output_type": "execute_result"
    }
   ],
   "source": [
    "image_array.dtype"
   ]
  },
  {
   "cell_type": "code",
   "execution_count": 480,
   "id": "bc388d7e",
   "metadata": {},
   "outputs": [],
   "source": [
    "image1copy = np.uint8(image_array)"
   ]
  },
  {
   "cell_type": "code",
   "execution_count": 481,
   "id": "e06bf663",
   "metadata": {},
   "outputs": [],
   "source": [
    "demosaicked_image = cv2.cvtColor(image1copy, cv2.COLOR_BayerRGGB2BGR)"
   ]
  },
  {
   "cell_type": "code",
   "execution_count": 482,
   "id": "f708685c",
   "metadata": {},
   "outputs": [
    {
     "data": {
      "text/plain": [
       "(3120, 4160, 3)"
      ]
     },
     "execution_count": 482,
     "metadata": {},
     "output_type": "execute_result"
    }
   ],
   "source": [
    "demosaicked_image.shape"
   ]
  },
  {
   "cell_type": "code",
   "execution_count": 483,
   "id": "e918ccca",
   "metadata": {},
   "outputs": [
    {
     "data": {
      "image/png": "[encoded data removed]",
      "text/plain": [
       "<Figure size 432x288 with 1 Axes>"
      ]
     },
     "metadata": {
      "needs_background": "light"
     },
     "output_type": "display_data"
    }
   ],
   "source": [
    "import matplotlib.pyplot as plt\n",
    "plt.imshow(demosaicked_image)  # Use 'gray' for grayscale images\n",
    "plt.show()"
   ]
  },
  {
   "cell_type": "code",
   "execution_count": 484,
   "id": "9187818e",
   "metadata": {},
   "outputs": [
    {
     "data": {
      "text/plain": [
       "True"
      ]
     },
     "execution_count": 484,
     "metadata": {},
     "output_type": "execute_result"
    }
   ],
   "source": [
    "cv2.imwrite(\"demosaicked_image_bgg3rgb.jpeg\",demosaicked_image) "
   ]
  },
  {
   "cell_type": "code",
   "execution_count": 485,
   "id": "3c54c3d9",
   "metadata": {},
   "outputs": [
    {
     "data": {
      "text/plain": [
       "(array([[ 0.7232608 , -0.12051902, -0.03470532],\n",
       "        [-0.34320852,  1.1315529 ,  0.24160586],\n",
       "        [-0.04881176,  0.2596398 ,  0.4647175 ]]),\n",
       " array([[ 0.8681334 ,  0.15782288, -0.06173634],\n",
       "        [ 0.29942137,  1.0843414 , -0.3837628 ],\n",
       "        [-0.04755058, -0.4467093 ,  1.3194698 ]]))"
      ]
     },
     "execution_count": 485,
     "metadata": {},
     "output_type": "execute_result"
    }
   ],
   "source": [
    "color_matrix,forward_matrix"
   ]
  },
  {
   "cell_type": "code",
   "execution_count": 486,
   "id": "3c00bc29",
   "metadata": {},
   "outputs": [
    {
     "data": {
      "text/plain": [
       "array([[[ 17, 120,  51],\n",
       "        [ 17, 120,  51],\n",
       "        [ 74,  20,  22],\n",
       "        ..., \n",
       "        [115, 101,  52],\n",
       "        [123,  28,  22],\n",
       "        [123,  28,  22]],\n",
       "\n",
       "       [[ 17, 120,  51],\n",
       "        [ 17, 120,  51],\n",
       "        [ 74,  20,  22],\n",
       "        ..., \n",
       "        [115, 101,  52],\n",
       "        [123,  28,  22],\n",
       "        [123,  28,  22]],\n",
       "\n",
       "       [[ 25, 223,  52],\n",
       "        [ 25, 223,  52],\n",
       "        [ 78,  82,  24],\n",
       "        ..., \n",
       "        [138,  80,  57],\n",
       "        [135,  49,  28],\n",
       "        [135,  49,  28]],\n",
       "\n",
       "       ..., \n",
       "       [[ 95, 234, 211],\n",
       "        [ 95, 234, 211],\n",
       "        [168, 183, 253],\n",
       "        ..., \n",
       "        [166, 112, 125],\n",
       "        [121,  60,  78],\n",
       "        [121,  60,  78]],\n",
       "\n",
       "       [[ 87, 249, 218],\n",
       "        [ 87, 249, 218],\n",
       "        [164, 222, 253],\n",
       "        ..., \n",
       "        [ 87,  81, 118],\n",
       "        [ 64,  66,  92],\n",
       "        [ 64,  66,  92]],\n",
       "\n",
       "       [[ 87, 249, 218],\n",
       "        [ 87, 249, 218],\n",
       "        [164, 222, 253],\n",
       "        ..., \n",
       "        [ 87,  81, 118],\n",
       "        [ 64,  66,  92],\n",
       "        [ 64,  66,  92]]], dtype=uint8)"
      ]
     },
     "execution_count": 486,
     "metadata": {},
     "output_type": "execute_result"
    }
   ],
   "source": [
    "demosaicked_image"
   ]
  },
  {
   "cell_type": "code",
   "execution_count": 487,
   "id": "933d82c4",
   "metadata": {},
   "outputs": [],
   "source": [
    "image_float = np.float32(demosaicked_image)\n",
    "\n",
    "# Normalize the image data to [0, 1] if your ForwardMatrix expects that range\n",
    "image_float /= 255.0\n",
    "\n",
    "# Reshape the image to a 2D array where each row is a BGR pixel\n",
    "h, w, _ = image_float.shape\n",
    "image_reshaped = image_float.reshape((-1, 3))\n",
    "\n",
    "# Apply the ForwardMatrix to each BGR vector\n",
    "# Since OpenCV uses BGR order, we need to reverse the columns of the matrix\n",
    "forward_matrix_BGR = forward_matrix[:, [2, 1, 0]]\n",
    "\n",
    "# Perform the matrix multiplication\n",
    "corrected_pixels = np.dot(image_reshaped, forward_matrix_BGR.T)\n",
    "\n",
    "# Ensure the pixel values are still within [0, 1]\n",
    "corrected_pixels = np.clip(corrected_pixels, 0, 1)\n",
    "\n",
    "# Reshape the corrected_pixels back to the original image shape\n",
    "corrected_image = corrected_pixels.reshape((h, w, 3))\n",
    "\n",
    "# Convert back to an 8-bit image if you want to display it with OpenCV\n",
    "corrected_image = (corrected_image * 255).astype(np.uint8)\n",
    "\n",
    "# Display the corrected image\n",
    "cv2.imshow('Corrected Image', corrected_image)"
   ]
  },
  {
   "cell_type": "code",
   "execution_count": 488,
   "id": "e000b4b3",
   "metadata": {},
   "outputs": [
    {
     "data": {
      "text/plain": [
       "(3120, 4160, 3)"
      ]
     },
     "execution_count": 488,
     "metadata": {},
     "output_type": "execute_result"
    }
   ],
   "source": [
    "corrected_image.shape"
   ]
  },
  {
   "cell_type": "code",
   "execution_count": 489,
   "id": "85d4aec5",
   "metadata": {},
   "outputs": [
    {
     "data": {
      "image/png": "[encoded data removed]",
      "text/plain": [
       "<Figure size 432x288 with 1 Axes>"
      ]
     },
     "metadata": {
      "needs_background": "light"
     },
     "output_type": "display_data"
    }
   ],
   "source": [
    "import matplotlib.pyplot as plt\n",
    "plt.imshow(corrected_image)  # Use 'gray' for grayscale images\n",
    "plt.show()"
   ]
  },
  {
   "cell_type": "code",
   "execution_count": null,
   "id": "c5a1cfd6",
   "metadata": {},
   "outputs": [],
   "source": []
  },
  {
   "cell_type": "code",
   "execution_count": 490,
   "id": "8351ec21",
   "metadata": {},
   "outputs": [
    {
     "data": {
      "text/plain": [
       "True"
      ]
     },
     "execution_count": 490,
     "metadata": {},
     "output_type": "execute_result"
    }
   ],
   "source": [
    "cv2.imwrite(\"demosaicing.jpeg\",demosaicked_image) "
   ]
  },
  {
   "cell_type": "code",
   "execution_count": null,
   "id": "d63a0cda",
   "metadata": {},
   "outputs": [],
   "source": [
    "\n",
    "\n"
   ]
  },
  {
   "cell_type": "code",
   "execution_count": 491,
   "id": "a3bc60a0",
   "metadata": {},
   "outputs": [],
   "source": [
    "raw_data = block_focus[start_offset:final_offset]"
   ]
  },
  {
   "cell_type": "code",
   "execution_count": 492,
   "id": "ca2a7f85",
   "metadata": {},
   "outputs": [
    {
     "data": {
      "text/plain": [
       "350580983064"
      ]
     },
     "execution_count": 492,
     "metadata": {},
     "output_type": "execute_result"
    }
   ],
   "source": [
    "\n",
    "int.from_bytes(raw_data[:5], byteorder='big')"
   ]
  },
  {
   "cell_type": "code",
   "execution_count": 493,
   "id": "62a1e8a1",
   "metadata": {},
   "outputs": [],
   "source": [
    "\n",
    "import numpy as np\n",
    "\n",
    "def unpack_10bit_to_16bit(packed_data, width, height):\n",
    "    # Calculate the total number of pixels\n",
    "    total_pixels = width * height\n",
    "    # Prepare an array to hold the unpacked 16-bit pixel values\n",
    "    unpacked_data = np.zeros(total_pixels, dtype=np.uint16)\n",
    "    \n",
    "    # Process every 5 bytes to unpack 4 pixels\n",
    "    for i in range(0, len(packed_data), 5):\n",
    "        if i/5*4 >= total_pixels:\n",
    "            # Stop if we have processed all pixels\n",
    "            break\n",
    "        # Combine 5 bytes into a 40-bit number\n",
    "        block = int.from_bytes(packed_data[i:i+5], byteorder='big')\n",
    "        \n",
    "        # Extract and store each of the 4 pixels from this block\n",
    "        for j in range(4):\n",
    "            if i/5*4 + j >= total_pixels:\n",
    "                # Stop if we have filled the unpacked_data array\n",
    "                break\n",
    "            # Shift right to move the desired 10-bit value to the end, then mask to extract it\n",
    "            pixel_value = (block >> (10 * (3-j))) & 0x3FF\n",
    "            # Store the pixel value in the unpacked_data array, scaling up to 16 bits\n",
    "            unpacked_data[i//5*4 + j] = pixel_value << 6  # Scale to 16-bit by left-shifting\n",
    "    \n",
    "    # Reshape the flat array into the original image dimensions\n",
    "    unpacked_image = unpacked_data.reshape((height, width))\n",
    "    \n",
    "    return unpacked_image"
   ]
  },
  {
   "cell_type": "code",
   "execution_count": 494,
   "id": "230b094a",
   "metadata": {},
   "outputs": [
    {
     "data": {
      "text/plain": [
       "b'Q\\xa0AE\\x18'"
      ]
     },
     "execution_count": 494,
     "metadata": {},
     "output_type": "execute_result"
    }
   ],
   "source": [
    "raw_data[:5]"
   ]
  },
  {
   "cell_type": "code",
   "execution_count": 495,
   "id": "a084a0bb",
   "metadata": {},
   "outputs": [],
   "source": [
    "import math\n",
    "\n",
    "# Define the TEN_MASK constant\n",
    "TEN_MASK = 1023  # ten bits\n",
    "\n",
    "def tenbit(packd, count, upack):\n",
    "    required_len_packd = math.ceil(count * (10.0 / 8.0))\n",
    "\n",
    "    if count > len(upack):\n",
    "        raise ValueError(f\"expected output buffer to be {count} bytes, got {len(upack)} bytes\")\n",
    "\n",
    "    if required_len_packd > len(packd):\n",
    "        raise ValueError(f\"expected input to be at least {required_len_packd} bytes, it was {len(packd)} bytes\")\n",
    "\n",
    "    packd = list(packd[:required_len_packd])[::-1]  # Reverse the list\n",
    "    chunker = [packd[i:i + 5] for i in range(0, len(packd), 5)]  # Create chunks of size 5\n",
    "    remain = packd[len(chunker) * 5:]  # Get the remainder\n",
    "\n",
    "    for idx, chnk in enumerate(chunker):\n",
    "        # Convert chunk to a long integer\n",
    "        long = int.from_bytes(chnk + [0, 0, 0], byteorder='big')\n",
    "\n",
    "        b4 = long & TEN_MASK\n",
    "        b3 = (long >> 10) & TEN_MASK\n",
    "        b2 = (long >> 20) & TEN_MASK\n",
    "        b1 = (long >> 30) & TEN_MASK\n",
    "\n",
    "        base_idx = idx * 4\n",
    "        upack[base_idx:base_idx + 4] = [b1, b2, b3, b4]\n",
    "\n",
    "    if remain:\n",
    "        long_bytes = remain + [0] * (8 - len(remain))\n",
    "        long = int.from_bytes(long_bytes, byteorder='little')\n",
    "\n",
    "        count_remain = count % 4\n",
    "        start = count - count_remain\n",
    "        for idx in range(count_remain):\n",
    "            upack[start + idx] = ((long >> (10 * idx)) & TEN_MASK)\n",
    "    return upack"
   ]
  },
  {
   "cell_type": "code",
   "execution_count": null,
   "id": "05e625b0",
   "metadata": {},
   "outputs": [],
   "source": []
  },
  {
   "cell_type": "code",
   "execution_count": 496,
   "id": "5e3c79a0",
   "metadata": {},
   "outputs": [
    {
     "data": {
      "text/plain": [
       "12979200"
      ]
     },
     "execution_count": 496,
     "metadata": {},
     "output_type": "execute_result"
    }
   ],
   "source": [
    "count = width * height;\n",
    "count"
   ]
  },
  {
   "cell_type": "code",
   "execution_count": 497,
   "id": "5b3ac39a",
   "metadata": {},
   "outputs": [],
   "source": [
    "upack = np.zeros(count)"
   ]
  },
  {
   "cell_type": "code",
   "execution_count": 498,
   "id": "337f61d4",
   "metadata": {},
   "outputs": [],
   "source": [
    "rei = tenbit(raw_data, count, upack)"
   ]
  },
  {
   "cell_type": "code",
   "execution_count": 499,
   "id": "111d6afb",
   "metadata": {},
   "outputs": [
    {
     "data": {
      "text/plain": [
       "(3120, 4160)"
      ]
     },
     "execution_count": 499,
     "metadata": {},
     "output_type": "execute_result"
    }
   ],
   "source": [
    "image_new = np.array(rei).reshape(height,width)\n",
    "image_new.shape"
   ]
  },
  {
   "cell_type": "code",
   "execution_count": 500,
   "id": "a43d5824",
   "metadata": {},
   "outputs": [
    {
     "data": {
      "text/plain": [
       "1023.0"
      ]
     },
     "execution_count": 500,
     "metadata": {},
     "output_type": "execute_result"
    }
   ],
   "source": [
    "image_new.max()"
   ]
  },
  {
   "cell_type": "code",
   "execution_count": 501,
   "id": "74670bed",
   "metadata": {},
   "outputs": [
    {
     "data": {
      "text/plain": [
       "0.99903868162050813"
      ]
     },
     "execution_count": 501,
     "metadata": {},
     "output_type": "execute_result"
    }
   ],
   "source": [
    "np.max(normalized_image)"
   ]
  },
  {
   "cell_type": "code",
   "execution_count": 502,
   "id": "7f8652c3",
   "metadata": {},
   "outputs": [],
   "source": [
    "normalized_image = image_new /1024\n",
    "demosaicing_menon = demosaicing_CFA_Bayer_bilinear(normalized_image, \"RGGB\")\n",
    "# demosaicing_menon"
   ]
  },
  {
   "cell_type": "code",
   "execution_count": 503,
   "id": "b70d3d53",
   "metadata": {},
   "outputs": [
    {
     "data": {
      "text/plain": [
       "dtype('float32')"
      ]
     },
     "execution_count": 503,
     "metadata": {},
     "output_type": "execute_result"
    }
   ],
   "source": [
    "demosaicing_menon = demosaicing_menon.astype(np.float32)\n",
    "demosaicing_menon.dtype"
   ]
  },
  {
   "cell_type": "code",
   "execution_count": 504,
   "id": "f28fd9cf",
   "metadata": {},
   "outputs": [],
   "source": [
    "from colour_hdri import Image"
   ]
  },
  {
   "cell_type": "code",
   "execution_count": 505,
   "id": "747e3ec8",
   "metadata": {},
   "outputs": [],
   "source": [
    "img = Image(data=demosaicing_menon)"
   ]
  },
  {
   "cell_type": "code",
   "execution_count": 507,
   "id": "4552f640",
   "metadata": {},
   "outputs": [
    {
     "data": {
      "text/plain": [
       "True"
      ]
     },
     "execution_count": 507,
     "metadata": {},
     "output_type": "execute_result"
    }
   ],
   "source": [
    "cv2.imwrite(\"demosaicing_CFA_Bayer_DDFAPD_10bit.jpeg\",demosaicing_menon) "
   ]
  },
  {
   "cell_type": "code",
   "execution_count": null,
   "id": "adc6c65c",
   "metadata": {},
   "outputs": [],
   "source": [
    "\n",
    "display_image = np.uint8(demosaicing_menon * 255)\n",
    "display_image = cv2.cvtColor(display_image, cv2.COLOR_RGB2BGR)\n",
    "\n",
    "# Display the 8-bit image\n",
    "cv2.imwrite(\"demosaicing_CFA_Bayer_DDFAPD_10bit.png\",display_image) "
   ]
  },
  {
   "cell_type": "code",
   "execution_count": 508,
   "id": "79e6c6f1",
   "metadata": {},
   "outputs": [],
   "source": [
    "white_balanced_image = np.empty_like(demosaicing_menon)\n",
    "white_balanced_image[..., 0] = demosaicing_menon[..., 0] * rgRatio # Red channel\n",
    "white_balanced_image[..., 1] = demosaicing_menon[..., 1] # Green channel stays the same\n",
    "white_balanced_image[..., 2] = demosaicing_menon[..., 2] * bgRatio # Blue channel\n"
   ]
  },
  {
   "cell_type": "code",
   "execution_count": 509,
   "id": "44e84082",
   "metadata": {},
   "outputs": [
    {
     "data": {
      "text/plain": [
       "True"
      ]
     },
     "execution_count": 509,
     "metadata": {},
     "output_type": "execute_result"
    }
   ],
   "source": [
    "display_image = np.uint8(white_balanced_image * 255)\n",
    "display_image = cv2.cvtColor(display_image, cv2.COLOR_RGB2BGR)\n",
    "cv2.imwrite(\"white_balanced_image_10bit.jpeg\",display_image) "
   ]
  },
  {
   "cell_type": "code",
   "execution_count": 510,
   "id": "cccda901",
   "metadata": {},
   "outputs": [
    {
     "data": {
      "text/plain": [
       "(3120, 4160, 3)"
      ]
     },
     "execution_count": 510,
     "metadata": {},
     "output_type": "execute_result"
    }
   ],
   "source": [
    "color_corrected_image = np.dot(white_balanced_image.reshape(-1, 3),premul.T).reshape(white_balanced_image.shape)\n",
    "color_corrected_image.shape"
   ]
  },
  {
   "cell_type": "code",
   "execution_count": 511,
   "id": "aa4ab2bb",
   "metadata": {},
   "outputs": [
    {
     "data": {
      "text/plain": [
       "True"
      ]
     },
     "execution_count": 511,
     "metadata": {},
     "output_type": "execute_result"
    }
   ],
   "source": [
    "display_image = np.uint8(color_corrected_image * 255)\n",
    "display_image = cv2.cvtColor(display_image, cv2.COLOR_RGB2BGR)\n",
    "cv2.imwrite(\"white_balanced_image_10bit.jpeg\",display_image) "
   ]
  },
  {
   "cell_type": "code",
   "execution_count": 512,
   "id": "85817416",
   "metadata": {},
   "outputs": [],
   "source": [
    "\n",
    "gamma = np.vectorize(srgb_gamma)(color_corrected_image)"
   ]
  },
  {
   "cell_type": "code",
   "execution_count": 513,
   "id": "e6c152bc",
   "metadata": {},
   "outputs": [
    {
     "data": {
      "text/plain": [
       "True"
      ]
     },
     "execution_count": 513,
     "metadata": {},
     "output_type": "execute_result"
    }
   ],
   "source": [
    "display_image = np.uint8(gamma * 255)\n",
    "display_image = cv2.cvtColor(display_image, cv2.COLOR_RGB2BGR)\n",
    "cv2.imwrite(\"gamma.jpeg\",display_image) "
   ]
  },
  {
   "cell_type": "code",
   "execution_count": null,
   "id": "d44ecd07",
   "metadata": {},
   "outputs": [],
   "source": []
  },
  {
   "cell_type": "code",
   "execution_count": null,
   "id": "13e56301",
   "metadata": {},
   "outputs": [],
   "source": [
    "import colour"
   ]
  },
  {
   "cell_type": "code",
   "execution_count": 514,
   "id": "7e1d26d5",
   "metadata": {},
   "outputs": [],
   "source": [
    "from colour_demosaicing import (\n",
    "    demosaicing_CFA_Bayer_bilinear,\n",
    "    demosaicing_CFA_Bayer_Malvar2004,\n",
    "    demosaicing_CFA_Bayer_Menon2007,\n",
    "    mosaicing_CFA_Bayer)"
   ]
  },
  {
   "cell_type": "code",
   "execution_count": 515,
   "id": "a92edbe2",
   "metadata": {},
   "outputs": [
    {
     "data": {
      "text/plain": [
       "(3120, 4160, 3)"
      ]
     },
     "execution_count": 515,
     "metadata": {},
     "output_type": "execute_result"
    }
   ],
   "source": [
    "normalized_image = image_new //1023\n",
    "demosaicing_menon = demosaicing_CFA_Bayer_bilinear(normalized_image, \"RGGB\")\n",
    "np.max(demosaicing_menon)\n",
    "demosaicing_menon.shape"
   ]
  },
  {
   "cell_type": "code",
   "execution_count": 517,
   "id": "40c3fb61",
   "metadata": {},
   "outputs": [],
   "source": [
    "# colour.write_image(demosaicing_menon, \"color_try\")"
   ]
  },
  {
   "cell_type": "code",
   "execution_count": null,
   "id": "1cfc693c",
   "metadata": {},
   "outputs": [],
   "source": []
  },
  {
   "cell_type": "code",
   "execution_count": 518,
   "id": "831d57d3",
   "metadata": {},
   "outputs": [
    {
     "name": "stdout",
     "output_type": "stream",
     "text": [
      "(3120, 4160)\n"
     ]
    }
   ],
   "source": [
    "import numpy as np\n",
    "import cv2\n",
    "\n",
    "\n",
    "# Dummy packed data and dimensions\n",
    "packed_data = raw_data\n",
    "width, height = 4160, 3120\n",
    "\n",
    "# Unpack the data\n",
    "unpacked_data_16bit = unpack_10bit_to_16bit(packed_data, width, height)\n",
    "\n",
    "# Convert the unpacked data to an appropriate format for demosaicking\n",
    "# Assuming the unpacked data is already in a NumPy array\n",
    "image_data = unpacked_data_16bit.reshape(height, width).astype(np.uint16)\n",
    "print(image_data.shape)\n",
    "\n",
    "\n",
    "# Now, demosaicked_image contains the demosaicked image data\n"
   ]
  },
  {
   "cell_type": "code",
   "execution_count": 519,
   "id": "98b5f1e2",
   "metadata": {},
   "outputs": [
    {
     "data": {
      "text/plain": [
       "65472"
      ]
     },
     "execution_count": 519,
     "metadata": {},
     "output_type": "execute_result"
    }
   ],
   "source": [
    "np.max(image_data)"
   ]
  },
  {
   "cell_type": "code",
   "execution_count": 520,
   "id": "c803b51e",
   "metadata": {},
   "outputs": [
    {
     "data": {
      "text/plain": [
       "65535"
      ]
     },
     "execution_count": 520,
     "metadata": {},
     "output_type": "execute_result"
    }
   ],
   "source": [
    "2**16-1"
   ]
  },
  {
   "cell_type": "code",
   "execution_count": 521,
   "id": "d828c2a5",
   "metadata": {},
   "outputs": [
    {
     "data": {
      "image/png": "[encoded data removed]",
      "text/plain": [
       "<Figure size 432x288 with 1 Axes>"
      ]
     },
     "metadata": {
      "needs_background": "light"
     },
     "output_type": "display_data"
    }
   ],
   "source": [
    "import matplotlib.pyplot as plt\n",
    "plt.imshow(image_data)  # Use 'gray' for grayscale images\n",
    "plt.show()"
   ]
  },
  {
   "cell_type": "code",
   "execution_count": 522,
   "id": "2edb8099",
   "metadata": {},
   "outputs": [
    {
     "data": {
      "text/plain": [
       "True"
      ]
     },
     "execution_count": 522,
     "metadata": {},
     "output_type": "execute_result"
    }
   ],
   "source": [
    "cv2.imwrite(\"raw_16bit.jpeg\",image_data) "
   ]
  },
  {
   "cell_type": "code",
   "execution_count": null,
   "id": "8102fa0f",
   "metadata": {},
   "outputs": [],
   "source": []
  },
  {
   "cell_type": "code",
   "execution_count": 523,
   "id": "83ece77c",
   "metadata": {},
   "outputs": [
    {
     "name": "stdout",
     "output_type": "stream",
     "text": [
      "0.7353569830524495\n"
     ]
    }
   ],
   "source": [
    "def srgb_gamma(value: float) -> float:\n",
    "    if value <= 0.0031308:\n",
    "        value *= 12.92\n",
    "    else:\n",
    "        value = (value ** (1.0 / 2.4)) * 1.055 - 0.055\n",
    "\n",
    "    # Clamping the value between 0.0 and 1.0\n",
    "    return max(0.0, min(1.0, value))\n",
    "\n",
    "# Example usage\n",
    "value = 0.5  # Replace 0.5 with your input value\n",
    "gamma_corrected_value = srgb_gamma(value)\n",
    "print(gamma_corrected_value)\n"
   ]
  },
  {
   "cell_type": "code",
   "execution_count": null,
   "id": "a6ed2215",
   "metadata": {},
   "outputs": [],
   "source": []
  },
  {
   "cell_type": "code",
   "execution_count": 524,
   "id": "72151519",
   "metadata": {},
   "outputs": [
    {
     "ename": "NameError",
     "evalue": "name 'Color' is not defined",
     "output_type": "error",
     "traceback": [
      "\u001b[0;31m---------------------------------------------------------------------------\u001b[0m",
      "\u001b[0;31mNameError\u001b[0m                                 Traceback (most recent call last)",
      "\u001b[0;32m<ipython-input-524-ed22c90958b4>\u001b[0m in \u001b[0;36m<module>\u001b[0;34m\u001b[0m\n\u001b[0;32m----> 1\u001b[0;31m \u001b[0mColor\u001b[0m\u001b[0;34m.\u001b[0m\u001b[0mImage\u001b[0m\u001b[0;34m(\u001b[0m\u001b[0mdata\u001b[0m\u001b[0;34m=\u001b[0m\u001b[0mimage_data\u001b[0m\u001b[0;34m)\u001b[0m\u001b[0;34m\u001b[0m\u001b[0;34m\u001b[0m\u001b[0m\n\u001b[0m",
      "\u001b[0;31mNameError\u001b[0m: name 'Color' is not defined"
     ]
    }
   ],
   "source": [
    "Color.Image(data=image_data)"
   ]
  },
  {
   "cell_type": "code",
   "execution_count": 532,
   "id": "faaffff0",
   "metadata": {},
   "outputs": [],
   "source": [
    "BRUCE_XYZ_RGB_D65= np.array([\n",
    "     [3.2404542, -1.5371385, -0.4985314],\n",
    " [-0.9692660,  1.8760108,  0.0415560],\n",
    " [0.0556434, -0.2040259,  1.0572252]\n",
    "])\n",
    "to_srgb = np.array(BRUCE_XYZ_RGB_D65).reshape(3, 3)"
   ]
  },
  {
   "cell_type": "code",
   "execution_count": 533,
   "id": "fc774859",
   "metadata": {},
   "outputs": [
    {
     "data": {
      "text/plain": [
       "array([[ 0.8681334 ,  0.15782288, -0.06173634],\n",
       "       [ 0.29942137,  1.0843414 , -0.3837628 ],\n",
       "       [-0.04755058, -0.4467093 ,  1.3194698 ]])"
      ]
     },
     "execution_count": 533,
     "metadata": {},
     "output_type": "execute_result"
    }
   ],
   "source": [
    "forward_matrix"
   ]
  },
  {
   "cell_type": "code",
   "execution_count": 534,
   "id": "4f74aea7",
   "metadata": {},
   "outputs": [
    {
     "data": {
      "text/plain": [
       "array([[ 2.65673895, -1.02576803, -0.49150248],\n",
       "       [-0.10210788,  1.65228161, -0.50993377],\n",
       "       [ 0.35231445, -1.03414566,  1.40011873]])"
      ]
     },
     "execution_count": 534,
     "metadata": {},
     "output_type": "execute_result"
    }
   ],
   "source": [
    "premul = np.dot(forward_matrix, to_srgb)\n",
    "premul"
   ]
  },
  {
   "cell_type": "code",
   "execution_count": 535,
   "id": "60ce912c",
   "metadata": {},
   "outputs": [],
   "source": [
    "bgRatio = color[\"bgRatio\"]\n",
    "rgRatio = color[\"rgRatio\"]"
   ]
  },
  {
   "cell_type": "code",
   "execution_count": 536,
   "id": "c23b8451",
   "metadata": {},
   "outputs": [],
   "source": [
    "wb_max = max(rgRatio, bgRatio)"
   ]
  },
  {
   "cell_type": "code",
   "execution_count": 537,
   "id": "6e6d9a6e",
   "metadata": {},
   "outputs": [],
   "source": [
    "wb_r = rgRatio\n",
    "wb_g = 1.0\n",
    "wb_b = bgRatio"
   ]
  },
  {
   "cell_type": "code",
   "execution_count": 538,
   "id": "82fe5739",
   "metadata": {},
   "outputs": [
    {
     "data": {
      "text/plain": [
       "array([[ 3.2404542, -1.5371385, -0.4985314],\n",
       "       [-0.969266 ,  1.8760108,  0.041556 ],\n",
       "       [ 0.0556434, -0.2040259,  1.0572252]])"
      ]
     },
     "execution_count": 538,
     "metadata": {},
     "output_type": "execute_result"
    }
   ],
   "source": [
    "to_srgb"
   ]
  },
  {
   "cell_type": "code",
   "execution_count": 539,
   "id": "ada0d5bd",
   "metadata": {},
   "outputs": [
    {
     "data": {
      "text/plain": [
       "array([[ 2.65673895, -1.02576803, -0.49150248],\n",
       "       [-0.10210788,  1.65228161, -0.50993377],\n",
       "       [ 0.35231445, -1.03414566,  1.40011873]])"
      ]
     },
     "execution_count": 539,
     "metadata": {},
     "output_type": "execute_result"
    }
   ],
   "source": [
    "premul"
   ]
  },
  {
   "cell_type": "code",
   "execution_count": 540,
   "id": "5770e27c",
   "metadata": {},
   "outputs": [],
   "source": [
    "premul = forward_matrix*to_srgb"
   ]
  },
  {
   "cell_type": "code",
   "execution_count": 541,
   "id": "d8823a14",
   "metadata": {},
   "outputs": [
    {
     "data": {
      "text/plain": [
       "array([[[ 4544, 30864, 13136],\n",
       "        [ 4544, 30864, 13136],\n",
       "        [19168,  5184,  5696],\n",
       "        ..., \n",
       "        [29632, 25936, 13408],\n",
       "        [31744,  7232,  5696],\n",
       "        [31744,  7232,  5696]],\n",
       "\n",
       "       [[ 4544, 30864, 13136],\n",
       "        [ 4544, 30864, 13136],\n",
       "        [19168,  5184,  5696],\n",
       "        ..., \n",
       "        [29632, 25936, 13408],\n",
       "        [31744,  7232,  5696],\n",
       "        [31744,  7232,  5696]],\n",
       "\n",
       "       [[ 6400, 57344, 13248],\n",
       "        [ 6400, 57344, 13248],\n",
       "        [20080, 21136,  6208],\n",
       "        ..., \n",
       "        [35392, 20608, 14720],\n",
       "        [34672, 12736,  7232],\n",
       "        [34672, 12736,  7232]],\n",
       "\n",
       "       ..., \n",
       "       [[24512, 60192, 54176],\n",
       "        [24512, 60192, 54176],\n",
       "        [43168, 47040, 65152],\n",
       "        ..., \n",
       "        [42752, 28784, 32144],\n",
       "        [31008, 15616, 20096],\n",
       "        [31008, 15616, 20096]],\n",
       "\n",
       "       [[22464, 64128, 55968],\n",
       "        [22464, 64128, 55968],\n",
       "        [42224, 56944, 65152],\n",
       "        ..., \n",
       "        [22304, 20864, 30208],\n",
       "        [16528, 17024, 23680],\n",
       "        [16528, 17024, 23680]],\n",
       "\n",
       "       [[22464, 64128, 55968],\n",
       "        [22464, 64128, 55968],\n",
       "        [42224, 56944, 65152],\n",
       "        ..., \n",
       "        [22304, 20864, 30208],\n",
       "        [16528, 17024, 23680],\n",
       "        [16528, 17024, 23680]]], dtype=uint16)"
      ]
     },
     "execution_count": 541,
     "metadata": {},
     "output_type": "execute_result"
    }
   ],
   "source": [
    "demosaicked_image = cv2.cvtColor(image_data, cv2.COLOR_BayerRGGB2BGR)\n",
    "demosaicked_image"
   ]
  },
  {
   "cell_type": "code",
   "execution_count": 553,
   "id": "184111b1",
   "metadata": {},
   "outputs": [
    {
     "data": {
      "text/plain": [
       "array([[ 0.31836423,  0.50391394,  0.07910277],\n",
       "       [ 0.42578775,  0.069337  ,  0.07910277],\n",
       "       [ 0.30957504,  0.87501335,  0.09472801]])"
      ]
     },
     "execution_count": 553,
     "metadata": {},
     "output_type": "execute_result"
    }
   ],
   "source": [
    "normalized_image[:3,:3]"
   ]
  },
  {
   "cell_type": "code",
   "execution_count": 554,
   "id": "40633b19",
   "metadata": {},
   "outputs": [
    {
     "data": {
      "text/plain": [
       "array([[[ 0.36419555,  0.41390606,  0.31836423],\n",
       "        [ 0.48470792,  0.50391394,  0.46200249],\n",
       "        [ 0.15656435,  0.06738384,  0.07910277],\n",
       "        ..., \n",
       "        [ 0.78321508,  0.76368353,  0.71896442],\n",
       "        [ 0.20323661,  0.08040487,  0.06347753],\n",
       "        [ 0.53821622,  0.27344167,  0.25651433]],\n",
       "\n",
       "       [[ 0.40658172,  0.42578775,  0.34576944],\n",
       "        [ 0.069337  ,  0.08854302,  0.00769055],\n",
       "        [ 0.17665878,  0.07910277,  0.09635564],\n",
       "        ..., \n",
       "        [ 0.45215534,  0.43262379,  0.32495613],\n",
       "        [ 0.25250629,  0.11035325,  0.09993642],\n",
       "        [ 0.51660945,  0.2518349 ,  0.21948577]],\n",
       "\n",
       "       [[ 0.37527699,  0.37406984,  0.30957504],\n",
       "        [ 0.88538949,  0.87501335,  0.85415936],\n",
       "        [ 0.1423565 ,  0.0719412 ,  0.09472801],\n",
       "        ..., \n",
       "        [ 0.49858345,  0.31445792,  0.27517103],\n",
       "        [ 0.35611166,  0.11425956,  0.11035325],\n",
       "        [ 0.59032069,  0.27344167,  0.26953536]],\n",
       "\n",
       "       ..., \n",
       "       [[ 0.68356349,  0.99903868,  0.91537855],\n",
       "        [ 0.37402914,  0.68950434,  0.63165569],\n",
       "        [ 0.4507922 ,  0.71778439,  0.7392284 ],\n",
       "        ..., \n",
       "        [ 0.6523537 ,  0.57125709,  0.81414681],\n",
       "        [ 0.38987818,  0.23828489,  0.24481575],\n",
       "        [ 0.2939498 ,  0.07185982,  0.10275764]],\n",
       "\n",
       "       [[ 0.28299043,  0.71518018,  0.71387808],\n",
       "        [ 0.64220137,  0.97853056,  1.06837568],\n",
       "        [ 0.62945839,  0.81316345,  0.99415579],\n",
       "        ..., \n",
       "        [ 0.33083594,  0.31836423,  0.59935403],\n",
       "        [ 0.20146656,  0.21358562,  0.36133364],\n",
       "        [ 0.37801684,  0.32227054,  0.47001857]],\n",
       "\n",
       "       [[ 0.63990234,  0.99708553,  0.99578342],\n",
       "        [ 0.31152819,  0.66871138,  0.69510609],\n",
       "        [ 0.55351593,  0.78028534,  0.96127769],\n",
       "        ..., \n",
       "        [ 0.02832074,  0.08447395,  0.34414859],\n",
       "        [ 0.0767834 ,  0.16015869,  0.30790672],\n",
       "        [ 0.03418021,  0.1447776 ,  0.25235031]]])"
      ]
     },
     "execution_count": 554,
     "metadata": {},
     "output_type": "execute_result"
    }
   ],
   "source": [
    "demosaicing_menon"
   ]
  },
  {
   "cell_type": "code",
   "execution_count": null,
   "id": "43045d02",
   "metadata": {},
   "outputs": [],
   "source": []
  },
  {
   "cell_type": "code",
   "execution_count": null,
   "id": "f6dd214c",
   "metadata": {},
   "outputs": [],
   "source": []
  },
  {
   "cell_type": "code",
   "execution_count": 542,
   "id": "e9827376",
   "metadata": {},
   "outputs": [
    {
     "data": {
      "text/plain": [
       "True"
      ]
     },
     "execution_count": 542,
     "metadata": {},
     "output_type": "execute_result"
    }
   ],
   "source": [
    "normalized_image = image_data / 65535.0\n",
    "display_image = np.uint8(normalized_image * 255)\n",
    "\n",
    "# Display the 8-bit image\n",
    "cv2.imwrite(\"demosaicked_image_gray.jpeg\",display_image) "
   ]
  },
  {
   "cell_type": "code",
   "execution_count": 543,
   "id": "41247f56",
   "metadata": {},
   "outputs": [],
   "source": [
    "# demosaicing_CFA_Bayer_Menon2007(CFA, \"BGGR\")"
   ]
  },
  {
   "cell_type": "code",
   "execution_count": 544,
   "id": "cf3ebaa2",
   "metadata": {},
   "outputs": [],
   "source": [
    "normalized_image = image_data / 65535.0"
   ]
  },
  {
   "cell_type": "code",
   "execution_count": 545,
   "id": "f9a457c1",
   "metadata": {},
   "outputs": [],
   "source": [
    "from colour_demosaicing import demosaicing_CFA_Bayer_Menon2007\n",
    "from colour_demosaicing import demosaicing_CFA_Bayer_bilinear\n",
    "from colour_demosaicing import demosaicing_CFA_Bayer_DDFAPD\n",
    "from colour_demosaicing import demosaicing_CFA_Bayer_Malvar2004\n",
    "\n",
    "\n"
   ]
  },
  {
   "cell_type": "code",
   "execution_count": 546,
   "id": "5010f8e2",
   "metadata": {},
   "outputs": [],
   "source": [
    "normalized_image = image_data / 65535.0\n",
    "# display_image = np.uint8(normalized_image * 255)"
   ]
  },
  {
   "cell_type": "code",
   "execution_count": 547,
   "id": "4a28419e",
   "metadata": {},
   "outputs": [
    {
     "data": {
      "text/plain": [
       "True"
      ]
     },
     "execution_count": 547,
     "metadata": {},
     "output_type": "execute_result"
    }
   ],
   "source": [
    "normalized_image = image_data / 65535.0\n",
    "demosaicing_menon = demosaicing_CFA_Bayer_Menon2007(normalized_image, \"RGGB\")\n",
    "\n",
    "display_image = np.uint8(demosaicing_menon * 255)\n",
    "display_image = cv2.cvtColor(display_image, cv2.COLOR_RGB2BGR)\n",
    "# Display the 8-bit image\n",
    "cv2.imwrite(\"demosaicing_CFA_Bayer_Menon2007.jpeg\",display_image) "
   ]
  },
  {
   "cell_type": "code",
   "execution_count": 550,
   "id": "4d4a656b",
   "metadata": {},
   "outputs": [
    {
     "data": {
      "text/plain": [
       "True"
      ]
     },
     "execution_count": 550,
     "metadata": {},
     "output_type": "execute_result"
    }
   ],
   "source": [
    "normalized_image = image_data / 65535.0\n",
    "demosaicing_menon = demosaicing_CFA_Bayer_Menon2007(normalized_image, \"BGGR\")\n",
    "\n",
    "display_image = np.uint8(demosaicing_menon * 255)\n",
    "display_image = cv2.cvtColor(display_image, cv2.COLOR_RGB2BGR)\n",
    "# Display the 8-bit image\n",
    "cv2.imwrite(\"demosaicing_CFA_Bayer_Menon2007_BGGR.jpeg\",display_image) "
   ]
  },
  {
   "cell_type": "code",
   "execution_count": null,
   "id": "52c4d2d9",
   "metadata": {},
   "outputs": [],
   "source": [
    "normalized_image = image_data \n",
    "demosaicing_menon = demosaicing_CFA_Bayer_bilinear(normalized_image, \"RGGB\")\n",
    "\n",
    "display_image = np.uint8(demosaicing_menon * 255)\n",
    "display_image = cv2.cvtColor(display_image, cv2.COLOR_RGB2BGR)\n",
    "\n",
    "# Display the 8-bit image\n",
    "cv2.imwrite(\"demosaicing_CFA_Bayer_bilinear.jpeg\",display_image) "
   ]
  },
  {
   "cell_type": "code",
   "execution_count": null,
   "id": "3b9510bf",
   "metadata": {},
   "outputs": [],
   "source": [
    "normalized_image = image_data / 65535.0\n",
    "demosaicing_menon = demosaicing_CFA_Bayer_Malvar2004(normalized_image, \"RGGB\")\n",
    "\n",
    "display_image = np.uint8(demosaicing_menon * 255)\n",
    "display_image = cv2.cvtColor(display_image, cv2.COLOR_RGB2BGR)\n",
    "\n",
    "# Display the 8-bit image\n",
    "cv2.imwrite(\"demosaicing_CFA_Bayer_Malvar2004.jpeg\",display_image) "
   ]
  },
  {
   "cell_type": "code",
   "execution_count": null,
   "id": "8a180e97",
   "metadata": {},
   "outputs": [],
   "source": [
    "normalized_image = image_data / 65535.0\n",
    "demosaicing_menon = demosaicing_CFA_Bayer_DDFAPD(normalized_image, \"RGGB\")\n",
    "\n",
    "display_image = np.uint8(demosaicing_menon * 255)\n",
    "display_image = cv2.cvtColor(display_image, cv2.COLOR_RGB2BGR)\n",
    "\n",
    "# Display the 8-bit image\n",
    "cv2.imwrite(\"demosaicing_CFA_Bayer_DDFAPD.jpeg\",display_image) "
   ]
  },
  {
   "cell_type": "code",
   "execution_count": null,
   "id": "6440191a",
   "metadata": {},
   "outputs": [],
   "source": [
    "# image_data"
   ]
  },
  {
   "cell_type": "markdown",
   "id": "7bf9199c",
   "metadata": {},
   "source": [
    "demosaicing_menon"
   ]
  },
  {
   "cell_type": "code",
   "execution_count": null,
   "id": "9d352621",
   "metadata": {},
   "outputs": [],
   "source": [
    "color_corrected_image.shape"
   ]
  },
  {
   "cell_type": "code",
   "execution_count": 429,
   "id": "d4d1cb87",
   "metadata": {},
   "outputs": [],
   "source": [
    "normalized_image = image_data / 65535.0\n",
    "demosaicing_menon = demosaicing_CFA_Bayer_bilinear(normalized_image, \"RGGB\")"
   ]
  },
  {
   "cell_type": "code",
   "execution_count": 437,
   "id": "f049f743",
   "metadata": {},
   "outputs": [],
   "source": [
    "# demosaicing_menon"
   ]
  },
  {
   "cell_type": "code",
   "execution_count": 432,
   "id": "32a7c909",
   "metadata": {},
   "outputs": [],
   "source": [
    "img = Image(data = demosaicing_menon)"
   ]
  },
  {
   "cell_type": "code",
   "execution_count": 438,
   "id": "92bf5b1f",
   "metadata": {},
   "outputs": [
    {
     "ename": "TypeError",
     "evalue": "float() argument must be a string or a number, not 'Image'",
     "output_type": "error",
     "traceback": [
      "\u001b[0;31m---------------------------------------------------------------------------\u001b[0m",
      "\u001b[0;31mTypeError\u001b[0m                                 Traceback (most recent call last)",
      "\u001b[0;32m<ipython-input-438-aa91ac5f9d0e>\u001b[0m in \u001b[0;36m<module>\u001b[0;34m\u001b[0m\n\u001b[0;32m----> 1\u001b[0;31m colour.plotting.plot_image(\n\u001b[0m\u001b[1;32m      2\u001b[0m     img)\n",
      "\u001b[0;32m~/.local/lib/python3.8/site-packages/colour/plotting/common.py\u001b[0m in \u001b[0;36mwrapped\u001b[0;34m(*args, **kwargs)\u001b[0m\n\u001b[1;32m    333\u001b[0m \u001b[0;34m\u001b[0m\u001b[0m\n\u001b[1;32m    334\u001b[0m             \u001b[0;32mwith\u001b[0m \u001b[0mplt\u001b[0m\u001b[0;34m.\u001b[0m\u001b[0mstyle\u001b[0m\u001b[0;34m.\u001b[0m\u001b[0mcontext\u001b[0m\u001b[0;34m(\u001b[0m\u001b[0mstyle_overrides\u001b[0m\u001b[0;34m)\u001b[0m\u001b[0;34m:\u001b[0m\u001b[0;34m\u001b[0m\u001b[0;34m\u001b[0m\u001b[0m\n\u001b[0;32m--> 335\u001b[0;31m                 \u001b[0;32mreturn\u001b[0m \u001b[0mfunction\u001b[0m\u001b[0;34m(\u001b[0m\u001b[0;34m*\u001b[0m\u001b[0margs\u001b[0m\u001b[0;34m,\u001b[0m \u001b[0;34m**\u001b[0m\u001b[0mkwargs\u001b[0m\u001b[0;34m)\u001b[0m\u001b[0;34m\u001b[0m\u001b[0;34m\u001b[0m\u001b[0m\n\u001b[0m\u001b[1;32m    336\u001b[0m \u001b[0;34m\u001b[0m\u001b[0m\n\u001b[1;32m    337\u001b[0m         \u001b[0;32mreturn\u001b[0m \u001b[0mwrapped\u001b[0m\u001b[0;34m\u001b[0m\u001b[0;34m\u001b[0m\u001b[0m\n",
      "\u001b[0;32m~/.local/lib/python3.8/site-packages/colour/plotting/common.py\u001b[0m in \u001b[0;36mplot_image\u001b[0;34m(image, imshow_kwargs, text_kwargs, **kwargs)\u001b[0m\n\u001b[1;32m   1696\u001b[0m     \u001b[0mtext_offset\u001b[0m \u001b[0;34m=\u001b[0m \u001b[0mtext_settings\u001b[0m\u001b[0;34m.\u001b[0m\u001b[0mpop\u001b[0m\u001b[0;34m(\u001b[0m\u001b[0;34m\"offset\"\u001b[0m\u001b[0;34m)\u001b[0m\u001b[0;34m\u001b[0m\u001b[0;34m\u001b[0m\u001b[0m\n\u001b[1;32m   1697\u001b[0m \u001b[0;34m\u001b[0m\u001b[0m\n\u001b[0;32m-> 1698\u001b[0;31m     \u001b[0mimage\u001b[0m \u001b[0;34m=\u001b[0m \u001b[0mas_float_array\u001b[0m\u001b[0;34m(\u001b[0m\u001b[0mimage\u001b[0m\u001b[0;34m)\u001b[0m\u001b[0;34m\u001b[0m\u001b[0;34m\u001b[0m\u001b[0m\n\u001b[0m\u001b[1;32m   1699\u001b[0m \u001b[0;34m\u001b[0m\u001b[0m\n\u001b[1;32m   1700\u001b[0m     \u001b[0maxes\u001b[0m\u001b[0;34m.\u001b[0m\u001b[0mimshow\u001b[0m\u001b[0;34m(\u001b[0m\u001b[0mnp\u001b[0m\u001b[0;34m.\u001b[0m\u001b[0mclip\u001b[0m\u001b[0;34m(\u001b[0m\u001b[0mimage\u001b[0m\u001b[0;34m,\u001b[0m \u001b[0;36m0\u001b[0m\u001b[0;34m,\u001b[0m \u001b[0;36m1\u001b[0m\u001b[0;34m)\u001b[0m\u001b[0;34m,\u001b[0m \u001b[0;34m**\u001b[0m\u001b[0mimshow_settings\u001b[0m\u001b[0;34m)\u001b[0m\u001b[0;34m\u001b[0m\u001b[0;34m\u001b[0m\u001b[0m\n",
      "\u001b[0;32m~/.local/lib/python3.8/site-packages/colour/utilities/array.py\u001b[0m in \u001b[0;36mas_float_array\u001b[0;34m(a, dtype)\u001b[0m\n\u001b[1;32m    721\u001b[0m     )\n\u001b[1;32m    722\u001b[0m \u001b[0;34m\u001b[0m\u001b[0m\n\u001b[0;32m--> 723\u001b[0;31m     \u001b[0;32mreturn\u001b[0m \u001b[0mas_array\u001b[0m\u001b[0;34m(\u001b[0m\u001b[0ma\u001b[0m\u001b[0;34m,\u001b[0m \u001b[0mdtype\u001b[0m\u001b[0;34m)\u001b[0m\u001b[0;34m\u001b[0m\u001b[0;34m\u001b[0m\u001b[0m\n\u001b[0m\u001b[1;32m    724\u001b[0m \u001b[0;34m\u001b[0m\u001b[0m\n\u001b[1;32m    725\u001b[0m \u001b[0;34m\u001b[0m\u001b[0m\n",
      "\u001b[0;32m~/.local/lib/python3.8/site-packages/colour/utilities/array.py\u001b[0m in \u001b[0;36mas_array\u001b[0;34m(a, dtype)\u001b[0m\n\u001b[1;32m    562\u001b[0m         \u001b[0ma\u001b[0m \u001b[0;34m=\u001b[0m \u001b[0mlist\u001b[0m\u001b[0;34m(\u001b[0m\u001b[0ma\u001b[0m\u001b[0;34m)\u001b[0m\u001b[0;34m\u001b[0m\u001b[0;34m\u001b[0m\u001b[0m\n\u001b[1;32m    563\u001b[0m \u001b[0;34m\u001b[0m\u001b[0m\n\u001b[0;32m--> 564\u001b[0;31m     \u001b[0;32mreturn\u001b[0m \u001b[0mnp\u001b[0m\u001b[0;34m.\u001b[0m\u001b[0masarray\u001b[0m\u001b[0;34m(\u001b[0m\u001b[0ma\u001b[0m\u001b[0;34m,\u001b[0m \u001b[0mdtype\u001b[0m\u001b[0;34m)\u001b[0m\u001b[0;34m\u001b[0m\u001b[0;34m\u001b[0m\u001b[0m\n\u001b[0m\u001b[1;32m    565\u001b[0m \u001b[0;34m\u001b[0m\u001b[0m\n\u001b[1;32m    566\u001b[0m \u001b[0;34m\u001b[0m\u001b[0m\n",
      "\u001b[0;31mTypeError\u001b[0m: float() argument must be a string or a number, not 'Image'"
     ]
    },
    {
     "data": {
      "image/png": "[encoded data removed]",
      "text/plain": [
       "<Figure size 432x288 with 1 Axes>"
      ]
     },
     "metadata": {
      "needs_background": "light"
     },
     "output_type": "display_data"
    }
   ],
   "source": [
    "colour.plotting.plot_image(\n",
    "    img)"
   ]
  },
  {
   "cell_type": "code",
   "execution_count": null,
   "id": "1fb9c341",
   "metadata": {},
   "outputs": [],
   "source": []
  },
  {
   "cell_type": "code",
   "execution_count": null,
   "id": "71b6838e",
   "metadata": {},
   "outputs": [],
   "source": []
  },
  {
   "cell_type": "code",
   "execution_count": null,
   "id": "e7260a4f",
   "metadata": {},
   "outputs": [],
   "source": []
  },
  {
   "cell_type": "code",
   "execution_count": null,
   "id": "252021ee",
   "metadata": {},
   "outputs": [],
   "source": [
    "white_balanced_image = np.empty_like(demosaicing_menon)\n",
    "white_balanced_image[..., 0] = demosaicing_menon[..., 0] * rgRatio # Red channel\n",
    "white_balanced_image[..., 1] = demosaicing_menon[..., 1] # Green channel stays the same\n",
    "white_balanced_image[..., 2] = demosaicing_menon[..., 2] * bgRatio # Blue channel\n"
   ]
  },
  {
   "cell_type": "code",
   "execution_count": null,
   "id": "45b45266",
   "metadata": {},
   "outputs": [],
   "source": [
    "display_image = np.uint8(white_balanced_image * 255)\n",
    "display_image = cv2.cvtColor(display_image, cv2.COLOR_RGB2BGR)\n",
    "cv2.imwrite(\"white_balanced_image.jpeg\",display_image) "
   ]
  },
  {
   "cell_type": "code",
   "execution_count": null,
   "id": "a9ba6055",
   "metadata": {},
   "outputs": [],
   "source": [
    "result = white_balanced_image[:,:,np.newaxis] * premul"
   ]
  },
  {
   "cell_type": "code",
   "execution_count": null,
   "id": "ca6a024a",
   "metadata": {},
   "outputs": [],
   "source": [
    "result.shape"
   ]
  },
  {
   "cell_type": "code",
   "execution_count": null,
   "id": "acbe8d09",
   "metadata": {},
   "outputs": [],
   "source": [
    "premul = forward_matrix*to_srgb"
   ]
  },
  {
   "cell_type": "code",
   "execution_count": null,
   "id": "ac26955c",
   "metadata": {},
   "outputs": [],
   "source": [
    "color_corrected_image = np.dot(white_balanced_image.reshape(-1, 3),premul.T).reshape(white_balanced_image.shape)\n",
    "color_corrected_image.shape"
   ]
  },
  {
   "cell_type": "code",
   "execution_count": null,
   "id": "c0bc4fac",
   "metadata": {},
   "outputs": [],
   "source": [
    "color_corrected_image"
   ]
  },
  {
   "cell_type": "code",
   "execution_count": null,
   "id": "4f54ddbf",
   "metadata": {},
   "outputs": [],
   "source": [
    "\n",
    "gamma = np.vectorize(srgb_gamma)(color_corrected_image)"
   ]
  },
  {
   "cell_type": "code",
   "execution_count": null,
   "id": "22227ad1",
   "metadata": {},
   "outputs": [],
   "source": [
    "np.max(gamma)"
   ]
  },
  {
   "cell_type": "code",
   "execution_count": null,
   "id": "c411615a",
   "metadata": {},
   "outputs": [],
   "source": [
    "srgb_gamma(0.1345623)"
   ]
  },
  {
   "cell_type": "code",
   "execution_count": null,
   "id": "52678b88",
   "metadata": {},
   "outputs": [],
   "source": [
    "display_image = np.uint8(gamma * 255)\n",
    "display_image = cv2.cvtColor(display_image, cv2.COLOR_RGB2BGR)\n",
    "cv2.imwrite(\"gamma.jpeg\",display_image) "
   ]
  },
  {
   "cell_type": "code",
   "execution_count": null,
   "id": "9413f5e4",
   "metadata": {},
   "outputs": [],
   "source": []
  },
  {
   "cell_type": "code",
   "execution_count": null,
   "id": "6b460bff",
   "metadata": {},
   "outputs": [],
   "source": []
  },
  {
   "cell_type": "code",
   "execution_count": null,
   "id": "734fa4b3",
   "metadata": {},
   "outputs": [],
   "source": []
  },
  {
   "cell_type": "code",
   "execution_count": null,
   "id": "e72b1df2",
   "metadata": {},
   "outputs": [],
   "source": []
  },
  {
   "cell_type": "code",
   "execution_count": null,
   "id": "e2278cd5",
   "metadata": {
    "scrolled": true
   },
   "outputs": [],
   "source": [
    "display_image = np.uint8(white_balanced_image * 255)\n",
    "\n",
    "cv2.imwrite(\"white_balanced_image.jpeg\",display_image) "
   ]
  },
  {
   "cell_type": "code",
   "execution_count": null,
   "id": "f911f7e1",
   "metadata": {},
   "outputs": [],
   "source": [
    "gamma = np.vectorize(srgb_gamma)(white_balanced_image)"
   ]
  },
  {
   "cell_type": "code",
   "execution_count": null,
   "id": "05017bf8",
   "metadata": {},
   "outputs": [],
   "source": [
    "display_image = np.uint8(gamma * 255)\n",
    "display_image = cv2.cvtColor(display_image, cv2.COLOR_RGB2BGR)\n",
    "cv2.imwrite(\"gamma.jpeg\",display_image) "
   ]
  },
  {
   "cell_type": "code",
   "execution_count": null,
   "id": "388419d5",
   "metadata": {},
   "outputs": [],
   "source": []
  },
  {
   "cell_type": "code",
   "execution_count": null,
   "id": "ed41135a",
   "metadata": {},
   "outputs": [],
   "source": []
  },
  {
   "cell_type": "code",
   "execution_count": null,
   "id": "c4d69de2",
   "metadata": {},
   "outputs": [],
   "source": [
    "color_corrected_image = cv2.cvtColor(color_corrected_image, cv2.COLOR_RGB2BGR)"
   ]
  },
  {
   "cell_type": "code",
   "execution_count": null,
   "id": "36904b63",
   "metadata": {},
   "outputs": [],
   "source": []
  },
  {
   "cell_type": "code",
   "execution_count": null,
   "id": "11399ae2",
   "metadata": {},
   "outputs": [],
   "source": [
    "final_image_8bit = (color_corrected_image * 255).astype(np.uint8)"
   ]
  },
  {
   "cell_type": "code",
   "execution_count": null,
   "id": "60bf8b75",
   "metadata": {},
   "outputs": [],
   "source": [
    "# display_image = np.uint8(final_image_8bit * 255)\n",
    "\n",
    "# Display the 8-bit image\n",
    "cv2.imwrite(\"final_image_menon.jpeg\",final_image_8bit) "
   ]
  },
  {
   "cell_type": "code",
   "execution_count": null,
   "id": "84cc1d69",
   "metadata": {},
   "outputs": [],
   "source": [
    "white_balanced_image = np.empty_like(image_in_standard_space)\n",
    "white_balanced_image[..., 0] = image_in_standard_space[..., 0] * bgRatio # Red channel\n",
    "white_balanced_image[..., 1] = image_in_standard_space[..., 1] # Green channel stays the same\n",
    "white_balanced_image[..., 2] = image_in_standard_space[..., 2] * rgRatio # Blue channel\n"
   ]
  },
  {
   "cell_type": "code",
   "execution_count": null,
   "id": "20fcdfdc",
   "metadata": {},
   "outputs": [],
   "source": []
  },
  {
   "cell_type": "code",
   "execution_count": null,
   "id": "8afd8076",
   "metadata": {},
   "outputs": [],
   "source": []
  },
  {
   "cell_type": "code",
   "execution_count": null,
   "id": "b40799d0",
   "metadata": {},
   "outputs": [],
   "source": []
  },
  {
   "cell_type": "code",
   "execution_count": null,
   "id": "8b13af38",
   "metadata": {},
   "outputs": [],
   "source": []
  },
  {
   "cell_type": "code",
   "execution_count": null,
   "id": "82573046",
   "metadata": {},
   "outputs": [],
   "source": [
    "normalized_image.shape"
   ]
  },
  {
   "cell_type": "code",
   "execution_count": null,
   "id": "e3bbaa71",
   "metadata": {},
   "outputs": [],
   "source": [
    "image_data.shape"
   ]
  },
  {
   "cell_type": "code",
   "execution_count": null,
   "id": "fc58fca3",
   "metadata": {},
   "outputs": [],
   "source": [
    "demosaicing_CFA_Bayer_Menon2007(CFA, \"BGGR\").shape"
   ]
  },
  {
   "cell_type": "code",
   "execution_count": null,
   "id": "2579ba1d",
   "metadata": {},
   "outputs": [],
   "source": [
    "color_corrected_image = np.dot(normalized_image.reshape(-1, 3), premul).reshape(normalized_image.shape)\n",
    "final_image_8bit = (color_corrected_image * 255).astype(np.uint8)\n",
    "cv2.imwrite(\"process_color_matrix.jpeg\",final_image_8bit) "
   ]
  },
  {
   "cell_type": "code",
   "execution_count": null,
   "id": "bb5fd8ef",
   "metadata": {},
   "outputs": [],
   "source": [
    "RGB = np.array([[[0, 1, 2], [0, 1, 2]], [[0, 1, 2], [0, 1, 2]]])\n",
    "mosaicing_CFA_Bayer(RGB)"
   ]
  },
  {
   "cell_type": "code",
   "execution_count": null,
   "id": "a1bcf1a8",
   "metadata": {},
   "outputs": [],
   "source": []
  },
  {
   "cell_type": "code",
   "execution_count": null,
   "id": "068270f2",
   "metadata": {},
   "outputs": [],
   "source": []
  },
  {
   "cell_type": "code",
   "execution_count": null,
   "id": "c67b1522",
   "metadata": {},
   "outputs": [],
   "source": [
    "normalized_image = image_data / 65535.0\n",
    "display_image = np.uint8(normalized_image * 255)"
   ]
  },
  {
   "cell_type": "code",
   "execution_count": null,
   "id": "da3e270a",
   "metadata": {},
   "outputs": [],
   "source": [
    "display_image = np.uint8(normalized_image * 255)\n",
    "\n",
    "# Display the 8-bit image\n",
    "cv2.imshow('Display Image', display_image)"
   ]
  },
  {
   "cell_type": "code",
   "execution_count": null,
   "id": "6357633a",
   "metadata": {},
   "outputs": [],
   "source": [
    "cv2.imwrite(\"raw_16bit.jpeg\",display_image) "
   ]
  },
  {
   "cell_type": "code",
   "execution_count": null,
   "id": "41252e9e",
   "metadata": {},
   "outputs": [],
   "source": [
    "color_corrected_image = np.dot(normalized_image.reshape(-1, 3), color_matrix).reshape(normalized_image.shape)\n",
    "final_image_8bit = (color_corrected_image * 255).astype(np.uint8)\n",
    "cv2.imwrite(\"process_color_matrix.jpeg\",final_image_8bit) "
   ]
  },
  {
   "cell_type": "code",
   "execution_count": null,
   "id": "a9be80ec",
   "metadata": {},
   "outputs": [],
   "source": [
    "bgRatio,rgRatio"
   ]
  },
  {
   "cell_type": "code",
   "execution_count": null,
   "id": "cc8f2429",
   "metadata": {},
   "outputs": [],
   "source": [
    "COLOR_BGR2RGB"
   ]
  },
  {
   "cell_type": "code",
   "execution_count": null,
   "id": "65bcd413",
   "metadata": {},
   "outputs": [],
   "source": []
  },
  {
   "cell_type": "code",
   "execution_count": null,
   "id": "9bcc0d47",
   "metadata": {},
   "outputs": [],
   "source": [
    "demosaicked_image = cv2.cvtColor(image_data, cv2.COLOR_BayerRGGB2BGR)\n"
   ]
  },
  {
   "cell_type": "code",
   "execution_count": null,
   "id": "d083196f",
   "metadata": {},
   "outputs": [],
   "source": [
    "brighthed_image = image_array*focus[\"sensorDigitalGain\"]"
   ]
  },
  {
   "cell_type": "code",
   "execution_count": null,
   "id": "d03ceca7",
   "metadata": {},
   "outputs": [],
   "source": [
    "demosaicked_image.shape"
   ]
  },
  {
   "cell_type": "code",
   "execution_count": null,
   "id": "95460b9e",
   "metadata": {},
   "outputs": [],
   "source": [
    "normalized_image = demosaicked_image / 65535.0\n",
    "display_image = np.uint8(normalized_image * 255)"
   ]
  },
  {
   "cell_type": "code",
   "execution_count": null,
   "id": "c6224d0c",
   "metadata": {},
   "outputs": [],
   "source": [
    "cv2.imwrite(\"demosaicked_image.jpeg\",display_image) "
   ]
  },
  {
   "cell_type": "code",
   "execution_count": null,
   "id": "eae8d12e",
   "metadata": {},
   "outputs": [],
   "source": [
    "demosaicked_image.shape,normalized_image.shape"
   ]
  },
  {
   "cell_type": "code",
   "execution_count": null,
   "id": "8f3d844d",
   "metadata": {},
   "outputs": [],
   "source": [
    "forward_matrix.shape"
   ]
  },
  {
   "cell_type": "code",
   "execution_count": null,
   "id": "fd2af247",
   "metadata": {},
   "outputs": [],
   "source": [
    "from numpy.linalg import inv\n",
    "color_matrix_inv = inv(color_matrix)"
   ]
  },
  {
   "cell_type": "code",
   "execution_count": null,
   "id": "e1d042a9",
   "metadata": {},
   "outputs": [],
   "source": [
    "# color_corrected_image = np.dot(normalized_image.reshape(-1, 3), color_matrix).reshape(normalized_image.shape)\n",
    "# final_image_8bit = (color_corrected_image * 255).astype(np.uint8)\n",
    "# cv2.imwrite(\"process_color_matrix.jpeg\",final_image_8bit) "
   ]
  },
  {
   "cell_type": "code",
   "execution_count": null,
   "id": "53945719",
   "metadata": {},
   "outputs": [],
   "source": [
    "image_in_standard_space = np.dot(normalized_image.reshape(-1, 3), forward_matrix).reshape(color_corrected_image.shape)\n",
    "final_image_8bit = (image_in_standard_space * 255).astype(np.uint8)\n",
    "cv2.imwrite(\"process_matrix_forward.jpeg\",final_image_8bit) "
   ]
  },
  {
   "cell_type": "code",
   "execution_count": 551,
   "id": "e927a245",
   "metadata": {},
   "outputs": [
    {
     "data": {
      "text/plain": [
       "array([[ 0.8681334 ,  0.15782288, -0.06173634],\n",
       "       [ 0.29942137,  1.0843414 , -0.3837628 ],\n",
       "       [-0.04755058, -0.4467093 ,  1.3194698 ]])"
      ]
     },
     "execution_count": 551,
     "metadata": {},
     "output_type": "execute_result"
    }
   ],
   "source": [
    "forward_matrix"
   ]
  },
  {
   "cell_type": "code",
   "execution_count": null,
   "id": "eb558db0",
   "metadata": {},
   "outputs": [],
   "source": []
  },
  {
   "cell_type": "code",
   "execution_count": null,
   "id": "339f5179",
   "metadata": {},
   "outputs": [],
   "source": [
    "white_balanced_image = np.empty_like(image_in_standard_space)\n",
    "white_balanced_image[..., 0] = image_in_standard_space[..., 0] * bgRatio # Red channel\n",
    "white_balanced_image[..., 1] = image_in_standard_space[..., 1] # Green channel stays the same\n",
    "white_balanced_image[..., 2] = image_in_standard_space[..., 2] * rgRatio # Blue channel\n"
   ]
  },
  {
   "cell_type": "code",
   "execution_count": null,
   "id": "fe9c1fe4",
   "metadata": {},
   "outputs": [],
   "source": [
    "final_image_8bit = (white_balanced_image * 255).astype(np.uint8)\n",
    "cv2.imwrite(\"white_balanced.jpeg\",final_image_8bit) "
   ]
  },
  {
   "cell_type": "code",
   "execution_count": null,
   "id": "da2189f6",
   "metadata": {},
   "outputs": [],
   "source": [
    "final_image = np.clip(white_balanced_image, 0, 1)"
   ]
  },
  {
   "cell_type": "code",
   "execution_count": null,
   "id": "90320e2c",
   "metadata": {},
   "outputs": [],
   "source": [
    "cv2.imwrite(\"final.jpeg\",final_image_8bit) "
   ]
  },
  {
   "cell_type": "code",
   "execution_count": null,
   "id": "651188f2",
   "metadata": {},
   "outputs": [],
   "source": [
    "color_corrected_image = np.dot(normalized_image.reshape(-1, 3), color_matrix).reshape(normalized_image.shape)\n",
    "cv2.imwrite(\"process_matrix.jpeg\",final_image_8bit) "
   ]
  },
  {
   "cell_type": "code",
   "execution_count": null,
   "id": "6e226e6b",
   "metadata": {},
   "outputs": [],
   "source": []
  },
  {
   "cell_type": "code",
   "execution_count": null,
   "id": "63983932",
   "metadata": {},
   "outputs": [],
   "source": [
    "color_matrix"
   ]
  },
  {
   "cell_type": "code",
   "execution_count": null,
   "id": "766057bb",
   "metadata": {},
   "outputs": [],
   "source": [
    "forward_matrix"
   ]
  },
  {
   "cell_type": "code",
   "execution_count": null,
   "id": "b93e06e3",
   "metadata": {},
   "outputs": [],
   "source": []
  },
  {
   "cell_type": "code",
   "execution_count": null,
   "id": "28f6f31d",
   "metadata": {},
   "outputs": [],
   "source": [
    "image_in_standard_space = np.dot(color_corrected_image.reshape(-1, 3), forward_matrix).reshape(color_corrected_image.shape)\n",
    "\n",
    "final_image_8bit = (image_in_standard_space * 255).astype(np.uint8)\n",
    "\n",
    "cv2.imwrite(\"process_matrix.jpeg\",final_image_8bit) "
   ]
  },
  {
   "cell_type": "code",
   "execution_count": null,
   "id": "5c25fb71",
   "metadata": {},
   "outputs": [],
   "source": [
    "bgRatio = color[\"bgRatio\"]\n",
    "rgRatio = color[\"rgRatio\"]\n",
    "bgRatio,rgRatio"
   ]
  },
  {
   "cell_type": "code",
   "execution_count": null,
   "id": "410e63e8",
   "metadata": {},
   "outputs": [],
   "source": []
  },
  {
   "cell_type": "code",
   "execution_count": null,
   "id": "670c2b1c",
   "metadata": {},
   "outputs": [],
   "source": [
    "final_image = np.clip(white_balanced_image, 0, 1)"
   ]
  },
  {
   "cell_type": "code",
   "execution_count": null,
   "id": "0969871d",
   "metadata": {},
   "outputs": [],
   "source": [
    "final_image_8bit = (final_image * 255).astype(np.uint8)\n",
    "\n",
    "# Display the image\n",
    "cv2.imwrite(\"process.jpeg\",final_image_8bit) "
   ]
  },
  {
   "cell_type": "code",
   "execution_count": null,
   "id": "36a3d18d",
   "metadata": {},
   "outputs": [],
   "source": []
  },
  {
   "cell_type": "code",
   "execution_count": null,
   "id": "9da189b6",
   "metadata": {},
   "outputs": [],
   "source": [
    "demosaicked_image.dtype"
   ]
  },
  {
   "cell_type": "code",
   "execution_count": null,
   "id": "12101810",
   "metadata": {},
   "outputs": [],
   "source": [
    "# image_float = np.float32(demosaicked_image)\n",
    "# image_float /= 255.0\n",
    "\n",
    "# Prepare the image for matrix multiplication: Flatten the image to a 2D array where each row is a pixel\n",
    "h, w, c = normalized_image.shape\n",
    "image_2d = normalized_image.reshape((-1, 3))"
   ]
  },
  {
   "cell_type": "code",
   "execution_count": null,
   "id": "2e0198c5",
   "metadata": {},
   "outputs": [],
   "source": [
    "forward_matrix"
   ]
  },
  {
   "cell_type": "code",
   "execution_count": null,
   "id": "2073713b",
   "metadata": {},
   "outputs": [],
   "source": [
    "corrected_pixels = np.dot(image_2d, forward_matrix)"
   ]
  },
  {
   "cell_type": "code",
   "execution_count": null,
   "id": "122f31a3",
   "metadata": {},
   "outputs": [],
   "source": [
    "corrected_pixels = np.clip(corrected_pixels, 0, 1)"
   ]
  },
  {
   "cell_type": "code",
   "execution_count": null,
   "id": "c8bc035f",
   "metadata": {},
   "outputs": [],
   "source": [
    "corrected_image = corrected_pixels.reshape((h, w, c))"
   ]
  },
  {
   "cell_type": "code",
   "execution_count": null,
   "id": "dcecba86",
   "metadata": {},
   "outputs": [],
   "source": [
    "corrected_image_8bit = np.uint8(corrected_image * 255)"
   ]
  },
  {
   "cell_type": "code",
   "execution_count": null,
   "id": "f86fb640",
   "metadata": {},
   "outputs": [],
   "source": [
    "cv2.imwrite(\"forward_matrix.jpeg\",corrected_image_8bit) "
   ]
  },
  {
   "cell_type": "code",
   "execution_count": null,
   "id": "7d614faa",
   "metadata": {},
   "outputs": [],
   "source": []
  },
  {
   "cell_type": "code",
   "execution_count": null,
   "id": "a0136c45",
   "metadata": {},
   "outputs": [],
   "source": []
  },
  {
   "cell_type": "code",
   "execution_count": null,
   "id": "daa8bb97",
   "metadata": {},
   "outputs": [],
   "source": [
    "forward_matrix"
   ]
  },
  {
   "cell_type": "code",
   "execution_count": null,
   "id": "11c85766",
   "metadata": {},
   "outputs": [],
   "source": []
  },
  {
   "cell_type": "code",
   "execution_count": null,
   "id": "9c8562c0",
   "metadata": {},
   "outputs": [],
   "source": []
  },
  {
   "cell_type": "code",
   "execution_count": null,
   "id": "7ee0cc8b",
   "metadata": {},
   "outputs": [],
   "source": []
  },
  {
   "cell_type": "code",
   "execution_count": null,
   "id": "82a72025",
   "metadata": {},
   "outputs": [],
   "source": []
  },
  {
   "cell_type": "code",
   "execution_count": null,
   "id": "f212472c",
   "metadata": {},
   "outputs": [],
   "source": []
  },
  {
   "cell_type": "code",
   "execution_count": null,
   "id": "f436e768",
   "metadata": {},
   "outputs": [],
   "source": []
  },
  {
   "cell_type": "code",
   "execution_count": null,
   "id": "57d2adbe",
   "metadata": {},
   "outputs": [],
   "source": [
    "import matplotlib.pyplot as plt\n",
    "plt.imshow(demosaicked_image, cmap='gray')  # Use 'gray' for grayscale images\n",
    "plt.show()"
   ]
  },
  {
   "cell_type": "code",
   "execution_count": null,
   "id": "aac5c21b",
   "metadata": {},
   "outputs": [],
   "source": [
    "unpacked_data_16bit[0:10]"
   ]
  },
  {
   "cell_type": "markdown",
   "id": "e77edb5d",
   "metadata": {},
   "source": [
    "unpacked_data_16bit[0"
   ]
  },
  {
   "cell_type": "code",
   "execution_count": null,
   "id": "421f4a2f",
   "metadata": {},
   "outputs": [],
   "source": [
    "import matplotlib.pyplot as plt\n",
    "plt.imshow(demosaicked_image, cmap='gray')  # Use 'gray' for grayscale images\n",
    "plt.show()"
   ]
  },
  {
   "cell_type": "code",
   "execution_count": null,
   "id": "972edfbb",
   "metadata": {},
   "outputs": [],
   "source": []
  },
  {
   "cell_type": "markdown",
   "id": "30ed3df0",
   "metadata": {},
   "source": [
    "5200 Bytes  = 41600 Bits Assuming a 10 bit channel we get 4160 pixels "
   ]
  },
  {
   "cell_type": "code",
   "execution_count": null,
   "id": "29036977",
   "metadata": {},
   "outputs": [],
   "source": []
  },
  {
   "cell_type": "code",
   "execution_count": null,
   "id": "0ed93c60",
   "metadata": {},
   "outputs": [],
   "source": [
    "block_info[0]"
   ]
  },
  {
   "cell_type": "code",
   "execution_count": null,
   "id": "e2f24b44",
   "metadata": {},
   "outputs": [],
   "source": [
    "header_info_all[]"
   ]
  },
  {
   "cell_type": "code",
   "execution_count": null,
   "id": "c3c1025f-7d6f-44d8-8c37-3cb92c0b7426",
   "metadata": {},
   "outputs": [],
   "source": [
    "# {\"start\": {\"x\": 0, \"y\": 0},\n",
    "#     \"size\": {\"x\": 4160, \"y\": 3120},\n",
    "#     \"format\": \"RAW_PACKED_10BPP\",\n",
    "#     \"rowStride\": 5200,\n",
    "#     \"dataOffset\": \"32\",\n",
    "#     \"dataScale\": {\"x\": 1.0, \"y\": 1.0}},\n",
    "#    \"sensorTemparature\": 34,\n",
    "#    \"sensorBayerRedOverride\": {\"x\": 1, \"y\": 1},\n",
    "#    \"sensorDigitalGain\": 1.03125,\n",
    "#    \"frameIndex\": 0,\n",
    "#    \"sensorDpcOn\": true}"
   ]
  },
  {
   "cell_type": "code",
   "execution_count": null,
   "id": "f6692773-ec33-4b94-9a63-6ffb582f8887",
   "metadata": {},
   "outputs": [],
   "source": [
    "vz = binary_content[32:(32+5200*3120)]"
   ]
  },
  {
   "cell_type": "code",
   "execution_count": null,
   "id": "aecb6737-6081-4f07-98fd-2bc0a7f01758",
   "metadata": {},
   "outputs": [],
   "source": [
    "len(vz)/3120"
   ]
  },
  {
   "cell_type": "code",
   "execution_count": null,
   "id": "a91a0904-d410-4bcf-b4e0-868e7e6ca88e",
   "metadata": {},
   "outputs": [],
   "source": [
    "5200*3120+32"
   ]
  },
  {
   "cell_type": "code",
   "execution_count": null,
   "id": "3c7710ff-e257-4cf6-baf0-3c05b569a187",
   "metadata": {},
   "outputs": [],
   "source": [
    "16228384-16224032"
   ]
  },
  {
   "cell_type": "code",
   "execution_count": null,
   "id": "daa2d5b5-1d05-4d2f-9c83-6923354b4787",
   "metadata": {},
   "outputs": [],
   "source": [
    "4160*10/8"
   ]
  },
  {
   "cell_type": "code",
   "execution_count": null,
   "id": "0a773628-b04a-447f-839d-4e1e89bee86d",
   "metadata": {},
   "outputs": [],
   "source": []
  },
  {
   "cell_type": "code",
   "execution_count": null,
   "id": "30da3522-f29a-4310-969a-a073dd4c91b0",
   "metadata": {},
   "outputs": [],
   "source": [
    "16228384 + 5200*3120"
   ]
  },
  {
   "cell_type": "code",
   "execution_count": null,
   "id": "31714a41-9854-4396-85b3-7540f1dfc4c9",
   "metadata": {},
   "outputs": [],
   "source": [
    "32456736 -32452384"
   ]
  },
  {
   "cell_type": "code",
   "execution_count": null,
   "id": "8e9df3c4-417f-4988-b842-aba8aeb43759",
   "metadata": {},
   "outputs": [],
   "source": [
    "vz = binary_content[(32+5200*3120):16228384]"
   ]
  },
  {
   "cell_type": "code",
   "execution_count": null,
   "id": "6de956b8-25db-42f8-8de7-30e9cfaa1797",
   "metadata": {},
   "outputs": [],
   "source": [
    "5200/3120"
   ]
  },
  {
   "cell_type": "code",
   "execution_count": null,
   "id": "0b0b1853-7b88-483e-a14f-6cbf6ea3fc11",
   "metadata": {},
   "outputs": [],
   "source": [
    "test_bytes = bytes(vz)"
   ]
  },
  {
   "cell_type": "code",
   "execution_count": null,
   "id": "70a95013-91cb-4d32-8332-28105afc5e5b",
   "metadata": {},
   "outputs": [],
   "source": [
    "test_bytes"
   ]
  },
  {
   "cell_type": "code",
   "execution_count": null,
   "id": "b324bc11-4851-41ad-9c60-79f88529ef37",
   "metadata": {},
   "outputs": [],
   "source": [
    "import numpy as np"
   ]
  },
  {
   "cell_type": "code",
   "execution_count": null,
   "id": "4c013bbb-8a75-413e-99bb-b195342f4d33",
   "metadata": {},
   "outputs": [],
   "source": [
    "test_image = np.frombuffer(bytes(test_bytes), dtype=np.float16)"
   ]
  },
  {
   "cell_type": "code",
   "execution_count": null,
   "id": "9054499d-cbdc-4ae7-83f3-33ed4c340bfc",
   "metadata": {},
   "outputs": [],
   "source": [
    "test_image.shape"
   ]
  },
  {
   "cell_type": "code",
   "execution_count": null,
   "id": "8cacdc60-0c02-400d-975b-7c4640df756a",
   "metadata": {},
   "outputs": [],
   "source": [
    "test_image"
   ]
  },
  {
   "cell_type": "code",
   "execution_count": null,
   "id": "3a68df02-9734-4aa6-ab6f-7cbfef92343a",
   "metadata": {},
   "outputs": [],
   "source": [
    "hex\n",
    "for byte in vz:\n",
    "    # Write the hexadecimal representation of the byte to the output file\n",
    "    # Format with two characters, padding with zeros if necessary\n",
    "    output_file.write(f'{byte:02x} ')"
   ]
  },
  {
   "cell_type": "code",
   "execution_count": null,
   "id": "62780d4f-ada8-4f36-8f41-14a599229174",
   "metadata": {},
   "outputs": [],
   "source": []
  },
  {
   "cell_type": "code",
   "execution_count": null,
   "id": "22320409-a581-48b4-98ab-a2acbf2601b4",
   "metadata": {},
   "outputs": [],
   "source": []
  },
  {
   "cell_type": "code",
   "execution_count": null,
   "id": "bc36b11f-b125-4563-88db-7d5205b37bb7",
   "metadata": {},
   "outputs": [],
   "source": []
  },
  {
   "cell_type": "code",
   "execution_count": null,
   "id": "6ff70543-c9b6-478d-9bf0-4cbc7c3d4f5f",
   "metadata": {},
   "outputs": [],
   "source": [
    "binary_content_temp[header_info[0]:][4:]"
   ]
  },
  {
   "cell_type": "code",
   "execution_count": null,
   "id": "59a05f30-2d0a-4044-a8a8-36284d24b298",
   "metadata": {},
   "outputs": [],
   "source": [
    "json_view_GPSData"
   ]
  },
  {
   "cell_type": "code",
   "execution_count": null,
   "id": "23821b09-8008-48c7-b30a-0c25df7a084c",
   "metadata": {},
   "outputs": [],
   "source": [
    "json_view_preferences"
   ]
  },
  {
   "cell_type": "code",
   "execution_count": null,
   "id": "d6633357-315d-4ec7-af2d-410eaa014d57",
   "metadata": {},
   "outputs": [],
   "source": []
  },
  {
   "cell_type": "code",
   "execution_count": null,
   "id": "c92a88d8-a0ff-4fc1-99fd-139ca89d0739",
   "metadata": {},
   "outputs": [],
   "source": []
  },
  {
   "cell_type": "code",
   "execution_count": null,
   "id": "ca0596b5-ca4e-409a-a85b-ff07914a3e45",
   "metadata": {},
   "outputs": [],
   "source": []
  },
  {
   "cell_type": "code",
   "execution_count": null,
   "id": "acb53edb-b955-4079-b718-3abc50317d70",
   "metadata": {},
   "outputs": [],
   "source": []
  },
  {
   "cell_type": "code",
   "execution_count": null,
   "id": "f7dba3f3-6e48-466e-9ef8-78d054e0c1ca",
   "metadata": {},
   "outputs": [],
   "source": [
    "json_light_header[0]"
   ]
  },
  {
   "cell_type": "code",
   "execution_count": null,
   "id": "b6ea7be3-3e70-4738-a86d-cf16708b0da2",
   "metadata": {},
   "outputs": [],
   "source": []
  },
  {
   "cell_type": "code",
   "execution_count": null,
   "id": "a17bed26-648f-4be3-a936-a00294eee738",
   "metadata": {},
   "outputs": [],
   "source": [
    "light_header = lightheader_pb2.LightHeader()"
   ]
  },
  {
   "cell_type": "code",
   "execution_count": null,
   "id": "75fbcb62-2006-4fbc-bf34-764a99643ae0",
   "metadata": {},
   "outputs": [],
   "source": [
    "light_heads = []\n",
    "for i in resi[1:]:\n",
    "    if(i[3]==\"lightheader_pb2.LightHeader\"):\n",
    "        print(i)\n",
    "        try:\n",
    "            light_header = lightheader_pb2.LightHeader()\n",
    "            print(i[0] - i[1], i[1]+i[2])\n",
    "            light_header.ParseFromString(binary_content[i[1]:i[0]])\n",
    "            light_header_json = MessageToJson(light_header)\n",
    "            light_heads.append(json.loads(light_header_json))\n",
    "        except:\n",
    "            print(\"bruh\")"
   ]
  },
  {
   "cell_type": "code",
   "execution_count": null,
   "id": "b7a3162a-7abe-4286-af08-61f9ec4454fd",
   "metadata": {},
   "outputs": [],
   "source": []
  },
  {
   "cell_type": "code",
   "execution_count": null,
   "id": "710c20c0-3090-4897-b7e2-07c33e2d8950",
   "metadata": {},
   "outputs": [],
   "source": []
  },
  {
   "cell_type": "code",
   "execution_count": null,
   "id": "ebcae4ee-c746-451e-a93c-e1ba5bf88c6a",
   "metadata": {},
   "outputs": [],
   "source": [
    "len(light_heads)"
   ]
  },
  {
   "cell_type": "code",
   "execution_count": null,
   "id": "d5351f32-f1a8-4fe2-b282-e9d63ddf0580",
   "metadata": {},
   "outputs": [],
   "source": [
    "light_heads[1]"
   ]
  },
  {
   "cell_type": "code",
   "execution_count": null,
   "id": "32eca5bf-4408-4d85-a793-d2072f0eef63",
   "metadata": {},
   "outputs": [],
   "source": []
  },
  {
   "cell_type": "code",
   "execution_count": null,
   "id": "45b008f0-e40f-4818-993b-527235aa18a4",
   "metadata": {},
   "outputs": [],
   "source": []
  },
  {
   "cell_type": "code",
   "execution_count": null,
   "id": "a3561965-fc9e-4863-b7b3-dba17a4d8a5d",
   "metadata": {},
   "outputs": [],
   "source": [
    "light_heads[4]"
   ]
  },
  {
   "cell_type": "code",
   "execution_count": null,
   "id": "159152dc-6c14-454a-af0a-b0d17832be04",
   "metadata": {},
   "outputs": [],
   "source": [
    "parse_header(binary_content)"
   ]
  },
  {
   "cell_type": "code",
   "execution_count": null,
   "id": "63f6243b-9855-4b75-b27d-d4b15f20413b",
   "metadata": {},
   "outputs": [],
   "source": [
    "parse_header(binary_content[81143321:])"
   ]
  },
  {
   "cell_type": "code",
   "execution_count": null,
   "id": "8e8ae6cb-fe8c-4464-b456-eb9ece283b57",
   "metadata": {},
   "outputs": [],
   "source": [
    "light_header = lightheader_pb2.LightHeader()\n",
    "\n",
    "# Parse the binary data into the LightHeader message\n",
    "light_header.ParseFromString(binary_content[32:32+25])\n",
    "\n",
    "# Now you can access the LightHeader fields, for example:\n",
    "print(f\"Image Unique ID Low: {light_header.image_unique_id_low}\")\n",
    "print(f\"Device Model Name: {light_header.device_model_name}\")\n",
    "\n",
    "# Convert to JSON if needed\n",
    "from google.protobuf.json_format import MessageToJson\n",
    "light_header_json = MessageToJson(light_header)\n",
    "print(light_header_json)"
   ]
  },
  {
   "cell_type": "code",
   "execution_count": null,
   "id": "eb31104a-53f2-4200-b8b2-218b4fcc3fb5",
   "metadata": {},
   "outputs": [],
   "source": []
  },
  {
   "cell_type": "code",
   "execution_count": null,
   "id": "07e54537-1f5f-4abb-b6ef-2bb6b9bad8d8",
   "metadata": {},
   "outputs": [],
   "source": [
    "parse_header(binary_content[81141760:81145856])"
   ]
  },
  {
   "cell_type": "code",
   "execution_count": null,
   "id": "d95fb101-37db-47c0-95bc-9e420057c619",
   "metadata": {},
   "outputs": [],
   "source": [
    "light_header = lightheader_pb2.LightHeader()\n",
    "\n",
    "# Parse the binary data into the LightHeader message\n",
    "light_header.ParseFromString(binary_content[81145856:81141760])\n",
    "\n",
    "# Now you can access the LightHeader fields, for example:\n",
    "print(f\"Image Unique ID Low: {light_header.image_unique_id_low}\")\n",
    "print(f\"Device Model Name: {light_header.device_model_name}\")\n",
    "\n",
    "# Convert to JSON if needed\n",
    "from google.protobuf.json_format import MessageToJson\n",
    "light_header_json = MessageToJson(light_header)\n",
    "print(light_header_json)"
   ]
  },
  {
   "cell_type": "code",
   "execution_count": null,
   "id": "61341d96-b162-4585-b679-605246805243",
   "metadata": {},
   "outputs": [],
   "source": [
    "parse_header(binary_content[81143321+2535:])"
   ]
  },
  {
   "cell_type": "code",
   "execution_count": null,
   "id": "cfc40a23-5cc0-44e6-8720-ab95480f06f7",
   "metadata": {},
   "outputs": [],
   "source": []
  },
  {
   "cell_type": "code",
   "execution_count": null,
   "id": "d8bf6a8e-cc1d-4783-b36a-de3a210cb9e5",
   "metadata": {},
   "outputs": [],
   "source": [
    "parse_header(binary_content[81145856:])"
   ]
  },
  {
   "cell_type": "code",
   "execution_count": null,
   "id": "76252bc1-6fbf-4808-bfc3-cda579face51",
   "metadata": {},
   "outputs": [],
   "source": []
  },
  {
   "cell_type": "code",
   "execution_count": null,
   "id": "57caf289-89fe-4395-b992-b4f2fea01d8c",
   "metadata": {},
   "outputs": [],
   "source": []
  },
  {
   "cell_type": "code",
   "execution_count": null,
   "id": "eb490ad6-1ab8-4c25-9acb-d49a90e0f825",
   "metadata": {},
   "outputs": [],
   "source": []
  },
  {
   "cell_type": "code",
   "execution_count": null,
   "id": "212eb71a-8453-45ce-97a9-e3d04558154d",
   "metadata": {},
   "outputs": [],
   "source": []
  },
  {
   "cell_type": "code",
   "execution_count": null,
   "id": "25fefddd-7b57-4a60-becc-0681f5a8e0d4",
   "metadata": {},
   "outputs": [],
   "source": []
  },
  {
   "cell_type": "code",
   "execution_count": null,
   "id": "5cfe1954-40bb-4fc8-b658-992522026af7",
   "metadata": {},
   "outputs": [],
   "source": []
  },
  {
   "cell_type": "code",
   "execution_count": null,
   "id": "b990dce2-cf76-478d-a257-74ea5472f1ae",
   "metadata": {},
   "outputs": [],
   "source": [
    "if light_header.HasField('module_calibration'):\n",
    "    print(\"image_unique_id_low is present.\")\n",
    "else:\n",
    "    print(\"image_unique_id_low is not set.\")\n"
   ]
  },
  {
   "cell_type": "code",
   "execution_count": null,
   "id": "47839722-e570-4d6e-b1ea-1cd0bc91d6d1",
   "metadata": {},
   "outputs": [],
   "source": [
    "light_header.HasField('device_calibration')"
   ]
  },
  {
   "cell_type": "code",
   "execution_count": null,
   "id": "753fc14f-44e7-4220-a1ef-591fe34e38a2",
   "metadata": {},
   "outputs": [],
   "source": [
    "print(MessageToJson(light_header, including_default_value_fields=True))\n"
   ]
  },
  {
   "cell_type": "code",
   "execution_count": null,
   "id": "47ce24ba-4bea-456a-96a8-5cbd16802c05",
   "metadata": {},
   "outputs": [],
   "source": [
    "def parse_header(data):\n",
    "    magic = b\"LELR\"\n",
    "    if data[:4] != magic:\n",
    "        raise ValueError(\"Magic number is incorrect\")\n",
    "\n",
    "    combined_length, message_offset, message_length = struct.unpack('<QQL', data[4:24])\n",
    "    kind = data[24]\n",
    "\n",
    "    if kind == BlockType.LightHeader:\n",
    "        message_type = \"lightheader_pb2.LightHeader\"\n",
    "    elif kind == BlockType.ViewPreferences:\n",
    "        message_type = \"view_preferences_pb2.ViewPreferences\"\n",
    "    elif kind == BlockType.GPSData:\n",
    "        message_type = \"gps_data_pb2.GPSData\"\n",
    "    else:\n",
    "        raise ValueError(f\"Unknown block type {kind}\")\n",
    "\n",
    "    return combined_length, message_offset, message_length, message_type"
   ]
  },
  {
   "cell_type": "code",
   "execution_count": null,
   "id": "7c8bfe12-e4b2-4db2-a1bb-5def07771510",
   "metadata": {},
   "outputs": [],
   "source": [
    "import json\n",
    "from google.protobuf.json_format import MessageToJson\n",
    "import lightheader_pb2\n",
    "\n",
    "def parse_light_header(block):\n",
    "    \"\"\"\n",
    "    Attempts to parse a block into a LightHeader protobuf object.\n",
    "    Returns the parsed object as JSON if successful, None otherwise.\n",
    "    \"\"\"\n",
    "    try:\n",
    "        # Assuming parse_header_mod returns a tuple with (offset_start, offset_length, other_info, type_info)\n",
    "        parsed_info = parse_header_mod(block)\n",
    "        \n",
    "        if parsed_info[3] == \"lightheader_pb2.LightHeader\":\n",
    "            light_header = lightheader_pb2.LightHeader()\n",
    "            light_header.ParseFromString(block[parsed_info[1]:parsed_info[1] + parsed_info[2]])\n",
    "            light_header_json = MessageToJson(light_header)\n",
    "            return json.loads(light_header_json)\n",
    "    except Exception as e:\n",
    "        print(f\"Error parsing block: {e}\")\n",
    "    return None\n",
    "\n",
    "def process_binary_content(binary_content):\n",
    "    \"\"\"\n",
    "    Splits the binary content by 'LELR', attempts to parse each block into a LightHeader,\n",
    "    and collects the successful parses.\n",
    "    \"\"\"\n",
    "    json_light_headers = []\n",
    "    error_counter = 0\n",
    "    blocks = binary_content.split(b'LELR')[1:]  # Skip the first split part if it's empty\n",
    "\n",
    "    for block in blocks:\n",
    "        block_with_prefix = b'LELR' + block  # Re-add the prefix if needed for parsing\n",
    "        result = parse_light_header(block_with_prefix)\n",
    "        if result:\n",
    "            json_light_headers.append(result)\n",
    "        else:\n",
    "            error_counter += 1\n",
    "\n",
    "    return json_light_headers, error_counter\n",
    "\n",
    "# Example usage\n",
    "# binary_content = b'...'  # Your binary content here\n"
   ]
  },
  {
   "cell_type": "code",
   "execution_count": null,
   "id": "efc98e9f-e2ff-4e67-ac52-4c99e540f923",
   "metadata": {},
   "outputs": [],
   "source": [
    "file_path = \"../lrifiles/goose.lri\"\n",
    "binary_content = read_binary_file(filepath)"
   ]
  },
  {
   "cell_type": "code",
   "execution_count": null,
   "id": "f95851d1-900e-48e8-a112-20eb4dc75768",
   "metadata": {},
   "outputs": [],
   "source": [
    "json_light_headers, error_counter = process_binary_content(binary_content)\n",
    "print(f\"Processed {len(json_light_headers)} light headers with {error_counter} errors.\")"
   ]
  },
  {
   "cell_type": "code",
   "execution_count": null,
   "id": "855ac6ed-4eaf-407b-bd0b-fd0b49ea8aa2",
   "metadata": {},
   "outputs": [],
   "source": []
  },
  {
   "cell_type": "code",
   "execution_count": null,
   "id": "b489f726",
   "metadata": {},
   "outputs": [],
   "source": []
  }
 ],
 "metadata": {
  "kernelspec": {
   "display_name": "cv",
   "language": "python",
   "name": "cv"
  },
  "language_info": {
   "codemirror_mode": {
    "name": "ipython",
    "version": 3
   },
   "file_extension": ".py",
   "mimetype": "text/x-python",
   "name": "python",
   "nbconvert_exporter": "python",
   "pygments_lexer": "ipython3",
   "version": "3.8.6"
  }
 },
 "nbformat": 4,
 "nbformat_minor": 5
}
