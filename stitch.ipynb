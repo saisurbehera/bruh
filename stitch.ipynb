{
 "cells": [
  {
   "cell_type": "code",
   "execution_count": 1,
   "id": "0072c16d-08e9-44a4-a331-9e1e2c507c0b",
   "metadata": {},
   "outputs": [
    {
     "name": "stdout",
     "output_type": "stream",
     "text": [
      "Defaulting to user installation because normal site-packages is not writeable\n",
      "Requirement already satisfied: protobuf in /usr/lib/python3/dist-packages (3.12.4)\n"
     ]
    }
   ],
   "source": [
    "!pip install protobuf"
   ]
  },
  {
   "cell_type": "code",
   "execution_count": 3,
   "id": "623726a9-0e9c-4940-bbe4-93d5d813b47e",
   "metadata": {},
   "outputs": [
    {
     "name": "stdout",
     "output_type": "stream",
     "text": [
      "B1.png\tB3.png\tB5.png\tC2.png\tC4.png\tC6.png\n",
      "B2.png\tB4.png\tC1.png\tC3.png\tC5.png\n"
     ]
    }
   ],
   "source": [
    "!ls goose"
   ]
  },
  {
   "cell_type": "code",
   "execution_count": 1,
   "id": "ed7bd4af-f089-419b-9e83-2de38739676b",
   "metadata": {},
   "outputs": [],
   "source": [
    "import cv2\n"
   ]
  },
  {
   "cell_type": "code",
   "execution_count": 2,
   "id": "fb97bb62-27a6-4f31-a907-607f3cdcfb70",
   "metadata": {},
   "outputs": [],
   "source": [
    "import cv2\n",
    "import numpy as np\n",
    "\n",
    "def stitch_images(images):\n",
    "    # Initialize OpenCV's Stitcher class\n",
    "    stitcher = cv2.Stitcher_create()\n",
    "    \n",
    "    # Stitch the images together\n",
    "    status, stitched = stitcher.stitch(images)\n",
    "    \n",
    "    # Check if the stitching was successful\n",
    "    if status == cv2.Stitcher_OK:\n",
    "        return stitched\n",
    "    else:\n",
    "        print('Image stitching failed.')\n",
    "        return None\n"
   ]
  },
  {
   "cell_type": "code",
   "execution_count": 3,
   "id": "f5a46d61-b10e-4146-aeec-d799edfa6088",
   "metadata": {},
   "outputs": [],
   "source": [
    "from glob import glob\n",
    "files = glob(\"goose/*.png\")\n",
    "files_cv2 = [cv2.imread(i) for i in files]"
   ]
  },
  {
   "cell_type": "code",
   "execution_count": 4,
   "id": "4b7fa37e-814a-4b35-bf05-409f190dc138",
   "metadata": {},
   "outputs": [],
   "source": [
    "# # Load your images - ensure they are in the correct order for stitching\n",
    "# image1 = cv2.imread('path/to/your/image1.png')\n",
    "# image2 = cv2.imread('path/to/your/image2.png')\n",
    "# images = [image1, image2]\n",
    "\n",
    "# Stitch the images\n",
    "stitched_image = stitch_images(files_cv2)\n",
    "\n",
    "# If stitching was successful, save or display the stitched image\n",
    "if stitched_image is not None:\n",
    "    cv2.imwrite('stitched_image.png', stitched_image)\n",
    "    # # Opetionally display the result\n",
    "    # cv2.imshow('Stitched Image', stitched_image)\n",
    "    # cv2.waitKey(0)\n",
    "    # cv2.destroyAllWindows()\n"
   ]
  },
  {
   "cell_type": "code",
   "execution_count": 6,
   "id": "b2d9bf26-9e28-4370-ae41-ac2b069e961b",
   "metadata": {},
   "outputs": [
    {
     "data": {
      "text/plain": [
       "['goose/B1.png',\n",
       " 'goose/C1.png',\n",
       " 'goose/B2.png',\n",
       " 'goose/B3.png',\n",
       " 'goose/B4.png',\n",
       " 'goose/C6.png',\n",
       " 'goose/B5.png',\n",
       " 'goose/C2.png',\n",
       " 'goose/C3.png',\n",
       " 'goose/C5.png',\n",
       " 'goose/C4.png']"
      ]
     },
     "execution_count": 6,
     "metadata": {},
     "output_type": "execute_result"
    }
   ],
   "source": [
    "files"
   ]
  },
  {
   "cell_type": "code",
   "execution_count": 7,
   "id": "b69d8093-e0c1-4fec-aace-b8dcabee8e9c",
   "metadata": {},
   "outputs": [],
   "source": [
    "import cv2\n",
    "import numpy as np\n",
    "\n",
    "def align_images(base_img, img_to_align):\n",
    "    # Initialize SIFT detector\n",
    "    sift = cv2.SIFT_create()\n",
    "\n",
    "    # Find the keypoints and descriptors with SIFT\n",
    "    keypoints_base, descriptors_base = sift.detectAndCompute(base_img, None)\n",
    "    keypoints_to_align, descriptors_to_align = sift.detectAndCompute(img_to_align, None)\n",
    "\n",
    "    # Create BFMatcher object and match descriptors\n",
    "    bf = cv2.BFMatcher()\n",
    "    matches = bf.knnMatch(descriptors_base, descriptors_to_align, k=2)\n",
    "\n",
    "    # Apply ratio test to find good matches\n",
    "    good_matches = []\n",
    "    for m, n in matches:\n",
    "        if m.distance < 0.75 * n.distance:\n",
    "            good_matches.append(m)\n",
    "\n",
    "    # Extract location of good matches\n",
    "    points_base = np.zeros((len(good_matches), 2), dtype=np.float32)\n",
    "    points_to_align = np.zeros_like(points_base)\n",
    "\n",
    "    for i, match in enumerate(good_matches):\n",
    "        points_base[i, :] = keypoints_base[match.queryIdx].pt\n",
    "        points_to_align[i, :] = keypoints_to_align[match.trainIdx].pt\n",
    "\n",
    "    # Find homography\n",
    "    H, _ = cv2.findHomography(points_to_align, points_base, cv2.RANSAC)\n",
    "\n",
    "    # Use homography to warp images\n",
    "    height, width, channels = base_img.shape\n",
    "    aligned_img = cv2.warpPerspective(img_to_align, H, (width, height))\n",
    "    \n",
    "    return aligned_img"
   ]
  },
  {
   "cell_type": "code",
   "execution_count": 8,
   "id": "fef0ccd8-3248-4e85-8d91-4be949363b7f",
   "metadata": {},
   "outputs": [],
   "source": [
    "images = files_cv2"
   ]
  },
  {
   "cell_type": "code",
   "execution_count": 9,
   "id": "8f849476-be35-4532-b92a-7ca9e70e0655",
   "metadata": {},
   "outputs": [],
   "source": [
    "base_img = images[0]\n",
    "\n",
    "# Align each image to the base image\n",
    "aligned_images = [base_img]  # The first image is already aligned with itself\n",
    "for img in images[1:]:\n",
    "    aligned_img = align_images(base_img, img)\n",
    "    aligned_images.append(aligned_img)\n",
    "\n",
    "# Save or process aligned images\n",
    "for i, aligned_img in enumerate(aligned_images):\n",
    "    cv2.imwrite(f'aligned_image_{i}.png', aligned_img)"
   ]
  },
  {
   "cell_type": "code",
   "execution_count": 1,
   "id": "bbfd2bf5-ef52-488f-9c73-da799bd949c8",
   "metadata": {},
   "outputs": [],
   "source": [
    "from PIL import Image\n",
    "\n",
    "def reduce_png_file_size(image_path, output_path, resize_factor=None):\n",
    "    # Load the image\n",
    "    img = Image.open(image_path)\n",
    "\n",
    "    # Optionally resize the image\n",
    "    if resize_factor is not None and 0 < resize_factor < 1:\n",
    "        new_width = int(img.width * resize_factor)\n",
    "        new_height = int(img.height * resize_factor)\n",
    "        img = img.resize((new_width, new_height), Image.ANTIALIAS)\n",
    "\n",
    "    # Save the image with optimization\n",
    "    img.save(output_path, optimize=True, quality=85)\n",
    "\n",
    "# Example usage\n",
    "image_path = 'resized_image_image.png'\n",
    "output_path = 'goose_smaller_b1_b2_sift_ransac.png'\n",
    "reduce_png_file_size(image_path, output_path, resize_factor=0.5)  # Resize to 50% of the original dimensions\n"
   ]
  },
  {
   "cell_type": "code",
   "execution_count": 1,
   "id": "23d24ca9-aa50-4d2a-91c2-132d8a1ee866",
   "metadata": {},
   "outputs": [
    {
     "name": "stdout",
     "output_type": "stream",
     "text": [
      "B1.png\tB3.png\tB5.png\tC2.png\tC4.png\tC6.png\n",
      "B2.png\tB4.png\tC1.png\tC3.png\tC5.png\n"
     ]
    }
   ],
   "source": [
    "!ls goose"
   ]
  },
  {
   "cell_type": "code",
   "execution_count": null,
   "id": "94a0d59d-22df-475b-8fd8-3bba5fd93812",
   "metadata": {},
   "outputs": [],
   "source": [
    "import cv2\n",
    "import numpy as np\n",
    "\n",
    "# Load the image\n",
    "image = cv2.imread('goose/B1.png')\n",
    "\n",
    "# Convert the image to grayscale\n",
    "gray = cv2.cvtColor(image, cv2.COLOR_BGR2GRAY)\n",
    "\n",
    "# Initialize the SIFT detector\n",
    "sift = cv2.SIFT_create()\n",
    "\n",
    "# Detect keypoints in the image\n",
    "keypoints = sift.detect(gray, None)\n",
    "\n",
    "# Draw the keypoints on the image\n",
    "keypoint_image = np.zeros_like(image)\n",
    "keypoint_image = cv2.drawKeypoints(image, keypoints, keypoint_image, flags=cv2.DRAW_MATCHES_FLAGS_DRAW_RICH_KEYPOINTS)\n",
    "\n",
    "# Display the image with keypoints\n",
    "cv2.imshow('SIFT Keypoints', keypoint_image)\n",
    "cv2.waitKey(0)\n",
    "cv2.destroyAllWindows()"
   ]
  },
  {
   "cell_type": "code",
   "execution_count": null,
   "id": "3b9e0e96-1c61-4847-b3bb-a0d68f0f1c22",
   "metadata": {},
   "outputs": [],
   "source": []
  }
 ],
 "metadata": {
  "kernelspec": {
   "display_name": "Python 3 (ipykernel)",
   "language": "python",
   "name": "python3"
  },
  "language_info": {
   "codemirror_mode": {
    "name": "ipython",
    "version": 3
   },
   "file_extension": ".py",
   "mimetype": "text/x-python",
   "name": "python",
   "nbconvert_exporter": "python",
   "pygments_lexer": "ipython3",
   "version": "3.10.12"
  }
 },
 "nbformat": 4,
 "nbformat_minor": 5
}
